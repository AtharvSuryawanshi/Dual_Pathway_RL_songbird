{
 "cells": [
  {
   "cell_type": "markdown",
   "id": "090855e2",
   "metadata": {},
   "source": [
    "# Elife Paper \n",
    "## Figure 2\n",
    "### Reward Landscapes"
   ]
  },
  {
   "cell_type": "code",
   "execution_count": 1,
   "id": "0d5ce702",
   "metadata": {},
   "outputs": [],
   "source": [
    "import os \n",
    "import numpy as np\n",
    "import matplotlib.pyplot as plt\n",
    "import json \n",
    "import pickle\n",
    "from functions import *"
   ]
  },
  {
   "cell_type": "code",
   "execution_count": 2,
   "id": "56b0dc86",
   "metadata": {},
   "outputs": [],
   "source": [
    "# load parameters from json file\n",
    "params_path = \"params_2.json\"\n",
    "# Open the file and read the contents\n",
    "with open(params_path, \"r\") as f:\n",
    "    parameters = json.load(f)"
   ]
  },
  {
   "cell_type": "code",
   "execution_count": 3,
   "id": "80b86f0d",
   "metadata": {},
   "outputs": [
    {
     "name": "stdout",
     "output_type": "stream",
     "text": [
      "1\n",
      "Random seed is 40\n"
     ]
    }
   ],
   "source": [
    "# running conditions\n",
    "N_DAILY_MOTIFS = parameters['params']['TRIALS'] # trials per day per syllable  # old code TRIALS\n",
    "TRIALS = N_DAILY_MOTIFS\n",
    "BG_INTACT_DAYS = parameters['params']['BG_INTACT_DAYS']\n",
    "DAYS = parameters['params']['DAYS'] # days for learning\n",
    "N_SYLL = parameters['params']['N_SYLL'] # number of syllables   \n",
    "if N_SYLL > 5 or N_SYLL < 1:\n",
    "    ValueError('Invalid number of syllables')\n",
    "RANDOM_SEED = 40\n",
    "ANNEALING = parameters['params']['ANNEALING'] # annealing \n",
    "print(ANNEALING)                  \n",
    "print(f'Random seed is {RANDOM_SEED}')"
   ]
  },
  {
   "cell_type": "code",
   "execution_count": 4,
   "id": "5624c976",
   "metadata": {},
   "outputs": [
    {
     "name": "stdout",
     "output_type": "stream",
     "text": [
      "Model 'model_4_40' loaded successfully!\n"
     ]
    }
   ],
   "source": [
    "# Config\n",
    "# 1 to load model\n",
    "# 1 to save model\n",
    "load = 1\n",
    "save = 0\n",
    "model_version = \"model_4_40\"  # e.g., \"model\",\"model_1\" \"model20\", \"model_4_40\", \"model_syrinx_4_41\"etc.\n",
    "\n",
    "model_path = f\"{model_version}.pkl\"\n",
    "\n",
    "if load:\n",
    "    if os.path.exists(model_path):\n",
    "        with open(model_path, 'rb') as f:\n",
    "            obj = pickle.load(f)\n",
    "            print(f\"Model '{model_version}' loaded successfully!\")\n",
    "    else:\n",
    "        raise FileNotFoundError(f\"Model file '{model_path}' not found.\")\n",
    "\n",
    "else:\n",
    "    obj = Environment(RANDOM_SEED, parameters, NN)\n",
    "    obj.run(parameters, ANNEALING)\n",
    "\n",
    "    if save:\n",
    "        if os.path.exists(model_path):\n",
    "            print(f\"Model file '{model_path}' already exists. Not overwriting.\")\n",
    "        else:\n",
    "            try:\n",
    "                pickle.dumps(obj)  # Test serialization\n",
    "                with open(model_path, \"wb\") as f:\n",
    "                    pickle.dump(obj, f)\n",
    "                print(f\"Model '{model_version}' saved successfully.\")\n",
    "            except pickle.PicklingError:\n",
    "                print(\"Object cannot be pickled!\")\n"
   ]
  },
  {
   "cell_type": "code",
   "execution_count": 6,
   "id": "33aec9ec",
   "metadata": {},
   "outputs": [],
   "source": [
    "def plot_lansdcape(syll, force_landscape=False, landscape=1):\n",
    "    fig, axs = plt.subplots(figsize=(10, 9))\n",
    "    cmap = 'Purples' #LinearSegmentedColormap.from_list('white_to_black', ['white', 'rebeccapurple'])\n",
    "    levels_ = 50\n",
    "    def plot_artificial():\n",
    "        limit = obj.limit\n",
    "        x, y = np.linspace(-limit, limit, 50), np.linspace(-limit, limit, 50)\n",
    "        X, Y = np.meshgrid(x, y)\n",
    "        Z = obj.get_reward([X, Y], syll)\n",
    "        contour = axs.contourf(X, Y, Z, levels=levels_, cmap=cmap)\n",
    "        axs.contour(X, Y, Z, levels=10, colors='k', linewidths=1, alpha=0.9)\n",
    "        cbar = fig.colorbar(contour, ax=axs)\n",
    "        cbar.set_label('Performance Metric (R)', fontsize=20, rotation = 270)\n",
    "        cbar.ax.tick_params(labelsize=18)\n",
    "        cbar.ax.set_yticks([0,1])\n",
    "\n",
    "        axs.set_xticks([-limit, 0, limit], [-1, 0, 1])\n",
    "        axs.set_yticks([-limit, 0, limit], [-1, 0, 1])\n",
    "\n",
    "    def plot_syrinx():\n",
    "        if obj.N_SYLL > 4:\n",
    "            raise ValueError('Only 4 syllables are available in the syrinx landscape')\n",
    "        obj.syrinx_contours = []\n",
    "        obj.syrinx_targets = []\n",
    "        for j in range(obj.N_SYLL):\n",
    "            base = np.load(f\"contours/Syll{j+1}.npy\")\n",
    "            Z, target = make_contour(base)\n",
    "            obj.syrinx_contours.append(Z)\n",
    "            obj.syrinx_targets.append(target)\n",
    "        obj.centers = np.array(obj.syrinx_targets)\n",
    "        obj.syrinx_contours = np.array(obj.syrinx_contours)\n",
    "        Z = obj.syrinx_contours[syll]\n",
    "        target_pos = obj.syrinx_targets[syll]\n",
    "        axs.contour(Z.T, levels=10, extent=[-1, 1, -1, 1], colors='k', linewidths=1, alpha=1)\n",
    "        cs = axs.contourf(Z.T, cmap=cmap, extent=[-1, 1, -1, 1], levels=levels_)\n",
    "        cbar = fig.colorbar(cs, ax = axs)\n",
    "        cbar.set_label('Performance Metric (R)', fontsize=20, rotation = 270)\n",
    "        cbar.ax.tick_params(labelsize=18)\n",
    "        cbar.ax.set_yticks([0,1])\n",
    "        axs.set_xticks([-1, 1], [0, 1])\n",
    "        axs.set_yticks([-1,1], [0, 0.2])\n",
    "        # axs.scatter(target_pos[1], target_pos[0], s=100, c='green', marker='x', label='Target')\n",
    "\n",
    "    if not force_landscape:\n",
    "        if obj.LANDSCAPE == 0:\n",
    "            print(\"No force artificial landscape\")\n",
    "            plot_artificial()\n",
    "        else:\n",
    "            plot_syrinx()\n",
    "    else:\n",
    "        if landscape == 0:\n",
    "            plot_artificial()\n",
    "        else:\n",
    "            plot_syrinx()\n",
    "\n",
    "    # axs.set_ylabel(r'$P_{\\alpha}$', fontsize=22)\n",
    "    # axs.set_xlabel(r'$P_{\\beta}$', fontsize=22)\n",
    "    axs.set_ylabel(r'$P_{\\alpha}$ (Pressure)', fontsize=22)\n",
    "    axs.set_xlabel(r'$P_{\\beta}$ (Tension)', fontsize=22)\n",
    "    axs.tick_params(labelsize=16)\n",
    "    axs.legend()\n",
    "    plt.tight_layout()\n",
    "    plt.show()\n",
    "\n",
    "\n",
    "\n",
    "# for i in range(N_SYLL):\n",
    "#     plot_lansdcape(i, force_landscape=0, landscape= 1)\n",
    "\n",
    "# for i in range(N_SYLL):\n",
    "#     plot_lansdcape(i, force_landscape=1, landscape= 1)      "
   ]
  },
  {
   "cell_type": "markdown",
   "id": "ad07af22",
   "metadata": {},
   "source": [
    "### Spectrograms"
   ]
  }
 ],
 "metadata": {
  "kernelspec": {
   "display_name": "base",
   "language": "python",
   "name": "python3"
  },
  "language_info": {
   "codemirror_mode": {
    "name": "ipython",
    "version": 3
   },
   "file_extension": ".py",
   "mimetype": "text/x-python",
   "name": "python",
   "nbconvert_exporter": "python",
   "pygments_lexer": "ipython3",
   "version": "3.12.5"
  }
 },
 "nbformat": 4,
 "nbformat_minor": 5
}
