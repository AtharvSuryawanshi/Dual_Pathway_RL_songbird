{
 "cells": [
  {
   "cell_type": "markdown",
   "metadata": {},
   "source": [
    "# Data analysis"
   ]
  },
  {
   "cell_type": "code",
   "execution_count": 2,
   "metadata": {},
   "outputs": [
    {
     "name": "stdout",
     "output_type": "stream",
     "text": [
      "Neighboring files:\n",
      "Removed JSON file: ANNEALING\\parameters_0.json\n",
      "Removed JSON file: ANNEALING\\parameters_1.json\n",
      "Removed JSON file: ANNEALING_MID\\parameters_1.json\n",
      "Removed JSON file: ANNEALING_MID\\parameters_2.json\n",
      "Removed JSON file: ANNEALING_MID\\parameters_3.json\n",
      "Removed JSON file: ANNEALING_MID\\parameters_4.json\n",
      "Removed JSON file: ANNEALING_SLOPE\\parameters_1.json\n",
      "Removed JSON file: ANNEALING_SLOPE\\parameters_2.json\n",
      "Removed JSON file: ANNEALING_SLOPE\\parameters_3.json\n",
      "Removed JSON file: ANNEALING_SLOPE\\parameters_4.json\n",
      "Removed JSON file: ANNEALING_SLOPE\\parameters_5.json\n",
      "Removed JSON file: ANNEALING_SLOPE\\parameters_6.json\n",
      "Removed JSON file: BG_NOISE\\parameters_0.05.json\n",
      "Removed JSON file: BG_NOISE\\parameters_0.1.json\n",
      "Removed JSON file: BG_NOISE\\parameters_0.2.json\n",
      "Removed JSON file: BG_NOISE\\parameters_0.3.json\n",
      "Removed JSON file: BG_NOISE\\parameters_0.5.json\n",
      "Removed JSON file: JUMP_MID\\parameters_0.4.json\n",
      "Removed JSON file: JUMP_MID\\parameters_0.5.json\n",
      "Removed JSON file: JUMP_MID\\parameters_0.6.json\n",
      "Removed JSON file: JUMP_MID\\parameters_0.7.json\n",
      "Removed JSON file: JUMP_MID\\parameters_0.8.json\n",
      "Removed JSON file: JUMP_MID\\parameters_0.9.json\n",
      "Removed JSON file: JUMP_SLOPE\\parameters_1.json\n",
      "Removed JSON file: JUMP_SLOPE\\parameters_2.json\n",
      "Removed JSON file: JUMP_SLOPE\\parameters_3.json\n",
      "Removed JSON file: JUMP_SLOPE\\parameters_4.json\n",
      "Removed JSON file: JUMP_SLOPE\\parameters_5.json\n",
      "Removed JSON file: LEARNING_RATE_HL\\parameters_0.0001.json\n",
      "Removed JSON file: LEARNING_RATE_HL\\parameters_0.json\n",
      "Removed JSON file: LEARNING_RATE_HL\\parameters_1e-05.json\n",
      "Removed JSON file: LEARNING_RATE_HL\\parameters_2e-05.json\n",
      "Removed JSON file: LEARNING_RATE_HL\\parameters_5e-05.json\n",
      "Removed JSON file: LEARNING_RATE_RL\\parameters_0.01.json\n",
      "Removed JSON file: LEARNING_RATE_RL\\parameters_0.05.json\n",
      "Removed JSON file: LEARNING_RATE_RL\\parameters_0.1.json\n",
      "Removed JSON file: LEARNING_RATE_RL\\parameters_0.2.json\n",
      "Removed JSON file: LEARNING_RATE_RL\\parameters_0.4.json\n",
      "Removed JSON file: N_BG_CLUSTERS\\parameters_10.json\n",
      "Removed JSON file: N_BG_CLUSTERS\\parameters_2.json\n",
      "Removed JSON file: N_DISTRACTORS\\parameters_10.json\n",
      "Removed JSON file: N_DISTRACTORS\\parameters_20.json\n",
      "Removed JSON file: N_DISTRACTORS\\parameters_5.json\n",
      "Removed JSON file: N_DISTRACTORS\\parameters_50.json\n",
      "Removed JSON file: plots\\parameters_0.01.json\n",
      "Removed JSON file: plots\\parameters_0.02.json\n",
      "Removed JSON file: plots\\parameters_0.05.json\n",
      "Removed JSON file: plots\\parameters_0.1.json\n",
      "Removed JSON file: plots\\parameters_0.json\n",
      "Removed JSON file: RA_NOISE\\parameters_0.01.json\n",
      "Removed JSON file: RA_NOISE\\parameters_0.02.json\n",
      "Removed JSON file: RA_NOISE\\parameters_0.05.json\n",
      "Removed JSON file: RA_NOISE\\parameters_0.1.json\n",
      "Removed JSON file: RA_NOISE\\parameters_0.json\n",
      "Removed JSON file: RA_SIG_SLOPE\\parameters_18.json\n",
      "Removed JSON file: RA_SIG_SLOPE\\parameters_9.json\n",
      "Removed JSON file: REWARD_WINDOW\\parameters_10.json\n",
      "Removed JSON file: REWARD_WINDOW\\parameters_25.json\n",
      "Removed JSON file: REWARD_WINDOW\\parameters_5.json\n",
      "Removed JSON file: REWARD_WINDOW\\parameters_50.json\n",
      "Removed JSON file: TARGET_WIDTH\\parameters_0.1.json\n",
      "Removed JSON file: TARGET_WIDTH\\parameters_0.2.json\n",
      "Removed JSON file: TARGET_WIDTH\\parameters_0.3.json\n",
      "Removed JSON file: TARGET_WIDTH\\parameters_0.5.json\n",
      "Removed JSON file: TARGET_WIDTH\\parameters_0.7.json\n",
      "Removed JSON file: WEIGHT_JUMP\\parameters_0.json\n",
      "Removed JSON file: WEIGHT_JUMP\\parameters_1.json\n",
      "Removed JSON file: __pycache__\\parameters_0.01.json\n",
      "Removed JSON file: __pycache__\\parameters_0.02.json\n",
      "Removed JSON file: __pycache__\\parameters_0.05.json\n",
      "Removed JSON file: __pycache__\\parameters_0.1.json\n",
      "Removed JSON file: __pycache__\\parameters_0.json\n",
      "Modified parameter 'params/ANNEALING' to 1 and saved to ANNEALING/parameters_1.json\n",
      "Modified parameter 'params/ANNEALING' to 0 and saved to ANNEALING/parameters_0.json\n",
      "Modified parameter 'params/ANNEALING_MID' to 1 and saved to ANNEALING_MID/parameters_1.json\n",
      "Modified parameter 'params/ANNEALING_MID' to 2 and saved to ANNEALING_MID/parameters_2.json\n",
      "Modified parameter 'params/ANNEALING_MID' to 3 and saved to ANNEALING_MID/parameters_3.json\n",
      "Modified parameter 'params/ANNEALING_MID' to 4 and saved to ANNEALING_MID/parameters_4.json\n",
      "Modified parameter 'params/ANNEALING_SLOPE' to 1 and saved to ANNEALING_SLOPE/parameters_1.json\n",
      "Modified parameter 'params/ANNEALING_SLOPE' to 2 and saved to ANNEALING_SLOPE/parameters_2.json\n",
      "Modified parameter 'params/ANNEALING_SLOPE' to 3 and saved to ANNEALING_SLOPE/parameters_3.json\n",
      "Modified parameter 'params/ANNEALING_SLOPE' to 4 and saved to ANNEALING_SLOPE/parameters_4.json\n",
      "Modified parameter 'params/ANNEALING_SLOPE' to 5 and saved to ANNEALING_SLOPE/parameters_5.json\n",
      "Modified parameter 'params/ANNEALING_SLOPE' to 6 and saved to ANNEALING_SLOPE/parameters_6.json\n",
      "Modified parameter 'params/BG_NOISE' to 0.05 and saved to BG_NOISE/parameters_0.05.json\n",
      "Modified parameter 'params/BG_NOISE' to 0.1 and saved to BG_NOISE/parameters_0.1.json\n",
      "Modified parameter 'params/BG_NOISE' to 0.2 and saved to BG_NOISE/parameters_0.2.json\n",
      "Modified parameter 'params/BG_NOISE' to 0.3 and saved to BG_NOISE/parameters_0.3.json\n",
      "Modified parameter 'params/BG_NOISE' to 0.5 and saved to BG_NOISE/parameters_0.5.json\n",
      "Modified parameter 'params/JUMP_MID' to 0.4 and saved to JUMP_MID/parameters_0.4.json\n",
      "Modified parameter 'params/JUMP_MID' to 0.5 and saved to JUMP_MID/parameters_0.5.json\n",
      "Modified parameter 'params/JUMP_MID' to 0.6 and saved to JUMP_MID/parameters_0.6.json\n",
      "Modified parameter 'params/JUMP_MID' to 0.7 and saved to JUMP_MID/parameters_0.7.json\n",
      "Modified parameter 'params/JUMP_MID' to 0.8 and saved to JUMP_MID/parameters_0.8.json\n",
      "Modified parameter 'params/JUMP_MID' to 0.9 and saved to JUMP_MID/parameters_0.9.json\n",
      "Modified parameter 'params/JUMP_SLOPE' to 1 and saved to JUMP_SLOPE/parameters_1.json\n",
      "Modified parameter 'params/JUMP_SLOPE' to 2 and saved to JUMP_SLOPE/parameters_2.json\n",
      "Modified parameter 'params/JUMP_SLOPE' to 3 and saved to JUMP_SLOPE/parameters_3.json\n",
      "Modified parameter 'params/JUMP_SLOPE' to 4 and saved to JUMP_SLOPE/parameters_4.json\n",
      "Modified parameter 'params/JUMP_SLOPE' to 5 and saved to JUMP_SLOPE/parameters_5.json\n",
      "Modified parameter 'params/LEARNING_RATE_HL' to 0 and saved to LEARNING_RATE_HL/parameters_0.json\n",
      "Modified parameter 'params/LEARNING_RATE_HL' to 1e-05 and saved to LEARNING_RATE_HL/parameters_1e-05.json\n",
      "Modified parameter 'params/LEARNING_RATE_HL' to 2e-05 and saved to LEARNING_RATE_HL/parameters_2e-05.json\n",
      "Modified parameter 'params/LEARNING_RATE_HL' to 5e-05 and saved to LEARNING_RATE_HL/parameters_5e-05.json\n",
      "Modified parameter 'params/LEARNING_RATE_HL' to 0.0001 and saved to LEARNING_RATE_HL/parameters_0.0001.json\n",
      "Modified parameter 'params/LEARNING_RATE_RL' to 0.01 and saved to LEARNING_RATE_RL/parameters_0.01.json\n",
      "Modified parameter 'params/LEARNING_RATE_RL' to 0.05 and saved to LEARNING_RATE_RL/parameters_0.05.json\n",
      "Modified parameter 'params/LEARNING_RATE_RL' to 0.1 and saved to LEARNING_RATE_RL/parameters_0.1.json\n",
      "Modified parameter 'params/LEARNING_RATE_RL' to 0.2 and saved to LEARNING_RATE_RL/parameters_0.2.json\n",
      "Modified parameter 'params/LEARNING_RATE_RL' to 0.4 and saved to LEARNING_RATE_RL/parameters_0.4.json\n",
      "Modified parameter 'params/N_BG_CLUSTERS' to 2 and saved to N_BG_CLUSTERS/parameters_2.json\n",
      "Modified parameter 'params/N_BG_CLUSTERS' to 10 and saved to N_BG_CLUSTERS/parameters_10.json\n",
      "Modified parameter 'params/N_DISTRACTORS' to 5 and saved to N_DISTRACTORS/parameters_5.json\n",
      "Modified parameter 'params/N_DISTRACTORS' to 10 and saved to N_DISTRACTORS/parameters_10.json\n",
      "Modified parameter 'params/N_DISTRACTORS' to 20 and saved to N_DISTRACTORS/parameters_20.json\n",
      "Modified parameter 'params/N_DISTRACTORS' to 50 and saved to N_DISTRACTORS/parameters_50.json\n",
      "Modified parameter 'params/N_DISTRACTORS' to 5 and saved to plots/parameters_5.json\n",
      "Modified parameter 'params/N_DISTRACTORS' to 10 and saved to plots/parameters_10.json\n",
      "Modified parameter 'params/N_DISTRACTORS' to 20 and saved to plots/parameters_20.json\n",
      "Modified parameter 'params/N_DISTRACTORS' to 50 and saved to plots/parameters_50.json\n",
      "Modified parameter 'params/RA_NOISE' to 0 and saved to RA_NOISE/parameters_0.json\n",
      "Modified parameter 'params/RA_NOISE' to 0.01 and saved to RA_NOISE/parameters_0.01.json\n",
      "Modified parameter 'params/RA_NOISE' to 0.02 and saved to RA_NOISE/parameters_0.02.json\n",
      "Modified parameter 'params/RA_NOISE' to 0.05 and saved to RA_NOISE/parameters_0.05.json\n",
      "Modified parameter 'params/RA_NOISE' to 0.1 and saved to RA_NOISE/parameters_0.1.json\n",
      "Modified parameter 'params/RA_SIG_SLOPE' to 9 and saved to RA_SIG_SLOPE/parameters_9.json\n",
      "Modified parameter 'params/RA_SIG_SLOPE' to 18 and saved to RA_SIG_SLOPE/parameters_18.json\n",
      "Modified parameter 'params/REWARD_WINDOW' to 5 and saved to REWARD_WINDOW/parameters_5.json\n",
      "Modified parameter 'params/REWARD_WINDOW' to 10 and saved to REWARD_WINDOW/parameters_10.json\n",
      "Modified parameter 'params/REWARD_WINDOW' to 25 and saved to REWARD_WINDOW/parameters_25.json\n",
      "Modified parameter 'params/REWARD_WINDOW' to 50 and saved to REWARD_WINDOW/parameters_50.json\n",
      "Modified parameter 'params/TARGET_WIDTH' to 0.1 and saved to TARGET_WIDTH/parameters_0.1.json\n",
      "Modified parameter 'params/TARGET_WIDTH' to 0.2 and saved to TARGET_WIDTH/parameters_0.2.json\n",
      "Modified parameter 'params/TARGET_WIDTH' to 0.3 and saved to TARGET_WIDTH/parameters_0.3.json\n",
      "Modified parameter 'params/TARGET_WIDTH' to 0.5 and saved to TARGET_WIDTH/parameters_0.5.json\n",
      "Modified parameter 'params/TARGET_WIDTH' to 0.7 and saved to TARGET_WIDTH/parameters_0.7.json\n",
      "Modified parameter 'params/WEIGHT_JUMP' to 0 and saved to WEIGHT_JUMP/parameters_0.json\n",
      "Modified parameter 'params/WEIGHT_JUMP' to 1 and saved to WEIGHT_JUMP/parameters_1.json\n",
      "Modified parameter 'params/WEIGHT_JUMP' to 0 and saved to __pycache__/parameters_0.json\n",
      "Modified parameter 'params/WEIGHT_JUMP' to 1 and saved to __pycache__/parameters_1.json\n"
     ]
    }
   ],
   "source": [
    "import numpy as np\n",
    "import matplotlib.pyplot as plt\n",
    "import os\n",
    "from functions import find_neighboring_directories\n",
    "from make_json import parameter_names"
   ]
  },
  {
   "cell_type": "code",
   "execution_count": 1,
   "metadata": {},
   "outputs": [],
   "source": [
    "wanted_directories = [\"JUMP_SLOPE\"]"
   ]
  },
  {
   "cell_type": "code",
   "execution_count": 3,
   "metadata": {},
   "outputs": [
    {
     "name": "stdout",
     "output_type": "stream",
     "text": [
      "ANNEALING\n",
      "ANNEALING_MID\n",
      "ANNEALING_SLOPE\n",
      "BG_NOISE\n",
      "JUMP_MID\n",
      "JUMP_SLOPE\n",
      "LEARNING_RATE_HL\n",
      "LEARNING_RATE_RL\n",
      "N_BG_CLUSTERS\n",
      "N_DISTRACTORS\n",
      "plots\n",
      "RA_NOISE\n",
      "RA_SIG_SLOPE\n",
      "REWARD_WINDOW\n",
      "TARGET_WIDTH\n",
      "WEIGHT_JUMP\n",
      "dict_keys(['JUMP_MID', 'JUMP_SLOPE', 'WEIGHT_JUMP'])\n",
      "dict_keys(['JUMP_MID', 'JUMP_SLOPE', 'WEIGHT_JUMP'])\n",
      "{'ANNEALING': array([0., 1.]), 'ANNEALING_MID': array([1., 2., 3., 4.]), 'ANNEALING_SLOPE': array([1., 2., 3., 4., 5., 6.]), 'BG_NOISE': array([0.05, 0.1 , 0.2 , 0.3 , 0.5 ]), 'JUMP_SLOPE': array([5., 3., 2., 4., 1.]), 'LEARNING_RATE_HL': array([1.e-04, 0.e+00, 1.e-05, 2.e-05, 5.e-05]), 'LEARNING_RATE_RL': array([0.01, 0.05, 0.1 , 0.2 , 0.4 ]), 'N_BG_CLUSTERS': array([10.,  2.]), 'N_DISTRACTORS': array([10., 20.,  5., 50.]), 'RA_NOISE': array([0.01, 0.02, 0.05, 0.1 , 0.  ]), 'RA_SIG_SLOPE': array([18.,  9.]), 'REWARD_WINDOW': array([10., 25.,  5., 50.]), 'TARGET_WIDTH': array([0.1, 0.2, 0.3, 0.5, 0.7]), 'WEIGHT_JUMP': array([0., 1.])}\n"
     ]
    }
   ],
   "source": [
    "neighbouring_directories = find_neighboring_directories()\n",
    "# import .npy files from neighbouring directories\n",
    "data_cut = {}\n",
    "data_no_cut = {}\n",
    "parameter_values = {}\n",
    "for directory in neighbouring_directories:\n",
    "    print(directory)\n",
    "    for filename in os.listdir(directory):\n",
    "        if filename.endswith(\".npy\") and filename.startswith(\"overall_returns_cut\"):   \n",
    "            filepath = os.path.join(directory, filename)\n",
    "            data_cut[directory] = np.load(filepath)\n",
    "        if filename.endswith(\".npy\") and filename.startswith(\"overall_returns_nocut\"):\n",
    "            filepath = os.path.join(directory, filename)\n",
    "            data_no_cut[directory] = np.load(filepath)\n",
    "        if filename.endswith(\".npy\") and filename.startswith(\"parameter_values\"):\n",
    "            filepath = os.path.join(directory, filename)\n",
    "            parameter_values[directory] = np.load(filepath)\n",
    "\n",
    "print(data_cut.keys())\n",
    "print(data_no_cut.keys())\n",
    "print(parameter_values)"
   ]
  },
  {
   "cell_type": "code",
   "execution_count": 4,
   "metadata": {},
   "outputs": [],
   "source": [
    "# print(data_cut[neighbouring_directories[0]])\n",
    "# print(data_no_cut[neighbouring_directories[0]])"
   ]
  },
  {
   "cell_type": "code",
   "execution_count": 5,
   "metadata": {},
   "outputs": [],
   "source": [
    "# data_cut[\"RA_SIG_SLOPE\"].shape\n",
    "# wanted_directories = [\"WEIGHT_JUMP\"]"
   ]
  },
  {
   "cell_type": "code",
   "execution_count": 6,
   "metadata": {},
   "outputs": [
    {
     "data": {
      "image/png": "[encoded data removed]",
      "text/plain": [
       "<Figure size 500x700 with 1 Axes>"
      ]
     },
     "metadata": {},
     "output_type": "display_data"
    }
   ],
   "source": [
    "# def plot_returns(data, key):\n",
    "for index, directory in enumerate(neighbouring_directories):\n",
    "    if directory in wanted_directories:\n",
    "        param = directory\n",
    "        returns_cut = 100 * data_cut[directory]\n",
    "        returns_no_cut = 100 * data_no_cut[directory]\n",
    "        # is returns cut and no cut same? \n",
    "        parameter_values_sorted = sorted(parameter_values[directory])  # Sort parameter values\n",
    "        sorted_indices = np.argsort(parameter_values[directory])  # Get sorting indices\n",
    "\n",
    "        # Arrange returns based on sorted parameter values\n",
    "        returns_cut = returns_cut[:, sorted_indices]\n",
    "        returns_no_cut = returns_no_cut[:, sorted_indices]\n",
    "\n",
    "        n_values = len(parameter_values_sorted)\n",
    "        above_threshold_cut = np.zeros(n_values)\n",
    "        above_threshold_no_cut = np.zeros(n_values)\n",
    "        for i in range(n_values):\n",
    "            above_threshold_cut[i] = np.sum(returns_cut[:, i] > 70)\n",
    "            above_threshold_no_cut[i] = np.sum(returns_no_cut[:, i] > 70)\n",
    "\n",
    "        above_threshold_cut /= returns_cut.shape[0]\n",
    "        above_threshold_no_cut /= returns_no_cut.shape[0]\n",
    "        plt.figure(figsize=(5,7))\n",
    "        means = 100*above_threshold_cut#np.mean(returns_cut, axis=0)\n",
    "\n",
    "        std = np.std(returns_cut, axis=0)\n",
    "        # Use plt.bar for means with error bars for std\n",
    "        plt.bar(range(n_values), means, label='mean', alpha=0.2, width=0.5)\n",
    "        for i in range(n_values):\n",
    "            plt.plot(i * np.ones_like(returns_cut[:, i]), returns_cut[:, i], 'x', alpha = 0.1, color='b')\n",
    "            plt.plot(i * np.ones_like(returns_no_cut[:, i]), returns_no_cut[:, i], '.', alpha = 0.1, color='r')\n",
    "        plt.ylim(0, 100)\n",
    "        for i in range(n_values):\n",
    "            plt.text(i, 71, f\"{100*above_threshold_cut[i]:.2f} %\", ha='center')\n",
    "            plt.text(i, 68, f\"{100*above_threshold_no_cut[i]:.2f} %\", ha='center')\n",
    "        plt.hlines(70, 0, n_values - 1, colors='y', linestyles='dashed')\n",
    "        plt.xticks(np.arange(n_values, step=1), labels=parameter_values_sorted)\n",
    "        plt.title(f'Performance for different values of {param}')\n",
    "        plt.xlabel(param)\n",
    "        plt.ylabel('Return %')\n",
    "        plt.legend()\n",
    "        plt.show()\n"
   ]
  },
  {
   "cell_type": "code",
   "execution_count": 7,
   "metadata": {},
   "outputs": [
    {
     "name": "stdout",
     "output_type": "stream",
     "text": [
      "[ 0  1  2  3  4  5  6  7  8  9 10 11 12 13 14 15 16 17 18 19]\n",
      "[10 11 12 13 14]\n"
     ]
    }
   ],
   "source": [
    "array = np.array(range(20))\n",
    "print(array)\n",
    "print(array[-10:-5])        "
   ]
  }
 ],
 "metadata": {
  "kernelspec": {
   "display_name": "base",
   "language": "python",
   "name": "python3"
  },
  "language_info": {
   "codemirror_mode": {
    "name": "ipython",
    "version": 3
   },
   "file_extension": ".py",
   "mimetype": "text/x-python",
   "name": "python",
   "nbconvert_exporter": "python",
   "pygments_lexer": "ipython3",
   "version": "3.10.9"
  }
 },
 "nbformat": 4,
 "nbformat_minor": 2
}
