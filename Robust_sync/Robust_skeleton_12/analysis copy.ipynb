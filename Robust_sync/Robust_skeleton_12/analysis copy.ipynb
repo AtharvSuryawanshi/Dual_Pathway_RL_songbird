{
 "cells": [
  {
   "cell_type": "markdown",
   "metadata": {},
   "source": [
    "# Data analysis"
   ]
  },
  {
   "cell_type": "code",
   "execution_count": 8,
   "metadata": {},
   "outputs": [],
   "source": [
    "import numpy as np\n",
    "import matplotlib.pyplot as plt\n",
    "import os\n",
    "from functions import find_neighboring_directories\n",
    "from make_json import parameter_names"
   ]
  },
  {
   "cell_type": "code",
   "execution_count": 16,
   "metadata": {},
   "outputs": [],
   "source": [
    "wanted_directories = [\"JUMP_SLOPE\", \"JUMP_MID\"]"
   ]
  },
  {
   "cell_type": "code",
   "execution_count": 17,
   "metadata": {},
   "outputs": [
    {
     "name": "stdout",
     "output_type": "stream",
     "text": [
      "N_BG_CLUSTERS\n",
      "LEARNING_RATE_RL\n",
      "ANNEALING_SLOPE\n",
      "JUMP_MID\n",
      "LEARNING_RATE_HL\n",
      "N_DISTRACTORS\n",
      "TARGET_WIDTH\n",
      "JUMP_SLOPE\n",
      "RA_NOISE\n",
      "plots\n",
      "WEIGHT_JUMP\n",
      "REWARD_WINDOW\n",
      "BG_NOISE\n",
      "RA_SIG_SLOPE\n",
      "ANNEALING_MID\n",
      "ANNEALING\n",
      "dict_keys(['JUMP_MID', 'JUMP_SLOPE', 'WEIGHT_JUMP'])\n",
      "dict_keys(['JUMP_MID', 'JUMP_SLOPE', 'WEIGHT_JUMP'])\n",
      "{'N_BG_CLUSTERS': array([10.,  2.]), 'LEARNING_RATE_RL': array([0.01, 0.05, 0.1 , 0.2 , 0.4 ]), 'ANNEALING_SLOPE': array([1., 2., 3., 4., 5., 6.]), 'LEARNING_RATE_HL': array([1.e-04, 0.e+00, 1.e-05, 2.e-05, 5.e-05]), 'N_DISTRACTORS': array([10., 20.,  5., 50.]), 'TARGET_WIDTH': array([0.1, 0.2, 0.3, 0.5, 0.7]), 'JUMP_SLOPE': array([5., 3., 2., 4., 1.]), 'RA_NOISE': array([0.01, 0.02, 0.05, 0.1 , 0.  ]), 'WEIGHT_JUMP': array([0., 1.]), 'REWARD_WINDOW': array([10., 25.,  5., 50.]), 'BG_NOISE': array([0.05, 0.1 , 0.2 , 0.3 , 0.5 ]), 'RA_SIG_SLOPE': array([18.,  9.]), 'ANNEALING_MID': array([1., 2., 3., 4.]), 'ANNEALING': array([0., 1.])}\n"
     ]
    }
   ],
   "source": [
    "neighbouring_directories = find_neighboring_directories()\n",
    "# import .npy files from neighbouring directories\n",
    "data_cut = {}\n",
    "data_no_cut = {}\n",
    "parameter_values = {}\n",
    "for directory in neighbouring_directories:\n",
    "    print(directory)\n",
    "    for filename in os.listdir(directory):\n",
    "        if filename.endswith(\".npy\") and filename.startswith(\"overall_returns_cut\"):   \n",
    "            filepath = os.path.join(directory, filename)\n",
    "            data_cut[directory] = np.load(filepath)\n",
    "        if filename.endswith(\".npy\") and filename.startswith(\"overall_returns_nocut\"):\n",
    "            filepath = os.path.join(directory, filename)\n",
    "            data_no_cut[directory] = np.load(filepath)\n",
    "        if filename.endswith(\".npy\") and filename.startswith(\"parameter_values\"):\n",
    "            filepath = os.path.join(directory, filename)\n",
    "            parameter_values[directory] = np.load(filepath)\n",
    "\n",
    "print(data_cut.keys())\n",
    "print(data_no_cut.keys())\n",
    "print(parameter_values)"
   ]
  },
  {
   "cell_type": "code",
   "execution_count": 18,
   "metadata": {},
   "outputs": [],
   "source": [
    "# print(data_cut[neighbouring_directories[0]])\n",
    "# print(data_no_cut[neighbouring_directories[0]])"
   ]
  },
  {
   "cell_type": "code",
   "execution_count": 19,
   "metadata": {},
   "outputs": [],
   "source": [
    "# data_cut[\"RA_SIG_SLOPE\"].shape\n",
    "# wanted_directories = [\"WEIGHT_JUMP\"]"
   ]
  },
  {
   "cell_type": "code",
   "execution_count": 20,
   "metadata": {},
   "outputs": [
    {
     "ename": "KeyError",
     "evalue": "'JUMP_MID'",
     "output_type": "error",
     "traceback": [
      "\u001b[0;31m---------------------------------------------------------------------------\u001b[0m",
      "\u001b[0;31mKeyError\u001b[0m                                  Traceback (most recent call last)",
      "Cell \u001b[0;32mIn[20], line 8\u001b[0m\n\u001b[1;32m      6\u001b[0m returns_no_cut \u001b[38;5;241m=\u001b[39m \u001b[38;5;241m100\u001b[39m \u001b[38;5;241m*\u001b[39m data_no_cut[directory]\n\u001b[1;32m      7\u001b[0m \u001b[38;5;66;03m# is returns cut and no cut same? \u001b[39;00m\n\u001b[0;32m----> 8\u001b[0m parameter_values_sorted \u001b[38;5;241m=\u001b[39m \u001b[38;5;28msorted\u001b[39m(parameter_values[directory])  \u001b[38;5;66;03m# Sort parameter values\u001b[39;00m\n\u001b[1;32m      9\u001b[0m sorted_indices \u001b[38;5;241m=\u001b[39m np\u001b[38;5;241m.\u001b[39margsort(parameter_values[directory])  \u001b[38;5;66;03m# Get sorting indices\u001b[39;00m\n\u001b[1;32m     11\u001b[0m \u001b[38;5;66;03m# Arrange returns based on sorted parameter values\u001b[39;00m\n",
      "\u001b[0;31mKeyError\u001b[0m: 'JUMP_MID'"
     ]
    }
   ],
   "source": [
    "# def plot_returns(data, key):\n",
    "for index, directory in enumerate(neighbouring_directories):\n",
    "    if directory in wanted_directories:\n",
    "        param = directory\n",
    "        returns_cut = 100 * data_cut[directory]\n",
    "        returns_no_cut = 100 * data_no_cut[directory]\n",
    "        # is returns cut and no cut same? \n",
    "        parameter_values_sorted = sorted(parameter_values[directory])  # Sort parameter values\n",
    "        sorted_indices = np.argsort(parameter_values[directory])  # Get sorting indices\n",
    "\n",
    "        # Arrange returns based on sorted parameter values\n",
    "        returns_cut = returns_cut[:, sorted_indices]\n",
    "        returns_no_cut = returns_no_cut[:, sorted_indices]\n",
    "\n",
    "        n_values = len(parameter_values_sorted)\n",
    "        above_threshold_cut = np.zeros(n_values)\n",
    "        above_threshold_no_cut = np.zeros(n_values)\n",
    "        for i in range(n_values):\n",
    "            above_threshold_cut[i] = np.sum(returns_cut[:, i] > 70)\n",
    "            above_threshold_no_cut[i] = np.sum(returns_no_cut[:, i] > 70)\n",
    "\n",
    "        above_threshold_cut /= returns_cut.shape[0]\n",
    "        above_threshold_no_cut /= returns_no_cut.shape[0]\n",
    "        plt.figure(figsize=(5,7))\n",
    "        means = 100*above_threshold_cut#np.mean(returns_cut, axis=0)\n",
    "\n",
    "        std = np.std(returns_cut, axis=0)\n",
    "        # Use plt.bar for means with error bars for std\n",
    "        plt.bar(range(n_values), means, label='mean', alpha=0.2, width=0.5)\n",
    "        for i in range(n_values):\n",
    "            plt.plot(i * np.ones_like(returns_cut[:, i]), returns_cut[:, i], 'x', alpha = 0.1, color='b')\n",
    "            plt.plot(i * np.ones_like(returns_no_cut[:, i]), returns_no_cut[:, i], '.', alpha = 0.1, color='r')\n",
    "        plt.ylim(0, 100)\n",
    "        for i in range(n_values):\n",
    "            plt.text(i, 71, f\"{100*above_threshold_cut[i]:.2f} %\", ha='center')\n",
    "            plt.text(i, 68, f\"{100*above_threshold_no_cut[i]:.2f} %\", ha='center')\n",
    "        plt.hlines(70, 0, n_values - 1, colors='y', linestyles='dashed')\n",
    "        plt.xticks(np.arange(n_values, step=1), labels=parameter_values_sorted)\n",
    "        plt.title(f'Performance for different values of {param}')\n",
    "        plt.xlabel(param)\n",
    "        plt.ylabel('Return %')\n",
    "        plt.legend()\n",
    "        plt.show()\n"
   ]
  },
  {
   "cell_type": "code",
   "execution_count": null,
   "metadata": {},
   "outputs": [
    {
     "name": "stdout",
     "output_type": "stream",
     "text": [
      "[ 0  1  2  3  4  5  6  7  8  9 10 11 12 13 14 15 16 17 18 19]\n",
      "[10 11 12 13 14]\n"
     ]
    }
   ],
   "source": [
    "array = np.array(range(20))\n",
    "print(array)\n",
    "print(array[-10:-5])        "
   ]
  }
 ],
 "metadata": {
  "kernelspec": {
   "display_name": "base",
   "language": "python",
   "name": "python3"
  },
  "language_info": {
   "codemirror_mode": {
    "name": "ipython",
    "version": 3
   },
   "file_extension": ".py",
   "mimetype": "text/x-python",
   "name": "python",
   "nbconvert_exporter": "python",
   "pygments_lexer": "ipython3",
   "version": "3.12.4"
  }
 },
 "nbformat": 4,
 "nbformat_minor": 2
}
