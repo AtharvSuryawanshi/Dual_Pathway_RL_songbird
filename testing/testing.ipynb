{
 "cells": [
  {
   "cell_type": "markdown",
   "metadata": {},
   "source": [
    "# Testing of multiple parameters"
   ]
  },
  {
   "cell_type": "markdown",
   "metadata": {},
   "source": [
    "### Module code "
   ]
  },
  {
   "cell_type": "code",
   "execution_count": 1,
   "metadata": {},
   "outputs": [],
   "source": [
    "# Following changes more than code 9\n",
    "# added center of reward landscape directly to the environment as parameter\n",
    "# direct adding of seed to the environment\n",
    "# changing the spread of the main gaussian \n",
    "# changing the number of distractors\n",
    "'''Works as a module for the main script'''\n",
    "\n",
    "import os\n",
    "import numpy as np \n",
    "import matplotlib.pyplot as plt\n",
    "from tqdm import tqdm\n",
    "from matplotlib.colors import LinearSegmentedColormap\n",
    "\n",
    "# save plots in a folder\n",
    "save_dir = \"plots\"\n",
    "\n",
    "# 2D reward landscapesno\n",
    "def gaussian(coordinates, height, mean, spread):\n",
    "    ''' Returns a scalar value for given coordinates in a 2D gaussian distribution'''\n",
    "    x, y = coordinates[0], coordinates[1]\n",
    "    return height * np.exp(-((x-mean[0])**2 + (y-mean[1])**2)/(2*spread**2))\n",
    "\n",
    "def new_sigmoid(x, m=0.0, a=0.0):\n",
    "    \"\"\" Returns an output between -1 and 1 \"\"\"\n",
    "    return (2 / (1 + np.exp(-1*(x-a)*m))) - 1\n",
    "\n",
    "def sigmoid(x, m =0.0 , a=0.0 ):\n",
    "    \"\"\" Returns an output between 0 and 1 \"\"\"\n",
    "    return 1 / (1 + np.exp(-1*(x-a)*m))\n",
    "\n",
    "\n",
    "''' Needs tuning to escape local max '''\n",
    "# RANDOM_SEED = np.random.randint(0, 1000)\n",
    "# print(f'Random seed is {RANDOM_SEED}')\n",
    "# np.random.seed(RANDOM_SEED)\n",
    "# CENTER = np.random.uniform(-0.9, 0.9, 2)\n",
    "# layer sizes\n",
    "HVC_SIZE = 100\n",
    "BG_SIZE = 50\n",
    "RA_SIZE = 100 \n",
    "MC_SIZE = 2\n",
    "N_RA_CLUSTERS = MC_SIZE\n",
    "N_BG_CLUSTERS = 2\n",
    "\n",
    "# sigmoid layer parameters\n",
    "BG_sig_slope = 2.5  # uniform output \n",
    "BG_sig_mid = 0\n",
    "RA_sig_slope = 15 # most steep such that MC output is not skewed\n",
    "RA_sig_mid = 0\n",
    "# Sigmoid on MC is removed\n",
    "# MC_sig_slope = 1 # 5 if lesser -> more difficult to climb the hill, assymptotes before \n",
    "# MC_sig_mid = 0\n",
    "\n",
    "# parameters\n",
    "reward_window = 10\n",
    "input = np.zeros(HVC_SIZE)\n",
    "input[1] = 1\n",
    "BG_noise = 0.1\n",
    "\n",
    "# Run paraneters\n",
    "\n",
    "N_DISTRACTORS = 10\n",
    "LEARING_RATE_RL = 0.1\n",
    "LEARNING_RATE_HL = 1.6e-5 # small increase compared to CODE_8\n",
    "TRIALS = 1000\n",
    "DAYS = 61 # 60 days of learning and 1 day of testing\n",
    "\n",
    "# modes\n",
    "ANNEALING = True\n",
    "ANNEALING_SLOPE = 4 \n",
    "ANNEALING_MID = 2\n",
    "HEBBIAN_LEARNING = True\n",
    "balance_factor = 2\n",
    "BG_influence = True\n",
    "\n",
    "# Model\n",
    "class NN:\n",
    "    def __init__(self, hvc_size, bg_size, ra_size, mc_size):\n",
    "        self.W_hvc_bg = np.random.uniform(-1, 1, (hvc_size, bg_size)) # changing from -1 to 1 \n",
    "        self.W_hvc_ra = np.zeros((hvc_size, ra_size)) # connections start from 0 and then increase\n",
    "        self.W_bg_ra = np.random.uniform(0, 1, (bg_size, ra_size)) # const from 0 to 1\n",
    "        self.W_ra_mc = np.random.uniform(0, 1, (ra_size, mc_size)) # const from 0 to 1\n",
    "        # channel from ra to mc\n",
    "        for i in range(N_RA_CLUSTERS):\n",
    "            segPath = np.diag(np.ones(N_RA_CLUSTERS, int))[i]\n",
    "            self.W_ra_mc[i*ra_size//N_RA_CLUSTERS : (i+1)*ra_size//N_RA_CLUSTERS] *= segPath\n",
    "        # channel from bg to ra such that motor cortex components are independent of each other\n",
    "        for i in range(N_BG_CLUSTERS):\n",
    "            segPath = np.diag(np.ones(N_BG_CLUSTERS, int))[i]\n",
    "            self.W_bg_ra[i*bg_size//N_BG_CLUSTERS : (i+1)*bg_size//N_BG_CLUSTERS] *= [j for j in segPath for r in range(RA_SIZE//N_BG_CLUSTERS)]\n",
    "\n",
    "        self.hvc_size = hvc_size\n",
    "        self.bg_size = bg_size\n",
    "        self.ra_size = ra_size\n",
    "        self.mc_size = mc_size  \n",
    "        self.ra_cluster_size = ra_size // N_RA_CLUSTERS\n",
    "        self.bg_cluster_size = bg_size // N_BG_CLUSTERS\n",
    "        self.bg_influence = BG_influence\n",
    "            \n",
    "    def forward(self, hvc_array):\n",
    "        self.hvc = hvc_array\n",
    "        # count number of 1 in hvc, divide bg by that number\n",
    "        num_ones = np.count_nonzero(hvc_array == 1)\n",
    "        self.bg = new_sigmoid(np.dot(hvc_array/num_ones, self.W_hvc_bg) + np.random.normal(0, BG_noise, self.bg_size), m = BG_sig_slope, a = BG_sig_mid)\n",
    "        self.ra = new_sigmoid(np.dot(self.bg, self.W_bg_ra/np.sum(self.W_bg_ra, axis=0)) * balance_factor * self.bg_influence + np.dot(hvc_array/num_ones, self.W_hvc_ra)* HEBBIAN_LEARNING, m = RA_sig_slope, a = RA_sig_mid) \n",
    "        ''' even after BG cut off, output should remain still the same'''\n",
    "        # self.mc = new_sigmoid(np.dot(self.ra, self.W_ra_mc/np.sum(self.W_ra_mc, axis=0)), m = MC_sig_slope, a = MC_sig_mid)\n",
    "        # self.bg = np.dot(hvc_array/num_ones, self.W_hvc_bg)  #outputs to +-0.98\n",
    "        # self.ra = np.dot(self.bg, self.W_bg_ra/np.sum(self.W_bg_ra, axis=0)) * balance_factor  + np.dot(hvc_array/num_ones, self.W_hvc_ra)* HEBBIAN_LEARNING #outputs to +-0.40\n",
    "        self.mc = np.dot(self.ra, self.W_ra_mc/np.sum(self.W_ra_mc, axis=0)) # outputs to +-0.50\n",
    "        return self.mc, self.ra, self.bg\n",
    "\n",
    "class Environment:\n",
    "    def __init__(self, hvc_size, bg_size, ra_size, mc_size, center, seed):\n",
    "        self.hvc_size = hvc_size\n",
    "        self.bg_size = bg_size\n",
    "        self.ra_size = ra_size\n",
    "        self.mc_size = mc_size\n",
    "        self.center = center\n",
    "        self.seed = seed\n",
    "        self.model = NN(hvc_size, bg_size, ra_size, mc_size)\n",
    "        self.heights = np.random.uniform(0.2, 0.7, N_DISTRACTORS)\n",
    "        self.means = np.random.uniform(-1, 1, (N_DISTRACTORS, 2))\n",
    "        self.spreads = np.random.uniform(0.1, 0.6, N_DISTRACTORS)\n",
    "        self.rewards = []\n",
    "        self.actions = []\n",
    "        self.hvc_bg_array = []\n",
    "        self.bg_out = []\n",
    "        self.hvc_ra_array = []\n",
    "        self.ra_out = []\n",
    "        self.dw_day_array = []\n",
    "        self.pot_array = []\n",
    "        \n",
    "    def get_reward(self, coordinates):\n",
    "        reward_scape = gaussian(coordinates, 1, self.center, 0.3)\n",
    "        if N_DISTRACTORS == 0:\n",
    "            return reward_scape\n",
    "        hills = []\n",
    "        hills.append(reward_scape)\n",
    "        for i in range(N_DISTRACTORS):\n",
    "            height = self.heights[i]\n",
    "            mean = self.means[i]\n",
    "            spread = self.spreads[i]\n",
    "            hills.append(gaussian(coordinates, height, mean, spread))\n",
    "        return np.maximum.reduce(hills)\n",
    "    \n",
    "    def run(self, iterations, learning_rate, learning_rate_hl, input_hvc, annealing = False):\n",
    "        self.annealing = annealing\n",
    "        for day in tqdm(range(DAYS)):\n",
    "            dw_day = 0\n",
    "            if day >= 60:\n",
    "                self.model.bg_influence = False\n",
    "            for iter in range(iterations):\n",
    "                # reward and baseline\n",
    "                action, ra, bg = self.model.forward(input_hvc)\n",
    "\n",
    "                reward = self.get_reward(action)\n",
    "                self.rewards.append(reward)\n",
    "                self.actions.append(action)\n",
    "                if iter < 1:\n",
    "                    reward_baseline = 0\n",
    "                else:\n",
    "                    reward_baseline = np.mean(self.rewards[-reward_window:-1])\n",
    "                # Updates \n",
    "                # RL update\n",
    "                dw_hvc_bg = learning_rate*(reward - reward_baseline)*input_hvc.reshape(self.hvc_size,1)*self.model.bg * self.model.bg_influence # RL update\n",
    "                self.model.W_hvc_bg += dw_hvc_bg\n",
    "                # HL update\n",
    "                dw_hvc_ra = learning_rate_hl*input_hvc.reshape(self.hvc_size,1)*self.model.ra*HEBBIAN_LEARNING # lr is supposed to be much smaller here\n",
    "                self.model.W_hvc_ra += dw_hvc_ra\n",
    "                # bound weights between +-1\n",
    "                self.model.W_hvc_bg = np.clip(self.model.W_hvc_bg, -1, 1)\n",
    "                self.model.W_hvc_ra = np.clip(self.model.W_hvc_ra, -1, 1)\n",
    "                dw_day += np.mean(np.abs(dw_hvc_bg))\n",
    "                \n",
    "                self.hvc_bg_array.append(self.model.W_hvc_bg[1,1])\n",
    "                self.bg_out.append(bg[1])\n",
    "                self.hvc_ra_array.append(self.model.W_hvc_ra[1,1])\n",
    "                self.ra_out.append(ra[1])\n",
    "            # if day % 6 == 0:   \n",
    "                # tqdm.write(f'Day: {day}, Action: {action}, Reward: {reward}, Reward Baseline: {reward_baseline}')    \n",
    "            # Annealing\n",
    "            if annealing:\n",
    "                ''' input daily sum, output scaling factor for potentiation'''\n",
    "                p = dw_day*100\n",
    "                self.dw_day_array.append(p)\n",
    "                p = 1* sigmoid(1*p, m = ANNEALING_SLOPE, a = ANNEALING_MID)\n",
    "                potentiation_factor = np.zeros((self.hvc_size))\n",
    "                self.pot_array.append(1-p)\n",
    "                potentiation_factor[1] = 1-p \n",
    "                night_noise = np.random.uniform(-1, 1, self.bg_size) # make it lognormal\n",
    "                dw_night = LEARING_RATE_RL*potentiation_factor.reshape(self.hvc_size,1)*night_noise*10*self.model.bg_influence\n",
    "                self.model.W_hvc_bg += dw_night\n",
    "                self.model.W_hvc_bg = (self.model.W_hvc_bg + 1) % 2 -1 # bound between -1 and 1 in cyclical manner\n",
    "            \n",
    "                \n",
    "    def plot_trajectory(self):\n",
    "        fig, axs = plt.subplots(figsize=(10, 9))\n",
    "        # generate grid \n",
    "        x, y = np.linspace(-1, 1, 50), np.linspace(-1, 1, 50)\n",
    "        X, Y = np.meshgrid(x, y)\n",
    "        Z = self.get_reward([X, Y])\n",
    "        \n",
    "        # Plot contour\n",
    "        cmap = LinearSegmentedColormap.from_list('white_to_green', ['white', 'green'])\n",
    "        contour = axs.contourf(X, Y, Z, levels=10, cmap=cmap)\n",
    "        fig.colorbar(contour, ax=axs, label='Reward')\n",
    "        \n",
    "        # plot trajectory\n",
    "        x_traj, y_traj = zip(*self.actions)\n",
    "        axs.plot(x_traj[::10], y_traj[::10], 'r', label='Agent Trajectory', alpha = 0.5, linewidth = 0.5) # Plot every 20th point for efficiency\n",
    "        axs.scatter(x_traj[0], y_traj[0], s=20, c='b', label='Starting Point')  # Plot first point as red circle\n",
    "        axs.scatter(x_traj[-5:], y_traj[-5:], s=20, c='r', marker='x', label='Ending Point') # type: ignore\n",
    "        axs.scatter(CENTER[0], CENTER[1], s=20, c='y', marker='x', label='target')  # type: ignore\n",
    "        # labels\n",
    "        axs.set_title('Contour plot of reward function')\n",
    "        axs.set_xlabel('x')\n",
    "        axs.set_ylabel('y')\n",
    "        axs.legend()\n",
    "        plt.tight_layout()\n",
    "        plt.show()\n",
    "        \n",
    "    def plot_results(self):\n",
    "        fig, axs = plt.subplots(6, 1, figsize=(10, 15))\n",
    "        axs[0].plot(self.rewards, '.', markersize=1, linestyle='None')\n",
    "        axs[0].hlines(0.7, 0, len(self.rewards), colors='r', linestyles='dashed')\n",
    "        axs[0].set_ylim(0, 1)\n",
    "        axs[0].set_ylabel('Reward')\n",
    "        axs[1].plot(self.hvc_bg_array)\n",
    "        axs[1].set_ylim(-1, 1)\n",
    "        axs[1].set_ylabel('HVC BG weights')\n",
    "        axs[2].plot(self.bg_out,'.', markersize=0.5, linestyle='None')\n",
    "        axs[2].set_ylim(-1, 1)\n",
    "        axs[2].set_ylabel('BG output')\n",
    "        axs[3].plot(self.hvc_ra_array)\n",
    "        axs[3].set_ylim(-1, 1)\n",
    "        axs[3].set_ylabel('HVC RA weights')\n",
    "        axs[4].plot(self.actions)\n",
    "        axs[4].plot(self.center[0]*np.ones(TRIALS*DAYS))\n",
    "        axs[4].plot(self.center[1]*np.ones(TRIALS*DAYS))\n",
    "        axs[4].legend(['x target', 'y target'])\n",
    "        axs[4].set_ylabel('Motor Output')\n",
    "        axs[4].set_ylim(-1, 1)\n",
    "        axs[5].plot(self.ra_out)\n",
    "        axs[5].set_ylim(-1, 1)\n",
    "        axs[5].set_ylabel('RA activity')\n",
    "        fig.suptitle('Results', fontsize=20)\n",
    "        plt.tight_layout(rect=[0, 0.03, 1, 0.95])\n",
    "        plt.show()\n",
    "    \n",
    "    def plot_dw_day(self):\n",
    "        if ANNEALING:\n",
    "            # Expand dw_day_array and pot_array to match the size of rewards\n",
    "            expanded_dw_day_array = np.repeat(self.dw_day_array, len(self.rewards) // len(self.dw_day_array))\n",
    "            expanded_pot_array = np.repeat(self.pot_array, len(self.rewards) // len(self.pot_array))\n",
    "            plt.title('Annealing')\n",
    "            plt.plot(expanded_dw_day_array, markersize=1, label='dW_day')\n",
    "            plt.plot(expanded_pot_array, markersize=1, label='Potentiation factor')\n",
    "            plt.plot(self.rewards, '.', markersize=1, label='Reward')\n",
    "            plt.xlabel('Days')\n",
    "            plt.ylabel('dW_day')\n",
    "            plt.legend()\n",
    "            plt.show()\n",
    "        \n",
    "    def save_trajectory(self):\n",
    "        fig, axs = plt.subplots(figsize=(10, 9))\n",
    "        # generate grid \n",
    "        x, y = np.linspace(-1, 1, 50), np.linspace(-1, 1, 50)\n",
    "        X, Y = np.meshgrid(x, y)\n",
    "        Z = self.get_reward([X, Y])\n",
    "        \n",
    "        # Plot contour\n",
    "        cmap = LinearSegmentedColormap.from_list('white_to_green', ['white', 'green'])\n",
    "        contour = axs.contourf(X, Y, Z, levels=10, cmap=cmap)\n",
    "        fig.colorbar(contour, ax=axs, label='Reward')\n",
    "        \n",
    "        # plot trajectory\n",
    "        x_traj, y_traj = zip(*self.actions)\n",
    "        axs.plot(x_traj[::10], y_traj[::10], 'r', label='Agent Trajectory', alpha = 0.5, linewidth = 0.5) # Plot every 20th point for efficiency\n",
    "        axs.scatter(x_traj[0], y_traj[0], s=20, c='b', label='Starting Point')  # Plot first point as red circle\n",
    "        axs.scatter(x_traj[-5:], y_traj[-5:], s=20, c='r', marker='x', label='Ending Point') # type: ignore\n",
    "        axs.scatter(self.center[0], self.center[1], s=20, c='y', marker='x', label='target')  # type: ignore\n",
    "        # labels\n",
    "        axs.set_title('Contour plot of reward function')\n",
    "        axs.set_xlabel('x')\n",
    "        axs.set_ylabel('y')\n",
    "        axs.legend()\n",
    "        plt.tight_layout()\n",
    "        # Create the \"plots\" directory if it doesn't exist\n",
    "        os.makedirs(save_dir, exist_ok = True)\n",
    "        # Clear previous plots (optional):\n",
    "        # for filename in os.listdir(save_dir):\n",
    "        #     if filename.startswith(\"trajectory\") and filename.endswith(\".png\") or filename.endswith(\".jpg\"):\n",
    "        #         os.remove(os.path.join(save_dir, filename))\n",
    "        # Save the plot\n",
    "        plt.savefig(os.path.join(save_dir, f\"trajectory_{self.seed}_{self.annealing}.png\"))\n",
    "        plt.close()  # Close the plot to avoid memory leaks\n",
    "        \n",
    "    def save_results(self):\n",
    "        fig, axs = plt.subplots(6, 1, figsize=(10, 15))\n",
    "        axs[0].plot(self.rewards, '.', markersize=1, linestyle='None')\n",
    "        axs[0].hlines(0.7, 0, len(self.rewards), colors='r', linestyles='dashed')\n",
    "        axs[0].set_ylim(0, 1)\n",
    "        axs[0].set_ylabel('Reward')\n",
    "        axs[1].plot(self.hvc_bg_array)\n",
    "        axs[1].set_ylim(-1, 1)\n",
    "        axs[1].set_ylabel('HVC BG weights')\n",
    "        axs[2].plot(self.bg_out,'.', markersize=0.5, linestyle='None')\n",
    "        axs[2].set_ylim(-1, 1)\n",
    "        axs[2].set_ylabel('BG output')\n",
    "        axs[3].plot(self.hvc_ra_array)\n",
    "        axs[3].set_ylim(-1, 1)\n",
    "        axs[3].set_ylabel('HVC RA weights')\n",
    "        axs[4].plot(self.actions)\n",
    "        axs[4].plot(self.center[0]*np.ones(TRIALS*DAYS))\n",
    "        axs[4].plot(self.center[1]*np.ones(TRIALS*DAYS))\n",
    "        axs[4].legend(['x target', 'y target'])\n",
    "        axs[4].set_ylabel('Motor Output')\n",
    "        axs[4].set_ylim(-1, 1)\n",
    "        axs[5].plot(self.ra_out)\n",
    "        axs[5].set_ylim(-1, 1)\n",
    "        axs[5].set_ylabel('RA activity')\n",
    "        fig.suptitle('Results', fontsize=20)\n",
    "        plt.tight_layout(rect=[0, 0.03, 1, 0.95])\n",
    "        # Create the \"plots\" directory if it doesn't exist\n",
    "        os.makedirs(save_dir, exist_ok = True)\n",
    "        # Clear previous plots (optional):\n",
    "        # for filename in os.listdir(save_dir):\n",
    "        #     if filename.startswith(\"results\") and filename.endswith(\".png\") or filename.endswith(\".jpg\"):\n",
    "        #         os.remove(os.path.join(save_dir, filename))\n",
    "        # Save the plot\n",
    "        plt.savefig(os.path.join(save_dir, f\"results_{self.seed}_{self.annealing}.png\"))\n",
    "        plt.close()  # Close the plot to avoid memory leaks\n",
    "        \n",
    "    \n",
    "    def save_dw_day(self):\n",
    "        if ANNEALING:\n",
    "            # Expand dw_day_array and pot_array to match the size of rewards\n",
    "            expanded_dw_day_array = np.repeat(self.dw_day_array, len(self.rewards) // len(self.dw_day_array))\n",
    "            expanded_pot_array = np.repeat(self.pot_array, len(self.rewards) // len(self.pot_array))\n",
    "            plt.title('Annealing')\n",
    "            plt.plot(expanded_dw_day_array, markersize=1, label='dW_day')\n",
    "            plt.plot(expanded_pot_array, markersize=1, label='Potentiation factor')\n",
    "            plt.plot(self.rewards, '.', markersize=1, label='Reward', alpha = 0.1)\n",
    "            plt.xlabel('Days')\n",
    "            plt.ylabel('dW_day')\n",
    "            plt.legend()\n",
    "            # Create the \"plots\" directory if it doesn't exist\n",
    "            os.makedirs(save_dir, exist_ok = True)\n",
    "            # Clear previous plots (optional):\n",
    "            # for filename in os.listdir(save_dir):\n",
    "            #     if filename.startswith(\"dw\") and filename.endswith(\".png\") or filename.endswith(\".jpg\"):\n",
    "            #         os.remove(os.path.join(save_dir, filename))  \n",
    "            # Save the plot\n",
    "            plt.savefig(os.path.join(save_dir, f\"dw_{self.seed}_{self.annealing}.png\"))\n",
    "            plt.close()  # Close the plot to avoid memory leaks\n",
    "\n",
    "\n",
    "def build_and_run(seed, annealing, plot):\n",
    "    tqdm.write(f\" Random seed is {seed}\")\n",
    "    np.random.seed(seed)\n",
    "    center = np.random.uniform(-0.9, 0.9, 2)\n",
    "    env = Environment(HVC_SIZE, BG_SIZE, RA_SIZE, MC_SIZE, center, seed)\n",
    "    env.run(TRIALS, LEARING_RATE_RL, LEARNING_RATE_HL, input, annealing)\n",
    "    if plot:\n",
    "        env.save_trajectory()\n",
    "        env.save_results()\n",
    "        if annealing:\n",
    "            env.save_dw_day()\n",
    "    return np.mean(env.rewards[-100:])"
   ]
  },
  {
   "cell_type": "markdown",
   "metadata": {},
   "source": [
    "Testing and plotting code below"
   ]
  },
  {
   "cell_type": "code",
   "execution_count": 2,
   "metadata": {},
   "outputs": [
    {
     "name": "stdout",
     "output_type": "stream",
     "text": [
      "Seeds:  [ 60  71 194 259 323 373 389 436 466 491]\n"
     ]
    },
    {
     "name": "stderr",
     "output_type": "stream",
     "text": [
      "  0%|          | 0/10 [00:00<?, ?it/s]"
     ]
    },
    {
     "name": "stdout",
     "output_type": "stream",
     "text": [
      " Random seed is 60\n"
     ]
    },
    {
     "name": "stderr",
     "output_type": "stream",
     "text": [
      "100%|██████████| 61/61 [00:35<00:00,  1.73it/s]\n",
      " 10%|█         | 1/10 [00:37<05:41, 38.00s/it]"
     ]
    },
    {
     "name": "stdout",
     "output_type": "stream",
     "text": [
      " Random seed is 71\n"
     ]
    },
    {
     "name": "stderr",
     "output_type": "stream",
     "text": [
      "100%|██████████| 61/61 [00:36<00:00,  1.66it/s]\n",
      " 20%|██        | 2/10 [01:16<05:06, 38.37s/it]"
     ]
    },
    {
     "name": "stdout",
     "output_type": "stream",
     "text": [
      " Random seed is 194\n"
     ]
    },
    {
     "name": "stderr",
     "output_type": "stream",
     "text": [
      "100%|██████████| 61/61 [00:37<00:00,  1.63it/s]\n",
      " 30%|███       | 3/10 [01:56<04:33, 39.03s/it]"
     ]
    },
    {
     "name": "stdout",
     "output_type": "stream",
     "text": [
      " Random seed is 259\n"
     ]
    },
    {
     "name": "stderr",
     "output_type": "stream",
     "text": [
      "100%|██████████| 61/61 [00:37<00:00,  1.64it/s]\n",
      " 40%|████      | 4/10 [02:35<03:54, 39.16s/it]"
     ]
    },
    {
     "name": "stdout",
     "output_type": "stream",
     "text": [
      " Random seed is 323\n"
     ]
    },
    {
     "name": "stderr",
     "output_type": "stream",
     "text": [
      "100%|██████████| 61/61 [00:38<00:00,  1.59it/s]\n",
      " 50%|█████     | 5/10 [03:16<03:19, 39.86s/it]"
     ]
    },
    {
     "name": "stdout",
     "output_type": "stream",
     "text": [
      " Random seed is 373\n"
     ]
    },
    {
     "name": "stderr",
     "output_type": "stream",
     "text": [
      "100%|██████████| 61/61 [00:37<00:00,  1.62it/s]\n",
      " 60%|██████    | 6/10 [03:57<02:39, 39.96s/it]"
     ]
    },
    {
     "name": "stdout",
     "output_type": "stream",
     "text": [
      " Random seed is 389\n"
     ]
    },
    {
     "name": "stderr",
     "output_type": "stream",
     "text": [
      "100%|██████████| 61/61 [00:37<00:00,  1.64it/s]\n",
      " 70%|███████   | 7/10 [04:37<01:59, 39.98s/it]"
     ]
    },
    {
     "name": "stdout",
     "output_type": "stream",
     "text": [
      " Random seed is 436\n"
     ]
    },
    {
     "name": "stderr",
     "output_type": "stream",
     "text": [
      "100%|██████████| 61/61 [00:37<00:00,  1.62it/s]\n",
      " 80%|████████  | 8/10 [05:17<01:20, 40.07s/it]"
     ]
    },
    {
     "name": "stdout",
     "output_type": "stream",
     "text": [
      " Random seed is 466\n"
     ]
    },
    {
     "name": "stderr",
     "output_type": "stream",
     "text": [
      "100%|██████████| 61/61 [00:36<00:00,  1.67it/s]\n",
      " 90%|█████████ | 9/10 [05:56<00:39, 39.63s/it]"
     ]
    },
    {
     "name": "stdout",
     "output_type": "stream",
     "text": [
      " Random seed is 491\n"
     ]
    },
    {
     "name": "stderr",
     "output_type": "stream",
     "text": [
      "100%|██████████| 61/61 [00:41<00:00,  1.45it/s]\n",
      "100%|██████████| 10/10 [06:40<00:00, 40.10s/it]\n"
     ]
    },
    {
     "name": "stdout",
     "output_type": "stream",
     "text": [
      "Non annealing = [0.3350054540569661, 0.35187441595420926, 0.6679855511143029, 0.9871524965712075, 0.5126017957645042, 0.40939467693166554, 0.21104996304454604, 0.9904431871441733, 0.9910971375185036, 0.6443683103020013]\n"
     ]
    },
    {
     "name": "stderr",
     "output_type": "stream",
     "text": [
      "  0%|          | 0/10 [00:00<?, ?it/s]"
     ]
    },
    {
     "name": "stdout",
     "output_type": "stream",
     "text": [
      " Random seed is 60\n"
     ]
    },
    {
     "name": "stderr",
     "output_type": "stream",
     "text": [
      "100%|██████████| 61/61 [00:40<00:00,  1.51it/s]\n",
      " 10%|█         | 1/10 [00:43<06:27, 43.06s/it]"
     ]
    },
    {
     "name": "stdout",
     "output_type": "stream",
     "text": [
      " Random seed is 71\n"
     ]
    },
    {
     "name": "stderr",
     "output_type": "stream",
     "text": [
      "100%|██████████| 61/61 [00:35<00:00,  1.69it/s]\n",
      " 20%|██        | 2/10 [01:21<05:24, 40.56s/it]"
     ]
    },
    {
     "name": "stdout",
     "output_type": "stream",
     "text": [
      " Random seed is 194\n"
     ]
    },
    {
     "name": "stderr",
     "output_type": "stream",
     "text": [
      "100%|██████████| 61/61 [00:34<00:00,  1.79it/s]\n",
      " 30%|███       | 3/10 [01:58<04:31, 38.85s/it]"
     ]
    },
    {
     "name": "stdout",
     "output_type": "stream",
     "text": [
      " Random seed is 259\n"
     ]
    },
    {
     "name": "stderr",
     "output_type": "stream",
     "text": [
      "100%|██████████| 61/61 [00:36<00:00,  1.67it/s]\n",
      " 40%|████      | 4/10 [02:38<03:54, 39.16s/it]"
     ]
    },
    {
     "name": "stdout",
     "output_type": "stream",
     "text": [
      " Random seed is 323\n"
     ]
    },
    {
     "name": "stderr",
     "output_type": "stream",
     "text": [
      "100%|██████████| 61/61 [00:34<00:00,  1.79it/s]\n",
      " 50%|█████     | 5/10 [03:16<03:14, 38.87s/it]"
     ]
    },
    {
     "name": "stdout",
     "output_type": "stream",
     "text": [
      " Random seed is 373\n"
     ]
    },
    {
     "name": "stderr",
     "output_type": "stream",
     "text": [
      "100%|██████████| 61/61 [00:34<00:00,  1.79it/s]\n",
      " 60%|██████    | 6/10 [03:53<02:32, 38.24s/it]"
     ]
    },
    {
     "name": "stdout",
     "output_type": "stream",
     "text": [
      " Random seed is 389\n"
     ]
    },
    {
     "name": "stderr",
     "output_type": "stream",
     "text": [
      "100%|██████████| 61/61 [00:37<00:00,  1.61it/s]\n",
      " 70%|███████   | 7/10 [04:34<01:57, 39.20s/it]"
     ]
    },
    {
     "name": "stdout",
     "output_type": "stream",
     "text": [
      " Random seed is 436\n"
     ]
    },
    {
     "name": "stderr",
     "output_type": "stream",
     "text": [
      "100%|██████████| 61/61 [00:39<00:00,  1.56it/s]\n",
      " 80%|████████  | 8/10 [05:17<01:20, 40.27s/it]"
     ]
    },
    {
     "name": "stdout",
     "output_type": "stream",
     "text": [
      " Random seed is 466\n"
     ]
    },
    {
     "name": "stderr",
     "output_type": "stream",
     "text": [
      "100%|██████████| 61/61 [00:36<00:00,  1.69it/s]\n",
      " 90%|█████████ | 9/10 [05:56<00:39, 39.81s/it]"
     ]
    },
    {
     "name": "stdout",
     "output_type": "stream",
     "text": [
      " Random seed is 491\n"
     ]
    },
    {
     "name": "stderr",
     "output_type": "stream",
     "text": [
      "100%|██████████| 61/61 [00:35<00:00,  1.72it/s]\n",
      "100%|██████████| 10/10 [06:35<00:00, 39.53s/it]\n"
     ]
    },
    {
     "name": "stdout",
     "output_type": "stream",
     "text": [
      "RA_sig_slope = 18, LEARNING_RATE_HL = 1.6e-05\n",
      "Annealing 1 = [0.7191901571333836, 0.9454387457578567, 0.8246753356710144, 0.7574804563140861, 0.3202320633322466, 0.9224288735205008, 0.33869428564673576, 0.813772215317113, 0.9254366224832887, 0.9670980747000368]\n"
     ]
    },
    {
     "name": "stderr",
     "output_type": "stream",
     "text": [
      "  0%|          | 0/10 [00:00<?, ?it/s]"
     ]
    },
    {
     "name": "stdout",
     "output_type": "stream",
     "text": [
      " Random seed is 60\n"
     ]
    },
    {
     "name": "stderr",
     "output_type": "stream",
     "text": [
      "100%|██████████| 61/61 [00:35<00:00,  1.73it/s]\n",
      " 10%|█         | 1/10 [00:38<05:48, 38.73s/it]"
     ]
    },
    {
     "name": "stdout",
     "output_type": "stream",
     "text": [
      " Random seed is 71\n"
     ]
    },
    {
     "name": "stderr",
     "output_type": "stream",
     "text": [
      "100%|██████████| 61/61 [00:36<00:00,  1.69it/s]\n",
      " 20%|██        | 2/10 [01:18<05:13, 39.20s/it]"
     ]
    },
    {
     "name": "stdout",
     "output_type": "stream",
     "text": [
      " Random seed is 194\n"
     ]
    },
    {
     "name": "stderr",
     "output_type": "stream",
     "text": [
      "100%|██████████| 61/61 [00:37<00:00,  1.65it/s]\n",
      " 30%|███       | 3/10 [01:58<04:36, 39.56s/it]"
     ]
    },
    {
     "name": "stdout",
     "output_type": "stream",
     "text": [
      " Random seed is 259\n"
     ]
    },
    {
     "name": "stderr",
     "output_type": "stream",
     "text": [
      "100%|██████████| 61/61 [00:35<00:00,  1.74it/s]\n",
      " 40%|████      | 4/10 [02:36<03:55, 39.18s/it]"
     ]
    },
    {
     "name": "stdout",
     "output_type": "stream",
     "text": [
      " Random seed is 323\n"
     ]
    },
    {
     "name": "stderr",
     "output_type": "stream",
     "text": [
      "100%|██████████| 61/61 [00:37<00:00,  1.62it/s]\n",
      " 50%|█████     | 5/10 [03:19<03:22, 40.42s/it]"
     ]
    },
    {
     "name": "stdout",
     "output_type": "stream",
     "text": [
      " Random seed is 373\n"
     ]
    },
    {
     "name": "stderr",
     "output_type": "stream",
     "text": [
      "100%|██████████| 61/61 [00:37<00:00,  1.62it/s]\n",
      " 60%|██████    | 6/10 [04:00<02:41, 40.46s/it]"
     ]
    },
    {
     "name": "stdout",
     "output_type": "stream",
     "text": [
      " Random seed is 389\n"
     ]
    },
    {
     "name": "stderr",
     "output_type": "stream",
     "text": [
      "100%|██████████| 61/61 [00:38<00:00,  1.58it/s]\n",
      " 70%|███████   | 7/10 [04:41<02:02, 40.81s/it]"
     ]
    },
    {
     "name": "stdout",
     "output_type": "stream",
     "text": [
      " Random seed is 436\n"
     ]
    },
    {
     "name": "stderr",
     "output_type": "stream",
     "text": [
      "100%|██████████| 61/61 [00:37<00:00,  1.62it/s]\n",
      " 80%|████████  | 8/10 [05:22<01:21, 40.85s/it]"
     ]
    },
    {
     "name": "stdout",
     "output_type": "stream",
     "text": [
      " Random seed is 466\n"
     ]
    },
    {
     "name": "stderr",
     "output_type": "stream",
     "text": [
      "100%|██████████| 61/61 [00:35<00:00,  1.72it/s]\n",
      " 90%|█████████ | 9/10 [06:01<00:40, 40.20s/it]"
     ]
    },
    {
     "name": "stdout",
     "output_type": "stream",
     "text": [
      " Random seed is 491\n"
     ]
    },
    {
     "name": "stderr",
     "output_type": "stream",
     "text": [
      "100%|██████████| 61/61 [00:37<00:00,  1.63it/s]\n",
      "100%|██████████| 10/10 [06:42<00:00, 40.21s/it]\n"
     ]
    },
    {
     "name": "stdout",
     "output_type": "stream",
     "text": [
      "RA_sig_slope = 15, LEARNING_RATE_HL = 1.6e-05\n",
      "Annealing 2 = [0.1359295599300473, 0.9845415533563029, 0.934505489831487, 0.8019233776697808, 0.44817174255195397, 0.9969459262174142, 0.433393626008911, 0.44325890823511893, 0.8820316784616711, 0.9194882326829104]\n"
     ]
    },
    {
     "name": "stderr",
     "output_type": "stream",
     "text": [
      "  0%|          | 0/10 [00:00<?, ?it/s]"
     ]
    },
    {
     "name": "stdout",
     "output_type": "stream",
     "text": [
      " Random seed is 60\n"
     ]
    },
    {
     "name": "stderr",
     "output_type": "stream",
     "text": [
      "100%|██████████| 61/61 [00:37<00:00,  1.61it/s]\n",
      " 10%|█         | 1/10 [00:40<06:04, 40.52s/it]"
     ]
    },
    {
     "name": "stdout",
     "output_type": "stream",
     "text": [
      " Random seed is 71\n"
     ]
    },
    {
     "name": "stderr",
     "output_type": "stream",
     "text": [
      "100%|██████████| 61/61 [00:35<00:00,  1.70it/s]\n",
      " 20%|██        | 2/10 [01:19<05:15, 39.48s/it]"
     ]
    },
    {
     "name": "stdout",
     "output_type": "stream",
     "text": [
      " Random seed is 194\n"
     ]
    },
    {
     "name": "stderr",
     "output_type": "stream",
     "text": [
      "100%|██████████| 61/61 [00:42<00:00,  1.45it/s]\n",
      " 30%|███       | 3/10 [02:04<04:54, 42.03s/it]"
     ]
    },
    {
     "name": "stdout",
     "output_type": "stream",
     "text": [
      " Random seed is 259\n"
     ]
    },
    {
     "name": "stderr",
     "output_type": "stream",
     "text": [
      "100%|██████████| 61/61 [00:40<00:00,  1.49it/s]\n",
      " 40%|████      | 4/10 [02:48<04:17, 42.90s/it]"
     ]
    },
    {
     "name": "stdout",
     "output_type": "stream",
     "text": [
      " Random seed is 323\n"
     ]
    },
    {
     "name": "stderr",
     "output_type": "stream",
     "text": [
      "100%|██████████| 61/61 [00:42<00:00,  1.43it/s]\n",
      " 50%|█████     | 5/10 [03:34<03:40, 44.09s/it]"
     ]
    },
    {
     "name": "stdout",
     "output_type": "stream",
     "text": [
      " Random seed is 373\n"
     ]
    },
    {
     "name": "stderr",
     "output_type": "stream",
     "text": [
      "100%|██████████| 61/61 [00:39<00:00,  1.53it/s]\n",
      " 60%|██████    | 6/10 [04:17<02:54, 43.58s/it]"
     ]
    },
    {
     "name": "stdout",
     "output_type": "stream",
     "text": [
      " Random seed is 389\n"
     ]
    },
    {
     "name": "stderr",
     "output_type": "stream",
     "text": [
      "100%|██████████| 61/61 [00:35<00:00,  1.73it/s]\n",
      " 70%|███████   | 7/10 [04:55<02:05, 41.78s/it]"
     ]
    },
    {
     "name": "stdout",
     "output_type": "stream",
     "text": [
      " Random seed is 436\n"
     ]
    },
    {
     "name": "stderr",
     "output_type": "stream",
     "text": [
      "100%|██████████| 61/61 [00:34<00:00,  1.76it/s]\n",
      " 80%|████████  | 8/10 [05:33<01:21, 40.61s/it]"
     ]
    },
    {
     "name": "stdout",
     "output_type": "stream",
     "text": [
      " Random seed is 466\n"
     ]
    },
    {
     "name": "stderr",
     "output_type": "stream",
     "text": [
      "100%|██████████| 61/61 [00:38<00:00,  1.57it/s]\n",
      " 90%|█████████ | 9/10 [06:15<00:40, 40.93s/it]"
     ]
    },
    {
     "name": "stdout",
     "output_type": "stream",
     "text": [
      " Random seed is 491\n"
     ]
    },
    {
     "name": "stderr",
     "output_type": "stream",
     "text": [
      "100%|██████████| 61/61 [00:42<00:00,  1.44it/s]\n",
      "100%|██████████| 10/10 [07:01<00:00, 42.14s/it]\n"
     ]
    },
    {
     "name": "stdout",
     "output_type": "stream",
     "text": [
      "RA_sig_slope = 18, LEARNING_RATE_HL = 2e-05\n",
      "Annealing 3 = [0.9960518295021804, 0.9517194803720435, 0.8369526822079458, 0.9612692350503518, 0.43098295870564757, 0.9505096835378817, 0.5263578296063127, 0.9834031671915756, 0.8753820485064219, 0.996940436783981]\n"
     ]
    },
    {
     "name": "stderr",
     "output_type": "stream",
     "text": [
      "  0%|          | 0/10 [00:00<?, ?it/s]"
     ]
    },
    {
     "name": "stdout",
     "output_type": "stream",
     "text": [
      " Random seed is 60\n"
     ]
    },
    {
     "name": "stderr",
     "output_type": "stream",
     "text": [
      "100%|██████████| 61/61 [00:39<00:00,  1.56it/s]\n",
      " 10%|█         | 1/10 [00:42<06:26, 42.97s/it]"
     ]
    },
    {
     "name": "stdout",
     "output_type": "stream",
     "text": [
      " Random seed is 71\n"
     ]
    },
    {
     "name": "stderr",
     "output_type": "stream",
     "text": [
      "100%|██████████| 61/61 [00:39<00:00,  1.54it/s]\n",
      " 20%|██        | 2/10 [01:25<05:43, 43.00s/it]"
     ]
    },
    {
     "name": "stdout",
     "output_type": "stream",
     "text": [
      " Random seed is 194\n"
     ]
    },
    {
     "name": "stderr",
     "output_type": "stream",
     "text": [
      "100%|██████████| 61/61 [00:42<00:00,  1.45it/s]\n",
      " 30%|███       | 3/10 [02:11<05:08, 44.02s/it]"
     ]
    },
    {
     "name": "stdout",
     "output_type": "stream",
     "text": [
      " Random seed is 259\n"
     ]
    },
    {
     "name": "stderr",
     "output_type": "stream",
     "text": [
      "100%|██████████| 61/61 [00:40<00:00,  1.52it/s]\n",
      " 40%|████      | 4/10 [02:55<04:24, 44.03s/it]"
     ]
    },
    {
     "name": "stdout",
     "output_type": "stream",
     "text": [
      " Random seed is 323\n"
     ]
    },
    {
     "name": "stderr",
     "output_type": "stream",
     "text": [
      "100%|██████████| 61/61 [00:40<00:00,  1.50it/s]\n",
      " 50%|█████     | 5/10 [03:39<03:41, 44.27s/it]"
     ]
    },
    {
     "name": "stdout",
     "output_type": "stream",
     "text": [
      " Random seed is 373\n"
     ]
    },
    {
     "name": "stderr",
     "output_type": "stream",
     "text": [
      "100%|██████████| 61/61 [00:40<00:00,  1.49it/s]\n",
      " 60%|██████    | 6/10 [04:24<02:57, 44.35s/it]"
     ]
    },
    {
     "name": "stdout",
     "output_type": "stream",
     "text": [
      " Random seed is 389\n"
     ]
    },
    {
     "name": "stderr",
     "output_type": "stream",
     "text": [
      "100%|██████████| 61/61 [00:42<00:00,  1.45it/s]\n",
      " 70%|███████   | 7/10 [05:09<02:13, 44.66s/it]"
     ]
    },
    {
     "name": "stdout",
     "output_type": "stream",
     "text": [
      " Random seed is 436\n"
     ]
    },
    {
     "name": "stderr",
     "output_type": "stream",
     "text": [
      "100%|██████████| 61/61 [00:43<00:00,  1.41it/s]\n",
      " 80%|████████  | 8/10 [05:56<01:30, 45.45s/it]"
     ]
    },
    {
     "name": "stdout",
     "output_type": "stream",
     "text": [
      " Random seed is 466\n"
     ]
    },
    {
     "name": "stderr",
     "output_type": "stream",
     "text": [
      "100%|██████████| 61/61 [00:42<00:00,  1.43it/s]\n",
      " 90%|█████████ | 9/10 [06:42<00:45, 45.60s/it]"
     ]
    },
    {
     "name": "stdout",
     "output_type": "stream",
     "text": [
      " Random seed is 491\n"
     ]
    },
    {
     "name": "stderr",
     "output_type": "stream",
     "text": [
      "100%|██████████| 61/61 [00:37<00:00,  1.63it/s]\n",
      "100%|██████████| 10/10 [07:23<00:00, 44.36s/it]\n"
     ]
    },
    {
     "name": "stdout",
     "output_type": "stream",
     "text": [
      "RA_sig_slope = 15, LEARNING_RATE_HL = 1.6e-05\n",
      "Annealing 4 = [0.1359295599300473, 0.9845415533563029, 0.934505489831487, 0.8019233776697808, 0.44817174255195397, 0.9969459262174142, 0.433393626008911, 0.44325890823511893, 0.8820316784616711, 0.9194882326829104]\n"
     ]
    },
    {
     "data": {
      "image/png": "[encoded data removed]",
      "text/plain": [
       "<Figure size 640x480 with 1 Axes>"
      ]
     },
     "metadata": {},
     "output_type": "display_data"
    }
   ],
   "source": [
    "import numpy as np\n",
    "import sys\n",
    "import os \n",
    "import matplotlib.pyplot as plt\n",
    "# from module import *\n",
    "from tqdm import tqdm\n",
    "\n",
    "save_dir = \"C:/Users/Dell\\OneDrive%-%Indian%Institute%of%Science\\Projects\\Bordeaux\\Bordeaux_codes/plots\"\n",
    "TEST_NOS = 10\n",
    "seeds = np.random.randint(0, 500, TEST_NOS)\n",
    "seeds = np.sort(seeds)\n",
    "# seeds = [233, 275, 290, 311, 402]\n",
    "\n",
    "# Redirect stdout to a file\n",
    "# original_stdout = sys.stdout  # Save a reference to the original standard output\n",
    "# output_file_path = os.path.join(save_dir, \"output.txt\")\n",
    "# with open(output_file_path, 'w') as f:\n",
    "#     sys.stdout = f  # Change the standard output to the file we created.\n",
    "\n",
    "print(\"Seeds: \", seeds)\n",
    "\n",
    "non_annealing_returns = []\n",
    "annealing_1 = []\n",
    "annealing_2 = []\n",
    "annealing_3 = []\n",
    "annealing_4 = []\n",
    "\n",
    "# for filename in os.listdir(save_dir):\n",
    "#     if filename.endswith(\".png\") or filename.endswith(\".jpg\"):\n",
    "#         os.remove(os.path.join(save_dir, filename))\n",
    "\n",
    "for i in tqdm(range(TEST_NOS)):\n",
    "    seed = seeds[i]\n",
    "    returns = build_and_run(seed, False, True)\n",
    "    non_annealing_returns.append(returns)\n",
    "print(f\"Non annealing = {non_annealing_returns}\")\n",
    "\n",
    "# annealing 1\n",
    "RA_sig_slope = 18\n",
    "LEARNING_RATE_HL = 1.6e-5\n",
    "for i in tqdm(range(TEST_NOS)):\n",
    "    seed = seeds[i]\n",
    "    returns = build_and_run(seed, True, True)\n",
    "    annealing_1.append(returns)\n",
    "print(f\"RA_sig_slope = {RA_sig_slope}, LEARNING_RATE_HL = {LEARNING_RATE_HL}\")\n",
    "print(f\"Annealing 1 = {annealing_1}\")\n",
    "\n",
    "# annealing 2\n",
    "RA_sig_slope = 15\n",
    "LEARNING_RATE_HL = 1.6e-5\n",
    "for i in tqdm(range(TEST_NOS)):\n",
    "    seed = seeds[i]\n",
    "    returns = build_and_run(seed, True, True)\n",
    "    annealing_2.append(returns)\n",
    "print(f\"RA_sig_slope = {RA_sig_slope}, LEARNING_RATE_HL = {LEARNING_RATE_HL}\")\n",
    "print(f\"Annealing 2 = {annealing_2}\")\n",
    "\n",
    "# annealing 3\n",
    "RA_sig_slope = 18\n",
    "LEARNING_RATE_HL = 2e-5\n",
    "for i in tqdm(range(TEST_NOS)):\n",
    "    seed = seeds[i]\n",
    "    returns = build_and_run(seed, True, True)\n",
    "    annealing_3.append(returns)\n",
    "print(f\"RA_sig_slope = {RA_sig_slope}, LEARNING_RATE_HL = {LEARNING_RATE_HL}\")\n",
    "print(f\"Annealing 3 = {annealing_3}\")\n",
    "\n",
    "# annealing 4\n",
    "RA_sig_slope = 15\n",
    "LEARNING_RATE_HL = 1.6e-5\n",
    "for i in tqdm(range(TEST_NOS)):\n",
    "    seed = seeds[i]\n",
    "    returns = build_and_run(seed, True, True)\n",
    "    annealing_4.append(returns)\n",
    "print(f\"RA_sig_slope = {RA_sig_slope}, LEARNING_RATE_HL = {LEARNING_RATE_HL}\")\n",
    "print(f\"Annealing 4 = {annealing_4}\")\n",
    "\n",
    "\n",
    "# Plotting is done outside the file writing block to not capture plot generation messages\n",
    "fig, ax = plt.subplots(1,1)\n",
    "ax.plot(non_annealing_returns, label='Non-Annealing', linewidth=0, marker='o')\n",
    "ax.plot(annealing_1, label='Annealing 1', linewidth=0, marker='o')\n",
    "ax.plot(annealing_2, label='Annealing 2', linewidth=0, marker='o')\n",
    "ax.plot(annealing_3, label='Annealing 3', linewidth=0, marker='o')\n",
    "ax.plot(annealing_4, label='Annealing 4', linewidth=0, marker='o')\n",
    "ax.set_ylim(0, 1)\n",
    "plt.xticks(np.arange(0, TEST_NOS, step=1), labels=seeds)\n",
    "ax.legend()\n",
    "ax.set_xlabel('Seeds')\n",
    "ax.set_ylabel('Returns')\n",
    "plt.hlines(0.7, 0, TEST_NOS, linestyles='dashed')\n",
    "fig.suptitle('Results', fontsize=20)\n",
    "fig.size = (20, 20)\n",
    "plt.show()\n",
    "# Save the plot\n",
    "# plt.savefig(os.path.join(save_dir, f\"Overall_results.png\"))\n",
    "# plt.close()  # Close the plot to avoid memory leaks"
   ]
  },
  {
   "cell_type": "code",
   "execution_count": 3,
   "metadata": {},
   "outputs": [
    {
     "name": "stderr",
     "output_type": "stream",
     "text": [
      "  0%|          | 0/10 [00:00<?, ?it/s]"
     ]
    },
    {
     "name": "stdout",
     "output_type": "stream",
     "text": [
      " Random seed is 60\n"
     ]
    },
    {
     "name": "stderr",
     "output_type": "stream",
     "text": [
      "100%|██████████| 61/61 [00:35<00:00,  1.73it/s]\n",
      " 10%|█         | 1/10 [00:38<05:46, 38.54s/it]"
     ]
    },
    {
     "name": "stdout",
     "output_type": "stream",
     "text": [
      " Random seed is 71\n"
     ]
    },
    {
     "name": "stderr",
     "output_type": "stream",
     "text": [
      "100%|██████████| 61/61 [00:45<00:00,  1.33it/s]\n",
      " 20%|██        | 2/10 [01:27<05:55, 44.41s/it]"
     ]
    },
    {
     "name": "stdout",
     "output_type": "stream",
     "text": [
      " Random seed is 194\n"
     ]
    },
    {
     "name": "stderr",
     "output_type": "stream",
     "text": [
      "100%|██████████| 61/61 [00:41<00:00,  1.48it/s]\n",
      " 30%|███       | 3/10 [02:11<05:11, 44.47s/it]"
     ]
    },
    {
     "name": "stdout",
     "output_type": "stream",
     "text": [
      " Random seed is 259\n"
     ]
    },
    {
     "name": "stderr",
     "output_type": "stream",
     "text": [
      "100%|██████████| 61/61 [00:44<00:00,  1.37it/s]\n",
      " 40%|████      | 4/10 [02:58<04:33, 45.60s/it]"
     ]
    },
    {
     "name": "stdout",
     "output_type": "stream",
     "text": [
      " Random seed is 323\n"
     ]
    },
    {
     "name": "stderr",
     "output_type": "stream",
     "text": [
      "100%|██████████| 61/61 [00:35<00:00,  1.71it/s]\n",
      " 50%|█████     | 5/10 [03:41<03:43, 44.64s/it]"
     ]
    },
    {
     "name": "stdout",
     "output_type": "stream",
     "text": [
      " Random seed is 373\n"
     ]
    },
    {
     "name": "stderr",
     "output_type": "stream",
     "text": [
      "100%|██████████| 61/61 [00:34<00:00,  1.74it/s]\n",
      " 60%|██████    | 6/10 [04:19<02:49, 42.28s/it]"
     ]
    },
    {
     "name": "stdout",
     "output_type": "stream",
     "text": [
      " Random seed is 389\n"
     ]
    },
    {
     "name": "stderr",
     "output_type": "stream",
     "text": [
      "100%|██████████| 61/61 [00:37<00:00,  1.61it/s]\n",
      " 70%|███████   | 7/10 [05:01<02:06, 42.07s/it]"
     ]
    },
    {
     "name": "stdout",
     "output_type": "stream",
     "text": [
      " Random seed is 436\n"
     ]
    },
    {
     "name": "stderr",
     "output_type": "stream",
     "text": [
      "100%|██████████| 61/61 [00:39<00:00,  1.55it/s]\n",
      " 80%|████████  | 8/10 [05:44<01:24, 42.37s/it]"
     ]
    },
    {
     "name": "stdout",
     "output_type": "stream",
     "text": [
      " Random seed is 466\n"
     ]
    },
    {
     "name": "stderr",
     "output_type": "stream",
     "text": [
      "100%|██████████| 61/61 [00:44<00:00,  1.36it/s]\n",
      " 90%|█████████ | 9/10 [06:31<00:43, 43.85s/it]"
     ]
    },
    {
     "name": "stdout",
     "output_type": "stream",
     "text": [
      " Random seed is 491\n"
     ]
    },
    {
     "name": "stderr",
     "output_type": "stream",
     "text": [
      "100%|██████████| 61/61 [00:39<00:00,  1.56it/s]\n",
      "100%|██████████| 10/10 [07:13<00:00, 43.36s/it]\n"
     ]
    },
    {
     "name": "stdout",
     "output_type": "stream",
     "text": [
      "RA_sig_slope = 15, LEARNING_RATE_HL = 2e-05\n",
      "Annealing 2 = [0.6521647774776024, 0.8423209507034289, 0.6576749098186547, 0.96408991400527, 0.6850407303615427, 0.9259502310961615, 0.43027916643237923, 0.6476284384923485, 0.9352865115242923, 0.9106136734402516]\n"
     ]
    },
    {
     "data": {
      "image/png": "[encoded data removed]",
      "text/plain": [
       "<Figure size 640x480 with 1 Axes>"
      ]
     },
     "metadata": {},
     "output_type": "display_data"
    }
   ],
   "source": [
    "annealing_2 = []\n",
    "# annealing 2\n",
    "RA_sig_slope = 15\n",
    "LEARNING_RATE_HL = 2e-5\n",
    "for i in tqdm(range(TEST_NOS)):\n",
    "    seed = seeds[i]\n",
    "    returns = build_and_run(seed, True, True)\n",
    "    annealing_2.append(returns)\n",
    "print(f\"RA_sig_slope = {RA_sig_slope}, LEARNING_RATE_HL = {LEARNING_RATE_HL}\")\n",
    "print(f\"Annealing 2 = {annealing_2}\")\n",
    "\n",
    "# Plotting is done outside the file writing block to not capture plot generation messages\n",
    "fig, ax = plt.subplots(1,1)\n",
    "ax.plot(non_annealing_returns, label='Non-Annealing', linewidth=0, marker='o')\n",
    "ax.plot(annealing_1, label='Annealing 1', linewidth=0, marker='o')\n",
    "ax.plot(annealing_2, label='Annealing 2', linewidth=0, marker='o')\n",
    "ax.plot(annealing_3, label='Annealing 3', linewidth=0, marker='o')\n",
    "ax.plot(annealing_4, label='Annealing 4', linewidth=0, marker='o')\n",
    "ax.set_ylim(0, 1)\n",
    "plt.xticks(np.arange(0, TEST_NOS, step=1), labels=seeds)\n",
    "ax.legend()\n",
    "ax.set_xlabel('Seeds')\n",
    "ax.set_ylabel('Returns')\n",
    "plt.hlines(0.7, 0, TEST_NOS, linestyles='dashed')\n",
    "fig.suptitle('Results', fontsize=20)\n",
    "fig.size = (20, 20)\n",
    "plt.show()"
   ]
  },
  {
   "cell_type": "code",
   "execution_count": 4,
   "metadata": {},
   "outputs": [
    {
     "name": "stderr",
     "output_type": "stream",
     "text": [
      "  0%|          | 0/10 [00:00<?, ?it/s]"
     ]
    },
    {
     "name": "stdout",
     "output_type": "stream",
     "text": [
      " Random seed is 60\n"
     ]
    },
    {
     "name": "stderr",
     "output_type": "stream",
     "text": [
      "100%|██████████| 61/61 [00:37<00:00,  1.62it/s]\n",
      " 10%|█         | 1/10 [00:40<06:02, 40.26s/it]"
     ]
    },
    {
     "name": "stdout",
     "output_type": "stream",
     "text": [
      " Random seed is 71\n"
     ]
    },
    {
     "name": "stderr",
     "output_type": "stream",
     "text": [
      "100%|██████████| 61/61 [00:41<00:00,  1.46it/s]\n",
      " 20%|██        | 2/10 [01:25<05:43, 42.99s/it]"
     ]
    },
    {
     "name": "stdout",
     "output_type": "stream",
     "text": [
      " Random seed is 194\n"
     ]
    },
    {
     "name": "stderr",
     "output_type": "stream",
     "text": [
      "100%|██████████| 61/61 [00:37<00:00,  1.64it/s]\n",
      " 30%|███       | 3/10 [02:06<04:54, 42.05s/it]"
     ]
    },
    {
     "name": "stdout",
     "output_type": "stream",
     "text": [
      " Random seed is 259\n"
     ]
    },
    {
     "name": "stderr",
     "output_type": "stream",
     "text": [
      "100%|██████████| 61/61 [00:39<00:00,  1.53it/s]\n",
      " 40%|████      | 4/10 [02:49<04:16, 42.67s/it]"
     ]
    },
    {
     "name": "stdout",
     "output_type": "stream",
     "text": [
      " Random seed is 323\n"
     ]
    },
    {
     "name": "stderr",
     "output_type": "stream",
     "text": [
      "100%|██████████| 61/61 [00:39<00:00,  1.56it/s]\n",
      " 50%|█████     | 5/10 [03:32<03:33, 42.70s/it]"
     ]
    },
    {
     "name": "stdout",
     "output_type": "stream",
     "text": [
      " Random seed is 373\n"
     ]
    },
    {
     "name": "stderr",
     "output_type": "stream",
     "text": [
      "100%|██████████| 61/61 [00:43<00:00,  1.39it/s]\n",
      " 60%|██████    | 6/10 [04:19<02:57, 44.33s/it]"
     ]
    },
    {
     "name": "stdout",
     "output_type": "stream",
     "text": [
      " Random seed is 389\n"
     ]
    },
    {
     "name": "stderr",
     "output_type": "stream",
     "text": [
      "100%|██████████| 61/61 [00:41<00:00,  1.48it/s]\n",
      " 70%|███████   | 7/10 [05:04<02:13, 44.48s/it]"
     ]
    },
    {
     "name": "stdout",
     "output_type": "stream",
     "text": [
      " Random seed is 436\n"
     ]
    },
    {
     "name": "stderr",
     "output_type": "stream",
     "text": [
      "100%|██████████| 61/61 [00:43<00:00,  1.39it/s]\n",
      " 80%|████████  | 8/10 [05:52<01:30, 45.40s/it]"
     ]
    },
    {
     "name": "stdout",
     "output_type": "stream",
     "text": [
      " Random seed is 466\n"
     ]
    },
    {
     "name": "stderr",
     "output_type": "stream",
     "text": [
      "100%|██████████| 61/61 [00:42<00:00,  1.44it/s]\n",
      " 90%|█████████ | 9/10 [06:37<00:45, 45.32s/it]"
     ]
    },
    {
     "name": "stdout",
     "output_type": "stream",
     "text": [
      " Random seed is 491\n"
     ]
    },
    {
     "name": "stderr",
     "output_type": "stream",
     "text": [
      "100%|██████████| 61/61 [00:42<00:00,  1.43it/s]\n",
      "100%|██████████| 10/10 [07:23<00:00, 44.34s/it]\n"
     ]
    },
    {
     "name": "stdout",
     "output_type": "stream",
     "text": [
      "RA_sig_slope = 20, LEARNING_RATE_HL = 2e-05\n",
      "Annealing 5 = [0.9809449236611134, 0.9580530643980417, 0.5827354173582403, 0.3345472777044078, 0.5272925027770916, 0.8960000160387005, 0.2998828305753707, 0.7873871300186879, 0.9864128717627395, 0.36942996146939466]\n"
     ]
    },
    {
     "data": {
      "image/png": "[encoded data removed]",
      "text/plain": [
       "<Figure size 640x480 with 1 Axes>"
      ]
     },
     "metadata": {},
     "output_type": "display_data"
    }
   ],
   "source": [
    "annealing_5 = []\n",
    "# annealing 5\n",
    "BG_sig_slope = 5  \n",
    "RA_sig_slope = 20\n",
    "LEARNING_RATE_HL = 2e-5\n",
    "ANNEALING_SLOPE = 2 # 4\n",
    "ANNEALING_MID = 5 # 2 \n",
    "for i in tqdm(range(TEST_NOS)):\n",
    "    seed = seeds[i]\n",
    "    returns = build_and_run(seed, True, True)\n",
    "    annealing_5.append(returns)\n",
    "print(f\"RA_sig_slope = {RA_sig_slope}, LEARNING_RATE_HL = {LEARNING_RATE_HL}\")\n",
    "print(f\"Annealing 5 = {annealing_5}\")\n",
    "\n",
    "# Plotting is done outside the file writing block to not capture plot generation messages\n",
    "fig, ax = plt.subplots(1,1)\n",
    "ax.plot(non_annealing_returns, label='Non-Annealing', linewidth=0, marker='o')\n",
    "ax.plot(annealing_1, label='Annealing 1', linewidth=0, marker='o')\n",
    "ax.plot(annealing_2, label='Annealing 2', linewidth=0, marker='o')\n",
    "ax.plot(annealing_3, label='Annealing 3', linewidth=0, marker='o')\n",
    "ax.plot(annealing_4, label='Annealing 4', linewidth=0, marker='o')\n",
    "ax.plot(annealing_5, label='Annealing 5', linewidth=0, marker='o')\n",
    "ax.set_ylim(0, 1)\n",
    "plt.xticks(np.arange(0, TEST_NOS, step=1), labels=seeds)\n",
    "ax.legend()\n",
    "ax.set_xlabel('Seeds')\n",
    "ax.set_ylabel('Returns')\n",
    "plt.hlines(0.7, 0, TEST_NOS, linestyles='dashed')\n",
    "fig.suptitle('Results', fontsize=20)\n",
    "fig.size = (20, 20)\n",
    "plt.show()"
   ]
  },
  {
   "cell_type": "code",
   "execution_count": 8,
   "metadata": {},
   "outputs": [
    {
     "name": "stdout",
     "output_type": "stream",
     "text": [
      "Seeds:  [ 20  42  59  60  74 142 286 378 401 464]\n"
     ]
    },
    {
     "name": "stderr",
     "output_type": "stream",
     "text": [
      "  0%|          | 0/10 [00:00<?, ?it/s]"
     ]
    },
    {
     "name": "stdout",
     "output_type": "stream",
     "text": [
      " Random seed is 20\n"
     ]
    },
    {
     "name": "stderr",
     "output_type": "stream",
     "text": [
      "100%|██████████| 61/61 [00:40<00:00,  1.50it/s]\n",
      " 10%|█         | 1/10 [00:44<06:42, 44.78s/it]"
     ]
    },
    {
     "name": "stdout",
     "output_type": "stream",
     "text": [
      " Random seed is 42\n"
     ]
    },
    {
     "name": "stderr",
     "output_type": "stream",
     "text": [
      "100%|██████████| 61/61 [00:43<00:00,  1.39it/s]\n",
      " 20%|██        | 2/10 [01:32<06:11, 46.46s/it]"
     ]
    },
    {
     "name": "stdout",
     "output_type": "stream",
     "text": [
      " Random seed is 59\n"
     ]
    },
    {
     "name": "stderr",
     "output_type": "stream",
     "text": [
      "100%|██████████| 61/61 [00:40<00:00,  1.51it/s]\n",
      " 30%|███       | 3/10 [02:16<05:17, 45.41s/it]"
     ]
    },
    {
     "name": "stdout",
     "output_type": "stream",
     "text": [
      " Random seed is 60\n"
     ]
    },
    {
     "name": "stderr",
     "output_type": "stream",
     "text": [
      "100%|██████████| 61/61 [00:46<00:00,  1.31it/s]\n",
      " 40%|████      | 4/10 [03:05<04:41, 46.94s/it]"
     ]
    },
    {
     "name": "stdout",
     "output_type": "stream",
     "text": [
      " Random seed is 74\n"
     ]
    },
    {
     "name": "stderr",
     "output_type": "stream",
     "text": [
      "100%|██████████| 61/61 [00:43<00:00,  1.39it/s]\n",
      " 50%|█████     | 5/10 [03:53<03:55, 47.09s/it]"
     ]
    },
    {
     "name": "stdout",
     "output_type": "stream",
     "text": [
      " Random seed is 142\n"
     ]
    },
    {
     "name": "stderr",
     "output_type": "stream",
     "text": [
      "100%|██████████| 61/61 [00:44<00:00,  1.38it/s]\n",
      " 60%|██████    | 6/10 [04:40<03:09, 47.27s/it]"
     ]
    },
    {
     "name": "stdout",
     "output_type": "stream",
     "text": [
      " Random seed is 286\n"
     ]
    },
    {
     "name": "stderr",
     "output_type": "stream",
     "text": [
      "100%|██████████| 61/61 [00:45<00:00,  1.34it/s]\n",
      " 70%|███████   | 7/10 [05:29<02:23, 47.76s/it]"
     ]
    },
    {
     "name": "stdout",
     "output_type": "stream",
     "text": [
      " Random seed is 378\n"
     ]
    },
    {
     "name": "stderr",
     "output_type": "stream",
     "text": [
      "100%|██████████| 61/61 [00:49<00:00,  1.24it/s]\n",
      " 80%|████████  | 8/10 [06:22<01:38, 49.46s/it]"
     ]
    },
    {
     "name": "stdout",
     "output_type": "stream",
     "text": [
      " Random seed is 401\n"
     ]
    },
    {
     "name": "stderr",
     "output_type": "stream",
     "text": [
      "100%|██████████| 61/61 [00:45<00:00,  1.35it/s]\n",
      " 90%|█████████ | 9/10 [07:11<00:49, 49.26s/it]"
     ]
    },
    {
     "name": "stdout",
     "output_type": "stream",
     "text": [
      " Random seed is 464\n"
     ]
    },
    {
     "name": "stderr",
     "output_type": "stream",
     "text": [
      "100%|██████████| 61/61 [00:46<00:00,  1.32it/s]\n",
      "100%|██████████| 10/10 [08:01<00:00, 48.12s/it]\n"
     ]
    },
    {
     "name": "stdout",
     "output_type": "stream",
     "text": [
      "RA_sig_slope = 20, LEARNING_RATE_HL = 2e-05\n",
      "Annealing 5 = [0.5068711500803347, 0.7982938253691834, 0.551993801622797, 0.9809449236611134, 0.9050561860589282, 0.7534309919079648, 0.9054419840874098, 0.4418078441763229, 0.8515977163747479, 0.9593855772919685]\n"
     ]
    },
    {
     "name": "stderr",
     "output_type": "stream",
     "text": [
      "  0%|          | 0/10 [00:00<?, ?it/s]"
     ]
    },
    {
     "name": "stdout",
     "output_type": "stream",
     "text": [
      " Random seed is 20\n"
     ]
    },
    {
     "name": "stderr",
     "output_type": "stream",
     "text": [
      "100%|██████████| 61/61 [00:48<00:00,  1.25it/s]\n",
      " 10%|█         | 1/10 [00:51<07:46, 51.84s/it]"
     ]
    },
    {
     "name": "stdout",
     "output_type": "stream",
     "text": [
      " Random seed is 42\n"
     ]
    },
    {
     "name": "stderr",
     "output_type": "stream",
     "text": [
      "100%|██████████| 61/61 [00:49<00:00,  1.23it/s]\n",
      " 20%|██        | 2/10 [01:45<07:03, 52.92s/it]"
     ]
    },
    {
     "name": "stdout",
     "output_type": "stream",
     "text": [
      " Random seed is 59\n"
     ]
    },
    {
     "name": "stderr",
     "output_type": "stream",
     "text": [
      "100%|██████████| 61/61 [00:45<00:00,  1.35it/s]\n",
      " 30%|███       | 3/10 [02:33<05:54, 50.66s/it]"
     ]
    },
    {
     "name": "stdout",
     "output_type": "stream",
     "text": [
      " Random seed is 60\n"
     ]
    },
    {
     "name": "stderr",
     "output_type": "stream",
     "text": [
      "100%|██████████| 61/61 [00:44<00:00,  1.37it/s]\n",
      " 40%|████      | 4/10 [03:20<04:55, 49.28s/it]"
     ]
    },
    {
     "name": "stdout",
     "output_type": "stream",
     "text": [
      " Random seed is 74\n"
     ]
    },
    {
     "name": "stderr",
     "output_type": "stream",
     "text": [
      "100%|██████████| 61/61 [00:43<00:00,  1.39it/s]\n",
      " 50%|█████     | 5/10 [04:08<04:03, 48.75s/it]"
     ]
    },
    {
     "name": "stdout",
     "output_type": "stream",
     "text": [
      " Random seed is 142\n"
     ]
    },
    {
     "name": "stderr",
     "output_type": "stream",
     "text": [
      "100%|██████████| 61/61 [00:52<00:00,  1.17it/s]\n",
      " 60%|██████    | 6/10 [05:04<03:24, 51.24s/it]"
     ]
    },
    {
     "name": "stdout",
     "output_type": "stream",
     "text": [
      " Random seed is 286\n"
     ]
    },
    {
     "name": "stderr",
     "output_type": "stream",
     "text": [
      "100%|██████████| 61/61 [00:58<00:00,  1.04it/s]\n",
      " 70%|███████   | 7/10 [06:07<02:44, 54.93s/it]"
     ]
    },
    {
     "name": "stdout",
     "output_type": "stream",
     "text": [
      " Random seed is 378\n"
     ]
    },
    {
     "name": "stderr",
     "output_type": "stream",
     "text": [
      "100%|██████████| 61/61 [00:57<00:00,  1.05it/s]\n",
      " 80%|████████  | 8/10 [07:09<01:54, 57.16s/it]"
     ]
    },
    {
     "name": "stdout",
     "output_type": "stream",
     "text": [
      " Random seed is 401\n"
     ]
    },
    {
     "name": "stderr",
     "output_type": "stream",
     "text": [
      "100%|██████████| 61/61 [00:59<00:00,  1.02it/s]\n",
      " 90%|█████████ | 9/10 [08:13<00:59, 59.36s/it]"
     ]
    },
    {
     "name": "stdout",
     "output_type": "stream",
     "text": [
      " Random seed is 464\n"
     ]
    },
    {
     "name": "stderr",
     "output_type": "stream",
     "text": [
      "100%|██████████| 61/61 [00:56<00:00,  1.08it/s]\n",
      "100%|██████████| 10/10 [09:13<00:00, 55.37s/it]"
     ]
    },
    {
     "name": "stdout",
     "output_type": "stream",
     "text": [
      "RA_sig_slope = 18, LEARNING_RATE_HL = 2e-05\n",
      "Annealing 3 = [0.7923497316697343, 0.7766123948900091, 0.36654998834964564, 0.87960544564246, 0.5612212596695216, 0.3612951769936841, 0.6499018681246966, 0.26432192108531577, 0.4797804690760966, 0.5982936580281144]\n"
     ]
    },
    {
     "name": "stderr",
     "output_type": "stream",
     "text": [
      "\n"
     ]
    }
   ],
   "source": [
    "annealing_3 = []\n",
    "annealing_5 = []\n",
    "\n",
    "seeds = np.random.randint(0, 500, TEST_NOS)\n",
    "seeds = np.sort(seeds)\n",
    "print(\"Seeds: \", seeds)\n",
    "\n",
    "# annealing 5\n",
    "BG_sig_slope = 5\n",
    "RA_sig_slope = 20\n",
    "LEARNING_RATE_HL = 2e-5\n",
    "ANNEALING_SLOPE = 2 # 4\n",
    "ANNEALING_MID = 5 # 2\n",
    "for i in tqdm(range(TEST_NOS)):\n",
    "    seed = seeds[i]\n",
    "    returns = build_and_run(seed, True, True)\n",
    "    annealing_5.append(returns)\n",
    "print(f\"RA_sig_slope = {RA_sig_slope}, LEARNING_RATE_HL = {LEARNING_RATE_HL}\")\n",
    "print(f\"Annealing 5 = {annealing_5}\")\n",
    "\n",
    "\n",
    "# annealing 3\n",
    "BG_sig_slope = 2.5\n",
    "RA_sig_slope = 18\n",
    "LEARNING_RATE_HL = 2e-5\n",
    "ANNEALING_SLOPE = 4 # 4\n",
    "ANNELING_MID = 2 # 2\n",
    "for i in tqdm(range(TEST_NOS)):\n",
    "    seed = seeds[i]\n",
    "    returns = build_and_run(seed, True, True)\n",
    "    annealing_3.append(returns)\n",
    "print(f\"RA_sig_slope = {RA_sig_slope}, LEARNING_RATE_HL = {LEARNING_RATE_HL}\")\n",
    "print(f\"Annealing 3 = {annealing_3}\")\n"
   ]
  },
  {
   "cell_type": "code",
   "execution_count": 9,
   "metadata": {},
   "outputs": [
    {
     "data": {
      "image/png": "[encoded data removed]",
      "text/plain": [
       "<Figure size 640x480 with 1 Axes>"
      ]
     },
     "metadata": {},
     "output_type": "display_data"
    }
   ],
   "source": [
    "\n",
    "# Plotting is done outside the file writing block to not capture plot generation messages\n",
    "fig, ax = plt.subplots(1,1)\n",
    "ax.plot(non_annealing_returns, label='Non-Annealing', linewidth=0, marker='o')\n",
    "ax.plot(annealing_3, label='Annealing 3', linewidth=0, marker='o')\n",
    "ax.plot(annealing_5, label='Annealing 5', linewidth=0, marker='o')\n",
    "ax.set_ylim(0, 1)\n",
    "plt.xticks(np.arange(0, TEST_NOS, step=1), labels=seeds)\n",
    "ax.legend()\n",
    "ax.set_xlabel('Seeds')\n",
    "ax.set_ylabel('Returns')\n",
    "plt.hlines(0.7, 0, TEST_NOS, linestyles='dashed')\n",
    "fig.suptitle('Results', fontsize=20)\n",
    "fig.size = (20, 20)\n",
    "plt.show()\n"
   ]
  }
 ],
 "metadata": {
  "kernelspec": {
   "display_name": "base",
   "language": "python",
   "name": "python3"
  },
  "language_info": {
   "codemirror_mode": {
    "name": "ipython",
    "version": 3
   },
   "file_extension": ".py",
   "mimetype": "text/x-python",
   "name": "python",
   "nbconvert_exporter": "python",
   "pygments_lexer": "ipython3",
   "version": "3.10.9"
  }
 },
 "nbformat": 4,
 "nbformat_minor": 2
}
