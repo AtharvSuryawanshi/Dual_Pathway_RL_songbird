{
 "cells": [
  {
   "cell_type": "markdown",
   "metadata": {},
   "source": [
    "# Data analysis"
   ]
  },
  {
   "cell_type": "code",
   "execution_count": 1,
   "metadata": {},
   "outputs": [
    {
     "name": "stdout",
     "output_type": "stream",
     "text": [
      "Neighboring files:\n",
      "BG_NOISE\n",
      "Removed JSON file: BG_NOISE\\parameters_0.5.json\n",
      "Removed JSON file: BG_NOISE\\parameters_1.5.json\n",
      "Removed JSON file: BG_NOISE\\parameters_1.json\n",
      "Removed JSON file: BG_NOISE\\parameters_2.json\n",
      "Modified parameter 'params/BG_NOISE' to 2 and saved to BG_NOISE/parameters_2.json\n",
      "Modified parameter 'params/BG_NOISE' to 1.5 and saved to BG_NOISE/parameters_1.5.json\n",
      "Modified parameter 'params/BG_NOISE' to 1 and saved to BG_NOISE/parameters_1.json\n",
      "Modified parameter 'params/BG_NOISE' to 0.5 and saved to BG_NOISE/parameters_0.5.json\n"
     ]
    }
   ],
   "source": [
    "import numpy as np\n",
    "import matplotlib.pyplot as plt\n",
    "import os\n",
    "from functions import find_neighboring_directories\n",
    "from make_json import parameter_names"
   ]
  },
  {
   "cell_type": "code",
   "execution_count": 2,
   "metadata": {},
   "outputs": [
    {
     "name": "stdout",
     "output_type": "stream",
     "text": [
      "['BG_NOISE']\n",
      "BG_NOISE\n",
      "dict_keys(['BG_NOISE'])\n",
      "{'BG_NOISE': array([0.5, 1.5, 1. , 2. ])}\n"
     ]
    }
   ],
   "source": [
    "neighbouring_directories = find_neighboring_directories()\n",
    "print(neighbouring_directories)\n",
    "# import .npy files from neighbouring directories\n",
    "data = {}\n",
    "parameter_values = {}\n",
    "for directory in neighbouring_directories:\n",
    "    print(directory)\n",
    "    for filename in os.listdir(directory):\n",
    "        if filename.endswith(\".npy\") and filename.startswith(\"overall\"):\n",
    "            filepath = os.path.join(directory, filename)\n",
    "            data[directory] = np.load(filepath)\n",
    "        if filename.endswith(\".npy\") and filename.startswith(\"parameter_values\"):\n",
    "            filepath = os.path.join(directory, filename)\n",
    "            parameter_values[directory] = np.load(filepath)\n",
    "\n",
    "print(data.keys())\n",
    "print(parameter_values)"
   ]
  },
  {
   "cell_type": "code",
   "execution_count": 3,
   "metadata": {},
   "outputs": [
    {
     "name": "stdout",
     "output_type": "stream",
     "text": [
      "4\n"
     ]
    },
    {
     "data": {
      "image/png": "[encoded data removed]",
      "text/plain": [
       "<Figure size 640x480 with 1 Axes>"
      ]
     },
     "metadata": {},
     "output_type": "display_data"
    }
   ],
   "source": [
    "# def plot_returns(data, key):\n",
    "for index, directory in enumerate(neighbouring_directories):\n",
    "    if directory in data.keys():\n",
    "        param = directory\n",
    "        returns = 100*data[directory]\n",
    "        n_values = len(parameter_values[directory])\n",
    "        print(n_values)\n",
    "        above_threshold = np.zeros(n_values)\n",
    "        for i in range(n_values):\n",
    "            above_threshold[i] = np.sum(returns[:,i] > 70)\n",
    "        above_threshold /= returns.shape[0]\n",
    "        plt.figure()\n",
    "        means = np.mean(returns, axis=0)\n",
    "        std = np.std(returns, axis=0)\n",
    "        plt.plot(means, label='mean', marker='o')\n",
    "        plt.fill_between(range(n_values), means-std, means+std, alpha=0.5)\n",
    "        for i in range(n_values):\n",
    "            plt.plot(i*np.ones_like(returns[:,i]), returns[:,i], 'x')\n",
    "        plt.ylim(0, 100)\n",
    "        for i in range(n_values):\n",
    "            plt.text(i, 70, f\"{above_threshold[i]:.2f}\", ha='center')\n",
    "        plt.hlines(70, 0, n_values - 1, colors='y', linestyles='dashed')\n",
    "        plt.xticks(np.arange(n_values, step=1), labels = parameter_values[directory])\n",
    "        plt.title(f'Performance for different values of {param}')\n",
    "        plt.xlabel(param)\n",
    "        plt.ylabel('Return %')\n",
    "        plt.legend()\n",
    "        plt.show()\n"
   ]
  },
  {
   "cell_type": "code",
   "execution_count": 8,
   "metadata": {},
   "outputs": [
    {
     "ename": "KeyError",
     "evalue": "'RA_SIG_SLOPE'",
     "output_type": "error",
     "traceback": [
      "\u001b[1;31m---------------------------------------------------------------------------\u001b[0m",
      "\u001b[1;31mKeyError\u001b[0m                                  Traceback (most recent call last)",
      "Cell \u001b[1;32mIn[8], line 3\u001b[0m\n\u001b[0;32m      1\u001b[0m directory \u001b[38;5;241m=\u001b[39m \u001b[38;5;124m'\u001b[39m\u001b[38;5;124mRA_SIG_SLOPE\u001b[39m\u001b[38;5;124m'\u001b[39m\n\u001b[0;32m      2\u001b[0m param \u001b[38;5;241m=\u001b[39m directory\n\u001b[1;32m----> 3\u001b[0m returns \u001b[38;5;241m=\u001b[39m \u001b[38;5;241m100\u001b[39m\u001b[38;5;241m*\u001b[39m\u001b[43mdata\u001b[49m\u001b[43m[\u001b[49m\u001b[43mdirectory\u001b[49m\u001b[43m]\u001b[49m\n\u001b[0;32m      4\u001b[0m n_values \u001b[38;5;241m=\u001b[39m \u001b[38;5;28mmin\u001b[39m(returns\u001b[38;5;241m.\u001b[39mshape)\n\u001b[0;32m      5\u001b[0m above_threshold \u001b[38;5;241m=\u001b[39m np\u001b[38;5;241m.\u001b[39mzeros(n_values)\n",
      "\u001b[1;31mKeyError\u001b[0m: 'RA_SIG_SLOPE'"
     ]
    }
   ],
   "source": [
    "directory = 'RA_SIG_SLOPE'\n",
    "param = directory\n",
    "returns = 100*data[directory]\n",
    "n_values = min(returns.shape)\n",
    "above_threshold = np.zeros(n_values)\n",
    "for i in range(n_values):\n",
    "    above_threshold[i] = np.sum(returns[:,i] > 70)\n",
    "above_threshold /= returns.shape[0]\n",
    "plt.figure()\n",
    "means = np.mean(returns, axis=0)\n",
    "std = np.std(returns, axis=0)\n",
    "plt.plot(means, label='mean', marker='o')\n",
    "plt.fill_between(range(n_values), means-std, means+std, alpha=0.5)\n",
    "for i in range(n_values):\n",
    "    plt.plot(i*np.ones_like(returns[:,i]), returns[:,i], 'x')\n",
    "plt.ylim(0, 100)\n",
    "for i in range(n_values):\n",
    "    plt.text(i, 70, f\"{above_threshold[i]:.2f}\", ha='center')\n",
    "plt.hlines(70, 0, n_values - 1, colors='y', linestyles='dashed')\n",
    "plt.xticks(np.arange(n_values, step=1), labels = parameter_names[param])\n",
    "plt.title(f'Performance for different values of {param}')\n",
    "plt.xlabel(param)\n",
    "plt.ylabel('Return %')\n",
    "plt.legend()\n",
    "plt.show()"
   ]
  }
 ],
 "metadata": {
  "kernelspec": {
   "display_name": "base",
   "language": "python",
   "name": "python3"
  },
  "language_info": {
   "codemirror_mode": {
    "name": "ipython",
    "version": 3
   },
   "file_extension": ".py",
   "mimetype": "text/x-python",
   "name": "python",
   "nbconvert_exporter": "python",
   "pygments_lexer": "ipython3",
   "version": "3.10.9"
  }
 },
 "nbformat": 4,
 "nbformat_minor": 2
}
