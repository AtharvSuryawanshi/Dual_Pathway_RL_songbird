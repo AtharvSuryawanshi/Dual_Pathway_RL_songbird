{
 "cells": [
  {
   "cell_type": "markdown",
   "metadata": {},
   "source": [
    "# Data analysis"
   ]
  },
  {
   "cell_type": "code",
   "execution_count": 1,
   "metadata": {},
   "outputs": [
    {
     "name": "stdout",
     "output_type": "stream",
     "text": [
      "Neighboring files:\n",
      "Removed JSON file: BG_NOISE/parameters_0.1.json\n",
      "Removed JSON file: BG_NOISE/parameters_0.3.json\n",
      "Removed JSON file: BG_NOISE/parameters_0.4.json\n",
      "Removed JSON file: BG_NOISE/parameters_0.05.json\n",
      "Removed JSON file: BG_NOISE/parameters_0.2.json\n",
      "Removed JSON file: BG_NOISE/parameters_0.5.json\n",
      "Directory: BG_NOISE\n",
      "Modified parameter 'params/BG_NOISE' to 0.05 and saved to BG_NOISE/parameters_0.05.json\n",
      "Modified parameter 'params/BG_NOISE' to 0.1 and saved to BG_NOISE/parameters_0.1.json\n",
      "Modified parameter 'params/BG_NOISE' to 0.2 and saved to BG_NOISE/parameters_0.2.json\n",
      "Modified parameter 'params/BG_NOISE' to 0.3 and saved to BG_NOISE/parameters_0.3.json\n",
      "Modified parameter 'params/BG_NOISE' to 0.4 and saved to BG_NOISE/parameters_0.4.json\n",
      "Modified parameter 'params/BG_NOISE' to 0.5 and saved to BG_NOISE/parameters_0.5.json\n"
     ]
    }
   ],
   "source": [
    "import numpy as np\n",
    "import matplotlib.pyplot as plt\n",
    "import os\n",
    "from functions import find_neighboring_directories\n",
    "from make_json import parameter_names"
   ]
  },
  {
   "cell_type": "code",
   "execution_count": 2,
   "metadata": {},
   "outputs": [
    {
     "name": "stdout",
     "output_type": "stream",
     "text": [
      "['BG_NOISE']\n",
      "BG_NOISE\n",
      "dict_keys(['BG_NOISE'])\n",
      "{'BG_NOISE': array([0.1 , 0.3 , 0.4 , 0.05, 0.2 , 0.5 ])}\n"
     ]
    }
   ],
   "source": [
    "neighbouring_directories = find_neighboring_directories()\n",
    "print(neighbouring_directories)\n",
    "# import .npy files from neighbouring directories\n",
    "data = {}\n",
    "parameter_values = {}\n",
    "for directory in neighbouring_directories:\n",
    "    print(directory)\n",
    "    for filename in os.listdir(directory):\n",
    "        if filename.endswith(\".npy\") and filename.startswith(\"overall\"):\n",
    "            filepath = os.path.join(directory, filename)\n",
    "            data[directory] = np.load(filepath)\n",
    "        if filename.endswith(\".npy\") and filename.startswith(\"parameter_values\"):\n",
    "            filepath = os.path.join(directory, filename)\n",
    "            parameter_values[directory] = np.load(filepath)\n",
    "\n",
    "print(data.keys())\n",
    "print(parameter_values)"
   ]
  },
  {
   "cell_type": "code",
   "execution_count": 5,
   "metadata": {},
   "outputs": [],
   "source": [
    "wanted_directories = ['BG_NOISE']"
   ]
  },
  {
   "cell_type": "code",
   "execution_count": 6,
   "metadata": {},
   "outputs": [
    {
     "data": {
      "image/png": "[encoded data removed]",
      "text/plain": [
       "<Figure size 500x700 with 1 Axes>"
      ]
     },
     "metadata": {},
     "output_type": "display_data"
    }
   ],
   "source": [
    "def plot_returns(data, key):\n",
    "  for index, directory in enumerate(neighbouring_directories):\n",
    "    if directory in data.keys():\n",
    "      if directory in wanted_directories:\n",
    "        param = directory\n",
    "        returns = 100 * data[directory]\n",
    "        parameter_values_sorted = sorted(parameter_values[directory])  # Sort parameter values\n",
    "        sorted_indices = np.argsort(parameter_values[directory])  # Get sorting indices\n",
    "\n",
    "        # Arrange returns based on sorted parameter values\n",
    "        returns = returns[:, sorted_indices]\n",
    "\n",
    "        n_values = len(parameter_values_sorted)\n",
    "        above_threshold = np.zeros(n_values)\n",
    "        for i in range(n_values):\n",
    "          above_threshold[i] = np.sum(returns[:, i] > 70)\n",
    "\n",
    "        above_threshold /= returns.shape[0]\n",
    "        plt.figure(figsize=(5,7))\n",
    "        means = np.mean(returns, axis=0)\n",
    "        std = np.std(returns, axis=0)\n",
    "        # Use plt.bar for means with error bars for std\n",
    "        plt.bar(range(n_values), 100*above_threshold, label='mean', alpha=0.2, width=0.5)\n",
    "        for i in range(n_values):\n",
    "            plt.plot(i * np.ones_like(returns[:, i]), returns[:, i], '.', alpha = 0.1, color='b')\n",
    "        plt.ylim(0, 100)\n",
    "        for i in range(n_values):\n",
    "            plt.text(i, 71, f\"{100*above_threshold[i]:.2f} %\", ha='center')\n",
    "        plt.hlines(70, 0, n_values - 1, colors='y', linestyles='dashed')\n",
    "        plt.xticks(np.arange(n_values, step=1), labels=parameter_values_sorted)\n",
    "        plt.title(f'Different parameters levels for DevRL')\n",
    "        plt.xlabel(param)\n",
    "        plt.ylabel('Return %')\n",
    "        plt.legend()\n",
    "        plt.show()\n",
    "\n",
    "# sort parameter_values ascending and the sort the returns in the same way\n",
    "plot_returns(data, parameter_names)"
   ]
  }
 ],
 "metadata": {
  "kernelspec": {
   "display_name": "base",
   "language": "python",
   "name": "python3"
  },
  "language_info": {
   "codemirror_mode": {
    "name": "ipython",
    "version": 3
   },
   "file_extension": ".py",
   "mimetype": "text/x-python",
   "name": "python",
   "nbconvert_exporter": "python",
   "pygments_lexer": "ipython3",
   "version": "3.12.7"
  }
 },
 "nbformat": 4,
 "nbformat_minor": 2
}
