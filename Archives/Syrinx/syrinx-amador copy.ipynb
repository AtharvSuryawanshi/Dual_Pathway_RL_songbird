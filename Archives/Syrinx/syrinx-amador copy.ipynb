{
 "cells": [
  {
   "cell_type": "markdown",
   "metadata": {},
   "source": [
    "## Mini syrinx model \n",
    "\n",
    "For the annealing hypothesis, we would like to test it using a non-random reward contour.\n",
    "For this, we attempt to generate a reward contour using a syrinx model used by Darshan, Amador, etc.\n",
    "https://doi.org/10.1038/nature11967\n",
    "\n",
    "Here, we provide two vectors, pressure and tension, as input.\n",
    "The model comprises two odes, which produces the labial position x(t) and velocity y(t).\n",
    "\n",
    "We transform this to generate song, and see the frequency distribution.\n",
    "\n",
    "From this frequency distribution, we build the reward contour."
   ]
  },
  {
   "cell_type": "code",
   "execution_count": 1,
   "metadata": {},
   "outputs": [],
   "source": [
    "import numpy as np\n",
    "import matplotlib.pyplot as plt         \n",
    "import queue"
   ]
  },
  {
   "cell_type": "code",
   "execution_count": 2,
   "metadata": {},
   "outputs": [],
   "source": [
    "from scipy.integrate import solve_ivp"
   ]
  },
  {
   "cell_type": "code",
   "execution_count": 3,
   "metadata": {},
   "outputs": [],
   "source": [
    "np.random.seed(100)"
   ]
  },
  {
   "cell_type": "code",
   "execution_count": 4,
   "metadata": {},
   "outputs": [],
   "source": [
    "# Parameters\n",
    "gamma = 12000 \n",
    "\n",
    "duration = 0.050 #s\n",
    "dt = 1/44100 #s  #* 0.1 #1.e-4\n",
    "\n",
    "Amp = 10\n",
    "\n",
    "# Trachea parameters\n",
    "r=-0.9\n",
    "v=350*100\n",
    "L=1.9\n",
    "tau_0=2*L/v # Propagation time along trachea\n",
    "tau_n=int(tau_0/dt)"
   ]
  },
  {
   "cell_type": "code",
   "execution_count": 5,
   "metadata": {},
   "outputs": [],
   "source": [
    "# ks = np.linspace(0.16,0.52, 10)\n",
    "# ps = np.linspace(1852,2084, 10)\n",
    "\n",
    "# Track position and velocity \n",
    "nt = int(duration/dt)\n",
    "X = np.zeros(nt)          # Labial position\n",
    "Y = np.zeros(nt)          # Velocity"
   ]
  },
  {
   "cell_type": "markdown",
   "metadata": {},
   "source": [
    "Building the tension and pressure vectors for input\n"
   ]
  },
  {
   "cell_type": "code",
   "execution_count": 6,
   "metadata": {},
   "outputs": [],
   "source": [
    "def sigmoid(x):\n",
    "      return 1 / (1 + np.exp(-x))"
   ]
  },
  {
   "cell_type": "code",
   "execution_count": 7,
   "metadata": {},
   "outputs": [],
   "source": [
    "syllable = 4"
   ]
  },
  {
   "cell_type": "code",
   "execution_count": 8,
   "metadata": {},
   "outputs": [],
   "source": [
    "def syrinxODE(t, y):\n",
    "    ''' ODEs used in Amador paper'''\n",
    "    \n",
    "    y0, y1 = y\n",
    "    dydt = [y1,\n",
    "         -Pressure(t)*(gamma**2) - Tension(t)*(gamma**2)*y0 - (gamma**2)*(y0**3) - gamma*(y0**2)*y1 + (gamma**2)*(y0**2) - gamma*y0*y1\n",
    "           ]\n",
    "    return dydt"
   ]
  },
  {
   "cell_type": "code",
   "execution_count": 9,
   "metadata": {},
   "outputs": [],
   "source": [
    "# RC4\n",
    "# syllable 1\n",
    "syllable_array = [1,2,3,4]\n",
    "P_t_list = []  # <— add before the syllable loop\n",
    "\n",
    "\n",
    "\n",
    "\n",
    "for syllable in syllable_array:\n",
    "    if syllable == 1:\n",
    "        def Tension(t):\n",
    "            \"\"\" Generalised exponential waveform \"\"\"\n",
    "            return   .3 - .2*np.exp(-200*t) -.00001 * np.exp(200*t) \n",
    "\n",
    "        \n",
    "        def Pressure(t):\n",
    "            \"\"\" Constant \"\"\"\n",
    "            return 0.04*np.sin((duration/2 + t)*np.pi*10) + 0.05\n",
    "    # RC5 - test\n",
    "    elif syllable == 2:\n",
    "        # syllable 2\n",
    "        def Tension(t):\n",
    "            \"\"\" Generalised exponential waveform \"\"\"\n",
    "            Tc = 1#2/3\n",
    "            return   .3 - .2*np.exp(-Tc*3*100*t) -.00001 * np.exp(Tc*3*100*t) \n",
    "\n",
    "        def Pressure(t):\n",
    "            \"\"\" Constant \"\"\"\n",
    "            tp = 0.2\n",
    "            return tp*np.sin((duration/2 + t)*np.pi*10) + 0.05\n",
    "    elif syllable == 3:\n",
    "        # syllable 3\n",
    "        def Tension(t):\n",
    "            \"\"\"\n",
    "                Tension1 = 0.1*np.sin(sin_t*np.pi*40) + 0.6\n",
    "                Tension2 = 0.2*np.sin(sin_t*np.pi*15) + 0.6\n",
    "                Tension = np.concatenate((Tension1[:int(np.ceil(nt/2))], Tension2[:int(nt-nt/2)]))\n",
    "            \"\"\"\n",
    "            scale = 1\n",
    "            if isinstance(t, float):\n",
    "                if t <= duration*scale/2: \n",
    "                    return 5*np.sin(t*np.pi*40/scale) + 0.6 # old amp 0.1\n",
    "                elif t <= duration*scale: \n",
    "                    return 10*np.sin((t-duration*scale/2)*np.pi*15/scale) + 0.6 # old amp 0.2\n",
    "                else: \n",
    "                    return 0.0 + 0*t\n",
    "            elif isinstance(t, np.ndarray):\n",
    "                Tension1 = 5*np.sin(t*np.pi*40/scale) + 0.6 # old amp 0.1\n",
    "                Tension2 = 10*np.sin(t*np.pi*15/scale) + 0.6 # old amp 0.2\n",
    "                Tension3 = 0.0 + 0*t\n",
    "                return np.concatenate((Tension1[:int(np.ceil(t.size*scale/2))], Tension2[:int(t.size*scale-t.size*scale/2)], Tension3[:int(t.size-t.size*scale)]))        \n",
    "        \n",
    "        def Pressure(t):\n",
    "            \"\"\" Pressure = 0.02 * np.ones((nt)) \"\"\"\n",
    "            return np.ones((np.asarray(t).shape)) * 2 # old amp 0.16\n",
    "    elif syllable == 4:\n",
    "        # syllable 4\n",
    "        def Tension(t):\n",
    "            \"\"\"\n",
    "                Tension1 = 0.1*np.sin(sin_t*np.pi*40) + 0.6\n",
    "                Tension2 = 0.2*np.sin(sin_t*np.pi*15) + 0.6\n",
    "                Tension = np.concatenate((Tension1[:int(np.ceil(nt/2))], Tension2[:int(nt-nt/2)]))\n",
    "            \"\"\"\n",
    "            scale = 0.4\n",
    "            if isinstance(t, float):\n",
    "                if t <= duration*scale: \n",
    "                    return 0.8*np.sin(t*np.pi*20/scale) + 0.6 # old amp 0.1\n",
    "                else: \n",
    "                    return t*0 + 0.6 # old amp 0.2\n",
    "            elif isinstance(t, np.ndarray):\n",
    "                Tension1 = 0.8*np.sin(t*np.pi*20/scale) + 0.6 # old amp 0.1\n",
    "                Tension2 = t* 0 + 0.6 # old amp 0.2\n",
    "                return np.concatenate((Tension1[:int(np.ceil(t.size*scale))], Tension2[:int(t.size-t.size*scale)]))\n",
    "            \n",
    "        def Pressure(t):\n",
    "            \"\"\" Pressure = 0.02 * np.ones((nt)) \"\"\"\n",
    "            return np.ones((np.asarray(t).shape)) * 0.01\n",
    "            \n",
    "    elif syllable == 5:\n",
    "        # syllable 5\n",
    "        def Tension(t):\n",
    "            \"\"\" Tension = 0.2 * np.ones((nt)) \"\"\"\n",
    "            return np.ones((np.asarray(t).shape)) * 0.2\n",
    "            \n",
    "        def Pressure(t):\n",
    "            \"\"\" Pressure = 0.1 * np.ones((nt)) \"\"\"\n",
    "            return np.ones((np.asarray(t).shape)) * 0.1\n",
    "    elif syllable == 6:\n",
    "        # syllable 6\n",
    "        def Tension(t):\n",
    "            \"\"\"\n",
    "                Tension1 = 0.1*np.sin(sin_t*np.pi*40) + 0.6\n",
    "                Tension2 = 0.2*np.sin(sin_t*np.pi*15) + 0.6\n",
    "                Tension = np.concatenate((Tension1[:int(np.ceil(nt/2))], Tension2[:int(nt-nt/2)]))\n",
    "            \"\"\"\n",
    "            if isinstance(t, float):\n",
    "                if t <= duration/2: return 0.1*np.sin(t*np.pi*40) + 0.6\n",
    "                else: return 0.2*np.sin((t-duration/2)*np.pi*15) + 0.6\n",
    "            elif isinstance(t, np.ndarray):\n",
    "                Tension1 = 0.1*np.sin(t*np.pi*40) + 0.6\n",
    "                Tension2 = 0.2*np.sin(t*np.pi*15) + 0.6\n",
    "                return np.concatenate((Tension1[:int(np.ceil(t.size/2))], Tension2[:int(t.size-t.size/2)]))\n",
    "            \n",
    "        def Pressure(t):\n",
    "            \"\"\" Pressure = 0.01*np.sin(sin_t*np.pi*2*100) + 0.02 \"\"\"\n",
    "            return 0.01*np.sin(t*np.pi*2*100) + 0.02\n",
    "        \n",
    "\n",
    "    solution = solve_ivp(syrinxODE, [0, duration], [1, 1], method = \"RK45\", t_eval = np.linspace(0,duration,nt), rtol = 1e-8, atol = 1e-8)\n",
    "    # Extract labial position (X) and velocity (Y)\n",
    "    X = solution['y'][0]\n",
    "    Y = solution['y'][1]\n",
    "    # Transform into song\n",
    "    time_x = np.linspace(0, duration, nt)\n",
    "    song = Amp * Pressure(time_x) * Y\n",
    "    ## Trachea from Darshan, et. al. https://doi.org/10.1038/ncomms15415\n",
    "\n",
    "    # Input to trachea = output of syrinx\n",
    "    y0 = song.T\n",
    "\n",
    "    # To generate pressure output from trachea\n",
    "    P_i=np.zeros((len(y0)))\n",
    "\n",
    "    # See Fig 1 in Amador paper. Round-about way to implement that.\n",
    "    Buffer = queue.Queue()\n",
    "    for i in np.arange(tau_n):\n",
    "        Buffer.put(np.random.random())\n",
    "\n",
    "    for i in np.arange(len(y0)):\n",
    "        P_i[i] = y0[i] - r*Buffer.get();      \n",
    "        # update_buffer\n",
    "        Buffer.put(P_i[i])\n",
    "\n",
    "    # P_tr from P_in (ref Amador paper)\n",
    "    BufferB=np.zeros((tau_n))\n",
    "    P_tmp= np.concatenate((BufferB, P_i))\n",
    "    P_t=(1-r)*P_tmp[:-tau_n]\n",
    "    # ... inside your syllable loop, after computing P_t ...\n",
    "    P_t_list.append(P_t.copy())\n",
    "    time_x = np.linspace(0, duration, nt)\n",
    "\n",
    "\n"
   ]
  },
  {
   "cell_type": "code",
   "execution_count": 43,
   "metadata": {},
   "outputs": [
    {
     "data": {
      "image/png": "[encoded data removed]",
      "text/plain": [
       "<Figure size 1600x600 with 4 Axes>"
      ]
     },
     "metadata": {},
     "output_type": "display_data"
    }
   ],
   "source": [
    "# Parameters for panel width and labeling step\n",
    "seg = 0.05  # each subplot spans 0.05 s\n",
    "\n",
    "figure, axes = plt.subplots(\n",
    "    1, len(syllable_array),\n",
    "    figsize=(4*len(syllable_array), 6),\n",
    "    sharey=True, sharex=False,                 # sharey, but NOT sharex\n",
    "    gridspec_kw={'wspace': 0.09}               # tight horizontal spacing\n",
    ")\n",
    "\n",
    "# Ensure axes is always a list, even for single subplot\n",
    "if len(syllable_array) == 1:\n",
    "    axes = [axes]\n",
    "\n",
    "# Store spectrograms for each syllable\n",
    "spectrograms = []\n",
    "\n",
    "def fmt_tick(x):\n",
    "    s = f\"{x:.2f}\".rstrip('0').rstrip('.')\n",
    "    return s\n",
    "\n",
    "for i, syllable in enumerate(syllable_array):\n",
    "    # time window this panel represents in the global timeline\n",
    "    x0 = i * seg\n",
    "    x1 = (i + 1) * seg\n",
    "\n",
    "    # pick the right pressure trace for this syllable\n",
    "    P_src = P_t_list[i]  # assumes you appended in the simulation loop\n",
    "\n",
    "    # Generate spectrogram positioned in the global time coordinates\n",
    "    spectrumP, freqsP, t_bins, im = axes[i].specgram(\n",
    "        P_src, Fs=1/dt, NFFT=256, noverlap=128,\n",
    "        xextent=[x0, x1], cmap='inferno'\n",
    "    )\n",
    "\n",
    "    # Store spectrogram data\n",
    "    spectrograms.append({\n",
    "        \"syllable\": syllable,\n",
    "        \"spectrum\": spectrumP,\n",
    "        \"freqs\": freqsP,\n",
    "        \"time\": t_bins,\n",
    "        \"image\": im,\n",
    "        \"xrange\": (x0, x1),\n",
    "        \"P_t\": P_src\n",
    "    })\n",
    "\n",
    "    # Configure each subplot\n",
    "\n",
    "    axes[i].set_title(f'Syllable:{syllable}', fontsize=30)\n",
    "    axes[i].spines['top'].set_visible(False)\n",
    "    axes[i].spines['right'].set_visible(False)\n",
    "    axes[i].spines['bottom'].set_visible(False)\n",
    "    axes[i].set_ylim(0, 10000)\n",
    "    axes[i].set_xlim(x0, x1)\n",
    "    # axes[i].set_yticklabels\n",
    "\n",
    "    # ✅ Global-style ticks:\n",
    "    # Only left edge ticks, except last panel shows both left+right\n",
    "    if i < len(syllable_array) - 1:\n",
    "        axes[i].set_xticks([x0])\n",
    "        axes[i].set_xticklabels([fmt_tick(x0)])\n",
    "    else:\n",
    "        axes[i].set_xticks([x0, x1])\n",
    "        axes[i].set_xticklabels([fmt_tick(x0), fmt_tick(x1)])\n",
    "\n",
    "    # Y ticks\n",
    "    axes[i].set_yticks([0, 10000])\n",
    "    if i == 0:\n",
    "        axes[i].set_yticklabels([0, 10])\n",
    "    # else:\n",
    "        # axes[i].set_yticklabels([])  # cleaner, contiguous look\n",
    "\n",
    "    axes[i].tick_params(labelsize=25)\n",
    "# # After the for loop ends (all syllables plotted) ...\n",
    "\n",
    "# # Add one shared colorbar for the spectrograms\n",
    "# cbar = figure.colorbar(\n",
    "#     spectrograms[0][\"image\"],    # use the first specgram’s image handle\n",
    "#     ax=axes,\n",
    "#     orientation='vertical',\n",
    "#     fraction=0.02,               # size of colorbar\n",
    "#     pad=0.04                     # distance from plots\n",
    "# )\n",
    "\n",
    "# cbar.set_label(\"Power (dB)\", fontsize=20)\n",
    "# cbar.ax.tick_params(labelsize=15)\n",
    "\n",
    "# Set labels only on the leftmost subplot\n",
    "axes[0].set_ylabel('Frequency (kHz)', fontsize=30)\n",
    "figure.supxlabel('Time (s)', fontsize=30, y = -0.05)\n",
    "# plt.tight_layout()\n",
    "# figure.subplots_adjust(wspace=0.1)  # extra-tight spacing between panels\n",
    "plt.show()\n"
   ]
  },
  {
   "cell_type": "code",
   "execution_count": 11,
   "metadata": {},
   "outputs": [],
   "source": [
    "# figure, ax = plt.subplots(2, sharex=True)\n",
    "\n",
    "# time_x = np.linspace(0, duration, nt)\n",
    "# ax[0].plot(time_x, Pressure(time_x), color='black')\n",
    "\n",
    "# time_x = np.linspace(0, duration, nt)\n",
    "# ax[1].plot(time_x, Tension(time_x), color='black')\n",
    "\n",
    "# ax[0].set_ylabel('Pressure', fontsize=30)\n",
    "# ax[0].spines['top'].set_visible(False)\n",
    "# ax[0].spines['right'].set_visible(False)\n",
    "# ax[0].spines['bottom'].set_visible(False)\n",
    "# # ax[0].set_ylim(0.06,.10)\n",
    "# ax[0].set_xlim(0,.05)\n",
    "# ax[0].set_xticks([])\n",
    "# # ax[0].set_yticks([.06,.10])\n",
    "# ax[0].tick_params(labelsize=25)\n",
    "# ax[0].yaxis.set_label_coords(-0.275,.5)\n",
    "\n",
    "# ax[1].set_ylabel('Tension', fontsize=30)\n",
    "# ax[1].set_xlabel('Time (s)', fontsize=30)\n",
    "# ax[1].spines['top'].set_visible(False)\n",
    "# ax[1].spines['right'].set_visible(False)\n",
    "# # ax[1].set_ylim(0,.4)\n",
    "# ax[0].set_xlim(0,.05)\n",
    "# ax[0].set_xticks([0, .05])\n",
    "# # ax[1].set_yticks([0,.4])\n",
    "# ax[1].tick_params(labelsize=25, pad=10)\n",
    "# ax[1].yaxis.set_label_coords(-0.26,.5)\n",
    "\n",
    "# figure.set_size_inches(4, 6, forward=True)\n",
    "\n",
    "# plt.plot()"
   ]
  },
  {
   "cell_type": "markdown",
   "metadata": {},
   "source": [
    "Propogating these tension and pressure waves through the syrinx using the model (ODE).\n"
   ]
  },
  {
   "cell_type": "code",
   "execution_count": null,
   "metadata": {},
   "outputs": [],
   "source": []
  },
  {
   "cell_type": "code",
   "execution_count": null,
   "metadata": {},
   "outputs": [],
   "source": []
  },
  {
   "cell_type": "code",
   "execution_count": 12,
   "metadata": {},
   "outputs": [],
   "source": [
    "# Plots"
   ]
  },
  {
   "cell_type": "code",
   "execution_count": null,
   "metadata": {},
   "outputs": [],
   "source": []
  },
  {
   "cell_type": "markdown",
   "metadata": {},
   "source": [
    "### Plots to quickly visualise each part of the process"
   ]
  },
  {
   "cell_type": "code",
   "execution_count": 13,
   "metadata": {},
   "outputs": [],
   "source": [
    "# plt.plot(time_x, Pressure(time_x), color='black')\n",
    "# plt.ylabel('Pressure input')\n",
    "# plt.xlabel('Time (s)')"
   ]
  },
  {
   "cell_type": "code",
   "execution_count": 14,
   "metadata": {},
   "outputs": [],
   "source": [
    "# plt.plot(time_x, Tension(time_x), color='black')\n",
    "# plt.ylabel('Tension input')\n",
    "# plt.xlabel('Time (s)')"
   ]
  },
  {
   "cell_type": "code",
   "execution_count": 15,
   "metadata": {},
   "outputs": [],
   "source": [
    "# # Labial position (X)\n",
    "\n",
    "# plt.plot(time_x, X, color='black')\n",
    "# plt.ylabel('Labial position X(t)')\n",
    "# plt.xlabel('Time (s)')"
   ]
  },
  {
   "cell_type": "code",
   "execution_count": 16,
   "metadata": {},
   "outputs": [],
   "source": [
    "# # Labial velocity (Y)\n",
    "\n",
    "# plt.plot(time_x, Y, color='black')\n",
    "# plt.ylabel('Labial velocity Y(t)')\n",
    "# plt.xlabel('Time (s)')"
   ]
  },
  {
   "cell_type": "code",
   "execution_count": 17,
   "metadata": {},
   "outputs": [],
   "source": [
    "# plt.plot(time_x, song, color='black')\n",
    "# plt.ylabel('Syrinx output')\n",
    "# plt.xlabel('Time (s)')"
   ]
  },
  {
   "cell_type": "code",
   "execution_count": 18,
   "metadata": {},
   "outputs": [],
   "source": [
    "# plt.plot(time_x, P_t, color='black')\n",
    "# plt.ylabel('Trachea output (Pressure $P_{in}$)')\n",
    "# plt.xlabel('Time (s)')\n",
    "# plt.show()"
   ]
  },
  {
   "cell_type": "code",
   "execution_count": 19,
   "metadata": {},
   "outputs": [
    {
     "data": {
      "image/png": "[encoded data removed]",
      "text/plain": [
       "<Figure size 400x600 with 1 Axes>"
      ]
     },
     "metadata": {},
     "output_type": "display_data"
    }
   ],
   "source": [
    "figure, ax = plt.subplots(1)\n",
    "\n",
    "(spectrumP, freqsP, t, im) = plt.specgram(P_t, Fs=1/dt, NFFT=256, noverlap=128, xextent=[0,.05], cmap='inferno')\n",
    "im\n",
    "\n",
    "\n",
    "# ax.set_ylabel('Frequency (kHz)', fontsize=30)\n",
    "# ax.set_xlabel('Time (s)', fontsize=30)\n",
    "# ax.set_title(f'Syllable:{syllable}', fontsize=30)\n",
    "# ax.spines['top'].set_visible(False)\n",
    "# ax.spines['right'].set_visible(False)\n",
    "# ax.spines['bottom'].set_visible(False)\n",
    "ax.set_ylim(0,10000)\n",
    "ax.set_xlim(0,.05)\n",
    "ax.set_xticklabels([])\n",
    "ax.set_yticks([0, 10000])\n",
    "# ax.set_yticklabels([0, 10])\n",
    "ax.set_yticklabels([])\n",
    "ax.tick_params(labelsize=15)\n",
    "\n",
    "figure.set_size_inches(4, 6, forward=True)\n",
    "\n",
    "\n",
    "plt.plot()\n",
    "plt.show()"
   ]
  },
  {
   "cell_type": "code",
   "execution_count": null,
   "metadata": {},
   "outputs": [],
   "source": []
  },
  {
   "cell_type": "code",
   "execution_count": 20,
   "metadata": {},
   "outputs": [
    {
     "data": {
      "text/plain": [
       "Text(0.5, 0, 'Frequency')"
      ]
     },
     "execution_count": 20,
     "metadata": {},
     "output_type": "execute_result"
    },
    {
     "data": {
      "image/png": "[encoded data removed]",
      "text/plain": [
       "<Figure size 640x480 with 1 Axes>"
      ]
     },
     "metadata": {},
     "output_type": "display_data"
    }
   ],
   "source": [
    "plt.plot(freqsP, spectrumP)\n",
    "plt.ylabel('Power')\n",
    "plt.xlabel('Frequency')"
   ]
  },
  {
   "cell_type": "code",
   "execution_count": 21,
   "metadata": {},
   "outputs": [
    {
     "name": "stderr",
     "output_type": "stream",
     "text": [
      "/home/asuryawanshi/miniforge3/lib/python3.12/site-packages/matplotlib/cbook.py:1762: ComplexWarning: Casting complex values to real discards the imaginary part\n",
      "  return math.isfinite(val)\n",
      "/home/asuryawanshi/miniforge3/lib/python3.12/site-packages/matplotlib/cbook.py:1398: ComplexWarning: Casting complex values to real discards the imaginary part\n",
      "  return np.asarray(x, float)\n"
     ]
    },
    {
     "data": {
      "image/png": "[encoded data removed]",
      "text/plain": [
       "<Figure size 640x480 with 1 Axes>"
      ]
     },
     "metadata": {},
     "output_type": "display_data"
    }
   ],
   "source": [
    "sp = np.fft.rfft(P_t)\n",
    "freqs_sp = np.arange(sp.size) / (dt * nt)\n",
    "plt.plot(freqs_sp, sp, marker=',')\n",
    "plt.xlabel('Frequency')\n",
    "plt.ylabel('Power')\n",
    "plt.show()"
   ]
  },
  {
   "cell_type": "markdown",
   "metadata": {},
   "source": [
    "### Ignore here onwards"
   ]
  },
  {
   "cell_type": "code",
   "execution_count": 22,
   "metadata": {},
   "outputs": [],
   "source": [
    "# def Tension(t):\n",
    "#     \"\"\"\n",
    "#         Tension1 = 0.1*np.sin(sin_t*np.pi*40) + 0.6\n",
    "#         Tension2 = 0.2*np.sin(sin_t*np.pi*15) + 0.6\n",
    "#         Tension = np.concatenate((Tension1[:int(np.ceil(nt/2))], Tension2[:int(nt-nt/2)]))\n",
    "#     \"\"\"\n",
    "#     if isinstance(t, float):\n",
    "#         if t <= duration/2: return 0.1*np.sin(t*np.pi*40) + 0.6\n",
    "#         else: return 0.2*np.sin((t-duration/2)*np.pi*15) + 0.6\n",
    "#     elif isinstance(t, np.ndarray):\n",
    "#         Tension1 = 0.1*np.sin(t*np.pi*40) + 0.6\n",
    "#         Tension2 = 0.2*np.sin(t*np.pi*15) + 0.6\n",
    "#         return np.concatenate((Tension1[:int(np.ceil(t.size/2))], Tension2[:int(t.size-t.size/2)]))\n",
    "    \n",
    "# def Pressure(t):\n",
    "#     \"\"\" Pressure = 0.01*np.sin(sin_t*np.pi*2*100) + 0.02 \"\"\"\n",
    "#     return 0.01*np.sin(t*np.pi*2*100) + 0.02"
   ]
  },
  {
   "cell_type": "code",
   "execution_count": 23,
   "metadata": {},
   "outputs": [],
   "source": [
    "# def Tension(t):\n",
    "#     \"\"\" Tension = 0.6 * np.ones((nt)) \"\"\"\n",
    "#     return np.ones((np.asarray(t).shape)) * 0.6\n",
    "    \n",
    "# def Pressure(t):\n",
    "#     \"\"\" Pressure = 0.02 * np.ones((nt)) \"\"\"\n",
    "#     return np.ones((np.asarray(t).shape)) * 0.02"
   ]
  },
  {
   "cell_type": "code",
   "execution_count": 24,
   "metadata": {},
   "outputs": [],
   "source": [
    "# def Tension(t):\n",
    "#     \"\"\" Tension = 0.2 * np.ones((nt)) \"\"\"\n",
    "#     return np.ones((np.asarray(t).shape)) * 0.2\n",
    "    \n",
    "# def Pressure(t):\n",
    "#     \"\"\" Pressure = 0.1 * np.ones((nt)) \"\"\"\n",
    "#     return np.ones((np.asarray(t).shape)) * 0.1"
   ]
  },
  {
   "cell_type": "code",
   "execution_count": 25,
   "metadata": {},
   "outputs": [],
   "source": [
    "# def Tension(t):\n",
    "#     \"\"\"\n",
    "#         Tension1 = 0.1*np.sin(sin_t*np.pi*40) + 0.6\n",
    "#         Tension2 = 0.2*np.sin(sin_t*np.pi*15) + 0.6\n",
    "#         Tension = np.concatenate((Tension1[:int(np.ceil(nt/2))], Tension2[:int(nt-nt/2)]))\n",
    "#     \"\"\"\n",
    "#     if isinstance(t, float):\n",
    "#         if t <= duration/2: return 0.1*np.sin(t*np.pi*40) + 0.6\n",
    "#         else: return 0.2*np.sin((t-duration/2)*np.pi*15) + 0.6\n",
    "#     elif isinstance(t, np.ndarray):\n",
    "#         Tension1 = 0.1*np.sin(t*np.pi*40) + 0.6\n",
    "#         Tension2 = 0.2*np.sin(t*np.pi*15) + 0.6\n",
    "#         return np.concatenate((Tension1[:int(np.ceil(t.size/2))], Tension2[:int(t.size-t.size/2)]))\n",
    "    \n",
    "# def Pressure(t):\n",
    "#     \"\"\" Pressure = 0.02 * np.ones((nt)) \"\"\"\n",
    "#     return np.ones((np.asarray(t).shape)) * 0.02"
   ]
  },
  {
   "cell_type": "code",
   "execution_count": 26,
   "metadata": {},
   "outputs": [],
   "source": [
    "# def Tension(t):\n",
    "#     \"\"\"\n",
    "#         Tension1 = 0.1*np.sin(sin_t*np.pi*40) + 0.2\n",
    "#         Tension2 = 0.2*np.sin(sin_t*np.pi*15) + 0.2\n",
    "#         Tension = np.concatenate((Tension1[:int(np.ceil(nt/2))], Tension2[:int(nt-nt/2)]))\n",
    "#     \"\"\"\n",
    "#     if isinstance(t, float):\n",
    "#         if t <= duration/2: return 0.1*np.sin(t*np.pi*40) + 0.2\n",
    "#         else: return 0.2*np.sin((t-duration/2)*np.pi*15) + 0.2\n",
    "#     elif isinstance(t, np.ndarray):\n",
    "#         Tension1 = 0.1*np.sin(t*np.pi*40) + 0.2\n",
    "#         Tension2 = 0.2*np.sin(t*np.pi*15) + 0.2\n",
    "#         return np.concatenate((Tension1[:int(np.ceil(t.size/2))], Tension2[:int(t.size-t.size/2)]))\n",
    "    \n",
    "# def Pressure(t):\n",
    "#     \"\"\" Pressure = 0.02 * np.ones((nt)) \"\"\"\n",
    "#     return np.ones((np.asarray(t).shape)) * 0.02"
   ]
  },
  {
   "cell_type": "code",
   "execution_count": 27,
   "metadata": {},
   "outputs": [],
   "source": [
    "# def Tension(t):\n",
    "#     \"\"\" Tension = np.linspace(0.2, 0.1, nt) \"\"\"\n",
    "#     return -2 * t + 0.2\n",
    "    \n",
    "# def Pressure(t):\n",
    "#     \"\"\" Pressure = 0.1 * np.ones((nt)) \"\"\"\n",
    "#     return np.ones((np.asarray(t).shape)) * 0.1"
   ]
  },
  {
   "cell_type": "code",
   "execution_count": 28,
   "metadata": {},
   "outputs": [],
   "source": [
    "# def Tension(t):\n",
    "#     \"\"\" Tension = np.ones((nt)) * 0.1 \"\"\"\n",
    "#     return np.ones((np.asarray(t).shape)) * 0.1\n",
    "    \n",
    "# def Pressure(t):\n",
    "#     \"\"\"\n",
    "#         Pressure = 0.02*np.sin(sin_t*np.pi*10) + 0.08\n",
    "#         where sin_t = np.linspace(duration/2, duration*(3/2), nt)\n",
    "#     \"\"\"\n",
    "#     return 0.02*np.sin((duration/2 + t)*np.pi*10) + 0.08"
   ]
  },
  {
   "cell_type": "code",
   "execution_count": 29,
   "metadata": {},
   "outputs": [],
   "source": [
    "# def Tension(t):\n",
    "#     \"\"\"\n",
    "#         Tension1 = 0.15*np.sin(sin_t*np.pi*40) + 0.6\n",
    "#         Tension2 = 0.4*np.sin(sin_t*np.pi*15) + 0.6\n",
    "#         Tension = np.concatenate((Tension1[:int(np.ceil(nt/2))], Tension2[:int(nt-nt/2)]))\n",
    "#     \"\"\"\n",
    "#     if isinstance(t, float):\n",
    "#         if t <= duration/2: return 0.15*np.sin(t*np.pi*40) + 0.6\n",
    "#         else: return 0.2*np.sin((t-duration/2)*np.pi*15) + 0.6\n",
    "#     elif isinstance(t, np.ndarray):\n",
    "#         Tension1 = 0.15*np.sin(t*np.pi*40) + 0.6\n",
    "#         Tension2 = 0.4*np.sin(t*np.pi*15) + 0.6\n",
    "#         return np.concatenate((Tension1[:int(np.ceil(t.size/2))], Tension2[:int(t.size-t.size/2)]))\n",
    "    \n",
    "# def Pressure(t):\n",
    "#     \"\"\" Pressure = 0.16 * np.ones((nt)) \"\"\"\n",
    "#     return np.ones((np.asarray(t).shape)) * 0.16"
   ]
  },
  {
   "cell_type": "code",
   "execution_count": 30,
   "metadata": {},
   "outputs": [],
   "source": [
    "# def Tension(t):\n",
    "#     \"\"\" Tension = np.linspace(0.2, 0, nt) \"\"\"\n",
    "#     return -4 * t + 0.2\n",
    "    \n",
    "# def Pressure(t):\n",
    "#     \"\"\"\n",
    "#         Pressure = 0.02*np.sin(sin_t*np.pi*10) + 0.14\n",
    "#         where sin_t = np.linspace(duration/2, duration*(3/2), nt)\n",
    "#     \"\"\"\n",
    "#     return 0.02*np.sin((duration/2 + t)*np.pi*10) + 0.14"
   ]
  },
  {
   "cell_type": "code",
   "execution_count": 31,
   "metadata": {},
   "outputs": [],
   "source": [
    "# def Tension(t):\n",
    "#     \"\"\" Tension = 0.6 * np.ones((nt)) \"\"\"\n",
    "#     return np.ones((np.asarray(t).shape)) * 0.6\n",
    "    \n",
    "# def Pressure(t):\n",
    "#     \"\"\" Pressure = 0.1 * np.ones((nt)) \"\"\"\n",
    "#     return np.ones((np.asarray(t).shape)) * 0.1"
   ]
  },
  {
   "cell_type": "code",
   "execution_count": 32,
   "metadata": {},
   "outputs": [],
   "source": [
    "# def Tension(t):\n",
    "#     \"\"\" Tension = 0.6 * np.ones((nt)) \"\"\"\n",
    "#     return np.ones((np.asarray(t).shape)) * 0.1\n",
    "    \n",
    "# def Pressure(t):\n",
    "#     \"\"\" Pressure = 0.1 * np.ones((nt)) \"\"\"\n",
    "#     return 2*np.exp(50**-(t*20))/10 + 0.1"
   ]
  },
  {
   "cell_type": "code",
   "execution_count": 33,
   "metadata": {},
   "outputs": [],
   "source": [
    "# def Tension(t):\n",
    "#     \"\"\" Tension = 0.6 * np.ones((nt)) \"\"\"\n",
    "    \n",
    "#     return np.ones((np.asarray(t).shape)) * 0.1\n",
    "    \n",
    "    \n",
    "# def Pressure(t):\n",
    "#     \"\"\"\n",
    "#         Pressure1 = 0.05*np.sin(t*np.pi*40) + 0.1\n",
    "#         Pressure2 = 0.0525*sigmoid(-(t-0.01)*300)+0.1\n",
    "#         Pressure = np.concatenate((Pressure1[:int(np.ceil(t.size/4))], Pressure2[:int(t.size-t.size/4)]))\n",
    "#     \"\"\"\n",
    "#     if isinstance(t, float):\n",
    "#         if t <= duration/2: return 0.05*np.sin(t*np.pi*40) + 0.1\n",
    "#         else: return 0.0525*sigmoid(-((t-duration/4)-0.01)*300)+0.1\n",
    "#     elif isinstance(t, np.ndarray):\n",
    "#         Pressure1 = 0.08*np.sin(t*np.pi*40) + 0.04\n",
    "#         Pressure2 = 0.084*sigmoid(-(t-0.01)*300)+0.04\n",
    "#         return np.concatenate((Pressure1[:int(np.ceil(t.size/4))], Pressure2[:int(t.size-t.size/4)]))"
   ]
  },
  {
   "cell_type": "code",
   "execution_count": 34,
   "metadata": {},
   "outputs": [],
   "source": [
    "# def Tension(t):\n",
    "#     \"\"\" Tension = 0.6 * np.ones((nt)) \"\"\"\n",
    "    \n",
    "#     if isinstance(t, float):\n",
    "#         if t <= duration/3: return 0.2*np.sin(t*np.pi*60) + 0.2\n",
    "#         else: return -4 * (t-duration/3) + 0.2\n",
    "#     elif isinstance(t, np.ndarray):\n",
    "#         Pressure1 = 0.2*np.sin(t*np.pi*60) + 0.2\n",
    "#         Pressure2 = -4 * t + 0.2\n",
    "        \n",
    "#         return np.concatenate((Pressure1[:int(np.ceil(t.size/3))], Pressure2[:int(t.size-t.size/3)]))\n",
    "    \n",
    "    \n",
    "# def Pressure(t):\n",
    "#     return 0.02*np.sin(t*np.pi*20) + 0.002*np.sin(t*np.pi*200) + 0.06"
   ]
  },
  {
   "cell_type": "code",
   "execution_count": 35,
   "metadata": {},
   "outputs": [],
   "source": [
    "# def Tension(t):\n",
    "#     \"\"\" Generalised exponential waveform \"\"\"\n",
    "#     return   (1.2 * np.exp(-80*t) - np.exp(-300*t)) + 0.3\n",
    "    \n",
    "# def Pressure(t):\n",
    "#     \"\"\" Constant \"\"\"\n",
    "# #     return np.ones((np.asarray(t).shape)) * 0.02\n",
    "#     return 0.04*np.sin((duration/2 + t)*np.pi*10) + 0.05"
   ]
  },
  {
   "cell_type": "code",
   "execution_count": 36,
   "metadata": {},
   "outputs": [],
   "source": [
    "# RC1\n",
    "# Initial reward contour\n",
    "# def Tension(t):\n",
    "#     \"\"\" Tension = T_beta * np.ones((nt)) \"\"\"\n",
    "    \n",
    "#     return np.ones((np.asarray(t).shape)) * 0.6\n",
    "    \n",
    "# def Pressure(t):\n",
    "#     \"\"\" Pressure = P_alpha * np.ones((nt)) \"\"\"\n",
    "    \n",
    "#     return np.ones((np.asarray(t).shape)) * 0.2"
   ]
  }
 ],
 "metadata": {
  "kernelspec": {
   "display_name": "base",
   "language": "python",
   "name": "python3"
  },
  "language_info": {
   "codemirror_mode": {
    "name": "ipython",
    "version": 3
   },
   "file_extension": ".py",
   "mimetype": "text/x-python",
   "name": "python",
   "nbconvert_exporter": "python",
   "pygments_lexer": "ipython3",
   "version": "3.12.5"
  }
 },
 "nbformat": 4,
 "nbformat_minor": 2
}
