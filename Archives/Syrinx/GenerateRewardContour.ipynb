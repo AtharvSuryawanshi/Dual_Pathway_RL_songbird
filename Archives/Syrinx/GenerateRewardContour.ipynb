{
 "cells": [
  {
   "cell_type": "markdown",
   "metadata": {},
   "source": [
    "## Mini syrinx model \n",
    "\n",
    "For the dual pathway model, we would like to test it using a syrinx-based performance contour.\n",
    "For this, we attempt to generate a performance landscape using a syrinx model used by Darshan, Amador, etc.\n",
    "https://doi.org/10.1038/nature11967\n",
    "\n",
    "Here, we provide two vectors, pressure and tension, as input.\n",
    "The model comprises two ODEs, which produces the labial position x(t) and velocity y(t).\n",
    "\n",
    "We transform this to generate song, and see the frequency distribution.\n",
    "\n",
    "From this frequency distribution, we build the performance landscape."
   ]
  },
  {
   "cell_type": "code",
   "execution_count": 72,
   "metadata": {},
   "outputs": [],
   "source": [
    "#Libraries\n",
    "\n",
    "import numpy as np\n",
    "import matplotlib.pyplot as plt\n",
    "from mpl_toolkits.axes_grid1 import make_axes_locatable\n",
    "import queue\n",
    "from scipy.integrate import solve_ivp\n",
    "from scipy.signal import spectrogram\n",
    "from scipy.interpolate import interp2d\n",
    "import warnings\n",
    "from tqdm import tqdm"
   ]
  },
  {
   "cell_type": "code",
   "execution_count": 73,
   "metadata": {},
   "outputs": [],
   "source": [
    "np.random.seed(100)"
   ]
  },
  {
   "cell_type": "code",
   "execution_count": 74,
   "metadata": {},
   "outputs": [],
   "source": [
    "# Parameters\n",
    "gamma = 12000 \n",
    "duration = 0.050 #s\n",
    "dt = 1/44100 #s  #* 0.1 #1.e-4\n",
    "Amp = 4\n",
    "nt = int(duration/dt)\n",
    "\n",
    "# Trachea parameters\n",
    "r = -0.9\n",
    "v = 350*100\n",
    "L = 1.9\n",
    "tau_0 = 2*L/v # Propagation time along trachea\n",
    "tau_n = int(tau_0/dt)"
   ]
  },
  {
   "cell_type": "code",
   "execution_count": 75,
   "metadata": {},
   "outputs": [],
   "source": [
    "syllable = 1"
   ]
  },
  {
   "cell_type": "code",
   "execution_count": 76,
   "metadata": {},
   "outputs": [],
   "source": [
    "# RC4\n",
    "# syllable 1\n",
    "if syllable == 1:\n",
    "    def Tension(t, T_beta):\n",
    "        \"\"\" Generalised exponential waveform \"\"\"\n",
    "        return   .3 - .2*np.exp(-200*t) -.00001 * np.exp(200*t) + T_beta\n",
    "        \n",
    "    def Pressure(t, P_alpha):\n",
    "        \"\"\" Constant \"\"\"\n",
    "        return 0.04*np.sin((duration/2 + t)*np.pi*10) + 0.05 + P_alpha  \n",
    "# RC5 - test\n",
    "elif syllable == 2:\n",
    "    # syllable 2\n",
    "    def Tension(t, T_beta):\n",
    "        \"\"\" Generalised exponential waveform \"\"\"\n",
    "        Tc = 1#2/3\n",
    "        return   .3 - .2*np.exp(-Tc*3*100*t) -.00001 * np.exp(Tc*3*100*t) + T_beta  \n",
    "\n",
    "    def Pressure(t, P_alpha):\n",
    "        \"\"\" Constant \"\"\"\n",
    "        tp = 0.2\n",
    "        return tp*np.sin((duration/2 + t)*np.pi*10) + 0.05 + P_alpha    \n",
    "elif syllable == 3:\n",
    "    # syllable 3\n",
    "    def Tension(t, T_beta): \n",
    "        \"\"\"\n",
    "            Tension1 = 0.1*np.sin(sin_t*np.pi*40) + 0.6\n",
    "            Tension2 = 0.2*np.sin(sin_t*np.pi*15) + 0.6\n",
    "            Tension = np.concatenate((Tension1[:int(np.ceil(nt/2))], Tension2[:int(nt-nt/2)]))\n",
    "        \"\"\"\n",
    "        scale = 1\n",
    "        if isinstance(t, float):\n",
    "            if t <= duration*scale/2: \n",
    "                return 5*np.sin(t*np.pi*40/scale) + 0.6 + T_beta# old amp 0.1 \n",
    "            elif t <= duration*scale: \n",
    "                return 10*np.sin((t-duration*scale/2)*np.pi*15/scale) + 0.6 + T_beta# old amp 0.2\n",
    "            else: \n",
    "                return 0.0 + 0*t\n",
    "        elif isinstance(t, np.ndarray):\n",
    "            Tension1 = 5*np.sin(t*np.pi*40/scale) + 0.6 + T_beta # old amp 0.1\n",
    "            Tension2 = 10*np.sin(t*np.pi*15/scale) + 0.6 + T_beta # old amp 0.2\n",
    "            Tension3 = 0.0 + 0*t\n",
    "            return np.concatenate((Tension1[:int(np.ceil(t.size*scale/2))], Tension2[:int(t.size*scale-t.size*scale/2)], Tension3[:int(t.size-t.size*scale)]))        \n",
    "    \n",
    "    def Pressure(t, P_alpha):\n",
    "        \"\"\" Pressure = 0.02 * np.ones((nt)) \"\"\"\n",
    "        return np.ones((np.asarray(t).shape)) * 2 + P_alpha # old amp 0.16\n",
    "\n",
    "elif syllable == 4:\n",
    "    # syllable 4\n",
    "    def Tension(t, T_beta):\n",
    "        scale = 0.4\n",
    "        if isinstance(t, float):\n",
    "            if t <= duration*scale: \n",
    "                return 0.8*np.sin(t*np.pi*20/scale) + 0.6 + T_beta# old amp 0.1\n",
    "            else: \n",
    "                return t*0 + 0.6 + T_beta# old amp 0.2\n",
    "        elif isinstance(t, np.ndarray):\n",
    "            Tension1 = 0.8*np.sin(t*np.pi*20/scale) + 0.6 + T_beta# old amp 0.1\n",
    "            Tension2 = t* 0 + 0.6 + T_beta# old amp 0.2\n",
    "            return np.concatenate((Tension1[:int(np.ceil(t.size*scale))], Tension2[:int(t.size-t.size*scale)]))\n",
    "          \n",
    "    def Pressure(t, P_alpha):\n",
    "        \"\"\" Pressure = 0.02 * np.ones((nt)) \"\"\"\n",
    "        return np.ones((np.asarray(t).shape)) * 0.01 + P_alpha  \n",
    "        \n",
    "elif syllable == 5:\n",
    "    # syllable 5\n",
    "    def Tension(t, T_beta):\n",
    "        \"\"\" Tension = 0.2 * np.ones((nt)) \"\"\"\n",
    "        return np.ones((np.asarray(t).shape)) * 0.2 + T_beta\n",
    "        \n",
    "    def Pressure(t):\n",
    "        \"\"\" Pressure = 0.1 * np.ones((nt)) \"\"\"\n",
    "        return np.ones((np.asarray(t).shape)) * 0.1 + P_alpha \n",
    "elif syllable == 6:\n",
    "    # syllable 6\n",
    "    def Tension(t, T_beta):\n",
    "        \"\"\"\n",
    "            Tension1 = 0.1*np.sin(sin_t*np.pi*40) + 0.6\n",
    "            Tension2 = 0.2*np.sin(sin_t*np.pi*15) + 0.6\n",
    "            Tension = np.concatenate((Tension1[:int(np.ceil(nt/2))], Tension2[:int(nt-nt/2)]))\n",
    "        \"\"\"\n",
    "        if isinstance(t, float):\n",
    "            if t <= duration/2: return 0.1*np.sin(t*np.pi*40) + 0.6 + T_beta\n",
    "            else: return 0.2*np.sin((t-duration/2)*np.pi*15) + 0.6 + T_beta\n",
    "        elif isinstance(t, np.ndarray):\n",
    "            Tension1 = 0.1*np.sin(t*np.pi*40) + 0.6 + T_beta\n",
    "            Tension2 = 0.2*np.sin(t*np.pi*15) + 0.6 + T_beta\n",
    "            return np.concatenate((Tension1[:int(np.ceil(t.size/2))], Tension2[:int(t.size-t.size/2)]))\n",
    "        \n",
    "    def Pressure(t):\n",
    "        \"\"\" Pressure = 0.01*np.sin(sin_t*np.pi*2*100) + 0.02 \"\"\"\n",
    "        return 0.01*np.sin(t*np.pi*2*100) + 0.02 + P_alpha \n"
   ]
  },
  {
   "cell_type": "code",
   "execution_count": 77,
   "metadata": {},
   "outputs": [],
   "source": [
    "def syrinxODE(t, y):\n",
    "    ''' ODEs used in Amador paper'''\n",
    "    \n",
    "    global P_alpha, T_beta\n",
    "    \n",
    "    y0, y1 = y\n",
    "    dydt = [y1,\n",
    "         -Pressure(t, P_alpha)*(gamma**2) - Tension(t, T_beta)*(gamma**2)*y0 - (gamma**2)*(y0**3) - gamma*(y0**2)*y1 + (gamma**2)*(y0**2) - gamma*y0*y1\n",
    "           ]\n",
    "\n",
    "    return dydt\n",
    "\n",
    "# def Syrinx(P_alpha, T_beta):\n",
    "#     ''' Simulating a syrinx using pressure and tension inputs. '''\n",
    "#     solution = solve_ivp(syrinxODE, [0, duration], [1, 1], method = \"RK45\", t_eval = np.linspace(0,duration,nt), rtol = 1e-8, atol = 1e-8)\n",
    "#     # Extract labial position (X) and velocity (Y)\n",
    "#     X = solution['y'][0]\n",
    "#     Y = solution['y'][1]\n",
    "#     time_x = np.linspace(0, duration, nt)\n",
    "#     song = Amp * Pressure(time_x, P_alpha) * Y\n",
    "#     return song\n",
    "\n",
    "def Syrinx(P_alpha, T_beta): # faster function\n",
    "    \"\"\"\n",
    "    Simulating a syrinx using pressure and tension inputs.\n",
    "\n",
    "    Args:\n",
    "        P_alpha: Pressure parameter.\n",
    "        T_beta: Tension parameter.\n",
    "\n",
    "    Returns:\n",
    "        The simulated song.\n",
    "    \"\"\"\n",
    "    # Pre-compute constants outside the loop for efficiency\n",
    "    if not hasattr(Syrinx, 'Amp'):  # Check if Amp is already defined\n",
    "        Syrinx.Amp = Amp  # Avoid redundant calculations\n",
    "    time_x = np.linspace(0, duration, nt)\n",
    "    # Vectorize pressure calculation (assuming Pressure is vectorized)\n",
    "    pressure = Pressure(time_x, P_alpha)\n",
    "    solution = solve_ivp(syrinxODE, [0, duration], [1, 1], method=\"RK45\", t_eval=time_x)\n",
    "    X = solution['y'][0]\n",
    "    Y = solution['y'][1]\n",
    "    song = Syrinx.Amp * pressure * Y\n",
    "    return song\n",
    "\n",
    "def Trachea(song):\n",
    "    \"\"\" Simulating the progression of pressure through a trachea. \"\"\"\n",
    "    \n",
    "    y0 = song.T\n",
    "\n",
    "    # To generate pressure output from trachea\n",
    "    P_i=np.zeros((len(y0)))\n",
    "\n",
    "    # See Fig 1 in Amador paper. Round-about way to implement that.\n",
    "    Buffer = queue.Queue()\n",
    "    for i in np.arange(tau_n):\n",
    "        Buffer.put(np.random.random())\n",
    "\n",
    "    for i in np.arange(len(y0)):\n",
    "        P_i[i] = y0[i] - r*Buffer.get();      \n",
    "        # update_buffer\n",
    "        Buffer.put(P_i[i])\n",
    "\n",
    "    # P_tr from P_in (ref Amador paper)\n",
    "    BufferB=np.zeros((tau_n))\n",
    "    P_tmp= np.concatenate((BufferB, P_i))\n",
    "    P_t=(1-r)*P_tmp[:-tau_n]\n",
    "    return P_t\n"
   ]
  },
  {
   "cell_type": "code",
   "execution_count": 78,
   "metadata": {},
   "outputs": [],
   "source": [
    "def plot_gradient(ax, Z, figure):\n",
    "    \"\"\" Plots reward contour. \"\"\"\n",
    "    contour = ax.contourf(Z, 25, extent=[0.0, 1.0, 0.0, 0.2], cmap=\"gray_r\", alpha=.25)\n",
    "#     cbar = figure.colorbar(contour)\n",
    "    divider = make_axes_locatable(ax)\n",
    "    cax = divider.append_axes('right', size='5%', pad=0.5)\n",
    "    cbar = figure.colorbar(contour, cax=cax)\n",
    "    cbar.set_label('Performance metric (R)', rotation=270, fontsize=20, labelpad=25)\n",
    "    \n",
    "def create_template(P_alpha=0.02, T_beta=0.6):\n",
    "    \"\"\" Creates spectrogram template from target song. \"\"\"\n",
    "    song = Syrinx(P_alpha, T_beta)\n",
    "    P_tr = Trachea(song)\n",
    "    (freqs, t, spectrum) = spectrogram(P_tr, fs=1/dt)\n",
    "    target_spectrum = spectrum\n",
    "\n",
    "    templateSpec = target_spectrum\n",
    "    mts = np.mean(templateSpec)\n",
    "    templateSpec = templateSpec - mts\n",
    "    templateLen = np.sqrt(np.sum(templateSpec ** 2))\n",
    "    templateSpec = templateSpec / templateLen\n",
    "    \n",
    "    return templateSpec\n",
    "\n",
    "def compute_corr_coeff(currentSpec, templateSpec):\n",
    "    \"\"\" Computes correlation coefficient. \"\"\"\n",
    "    m = np.mean(currentSpec)\n",
    "    currentSpec = currentSpec - m\n",
    "    currentLen = np.sqrt(np.sum(currentSpec ** 2))\n",
    "    currentSpec = currentSpec / currentLen\n",
    "    \n",
    "    return np.mean(currentSpec.T@templateSpec)\n",
    "    \n"
   ]
  },
  {
   "cell_type": "code",
   "execution_count": 79,
   "metadata": {},
   "outputs": [],
   "source": [
    "def generate_gradient(templateSpec, P_init, T_init, deltas, n=256): # function for any initial p and t values\n",
    "    \"\"\" Generates the reward contour by simulating the song for each input combination\n",
    "        and storing the similarity metric w.r.t. the target song. \"\"\"\n",
    "    global P_alpha, T_beta\n",
    "    delta_P = deltas[syllable - 1][0]\n",
    "    delta_T = deltas[syllable - 1][1]\n",
    "    P_range = np.linspace(P_init - delta_P, P_init + delta_P, n)\n",
    "    T_range = np.linspace(T_init - delta_T, T_init + delta_T, n)\n",
    "    Spectrums = np.zeros((n, n, 129, 9)) # Hardcoded in a hurry\n",
    "    # Spectrums = np.load('Figures/spectrums_n'+str(n)+'.npy')\n",
    "    Z = np.zeros((n,n))\n",
    "    for i, P_alpha in tqdm(enumerate(P_range)):\n",
    "        for j, T_beta in enumerate(T_range):    \n",
    "            song = Syrinx(P_alpha, T_beta)\n",
    "            P_tr = Trachea(song)\n",
    "            (freqs, t, spectrum) = spectrogram(P_tr, fs=1/dt)\n",
    "            Spectrums[i, j] = spectrum\n",
    "#             spectrum = Spectrums[i, j]\n",
    "            Z[i, j] = compute_corr_coeff(spectrum, templateSpec)\n",
    "#     np.save('Figures/spectrums_n'+str(n), Spectrums)\n",
    "    return Z\n",
    "\n",
    "# def generate_gradient(templateSpec, n=256): # old function\n",
    "#     \"\"\" Generates the reward contour by simulating the song for each input combination\n",
    "#         and storing the similarity metric w.r.t. the target song. \"\"\"\n",
    "#     Spectrums = np.zeros((n, n, 129, 9)) # Hardcoded in a hurry\n",
    "#     # Spectrums = np.load('Figures/spectrums_n'+str(n)+'.npy')\n",
    "#     Z = np.zeros((n,n))\n",
    "#     for i in tqdm(np.arange(n)):\n",
    "#         for j in np.arange(n):\n",
    "#             P_alpha = i/n*0.2 #+ 0.0\n",
    "#             T_beta = j/n*1. #+ 0.0\n",
    "#             song = Syrinx(P_alpha, T_beta)\n",
    "#             P_tr = Trachea(song)\n",
    "#             (freqs, t, spectrum) = spectrogram(P_tr, fs=1/dt)\n",
    "#             Spectrums[i, j] = spectrum\n",
    "# #             spectrum = Spectrums[i, j]\n",
    "#             Z[i, j] = compute_corr_coeff(spectrum, templateSpec)\n",
    "# #     np.save('Figures/spectrums_n'+str(n), Spectrums)\n",
    "#     return Z"
   ]
  },
  {
   "cell_type": "code",
   "execution_count": 80,
   "metadata": {},
   "outputs": [],
   "source": [
    "# Assign target song\n",
    "# P_init = 0.05 # y axis\n",
    "# T_init = 0.3 # y axis\n",
    "\n",
    "init_vals = [[0.05, 0.3], # syllable 1\n",
    "             [0.05, 0.3], # syllable 2\n",
    "             [0.05, 0.3], # syllable 3\n",
    "             [0.00, 0.2]] # syllable 4\n",
    "\n",
    "P_init = init_vals[syllable - 1][0]\n",
    "T_init = init_vals[syllable - 1][1]\n",
    "\n",
    "# devaition for p and t of each syllable\n",
    "# 2nd value scales inversly in x axis\n",
    "deltas = [[0.1, 0.5], # syllable 1\n",
    "          [0.1, 0.5], # syllable 2\n",
    "          [1, 1], # syllable 3\n",
    "          [0.1, 0.3]] # syllable 4\n",
    "\n",
    "P_alpha = P_init\n",
    "T_beta = T_init \n",
    "\n",
    "templateSpec = create_template(P_alpha, T_beta)"
   ]
  },
  {
   "cell_type": "code",
   "execution_count": 81,
   "metadata": {},
   "outputs": [
    {
     "name": "stderr",
     "output_type": "stream",
     "text": [
      "10it [00:13,  1.34s/it]\n"
     ]
    }
   ],
   "source": [
    "# Generate reward contour based on similarity to assigned target song\n",
    "\n",
    "nZ = 10 # Specify resolution of performance landscape\n",
    "\n",
    "Z = generate_gradient(templateSpec, P_init, T_init, deltas, nZ)\n"
   ]
  },
  {
   "cell_type": "code",
   "execution_count": 82,
   "metadata": {},
   "outputs": [
    {
     "data": {
      "image/png": "[encoded data removed]",
      "text/plain": [
       "<Figure size 500x500 with 2 Axes>"
      ]
     },
     "metadata": {},
     "output_type": "display_data"
    }
   ],
   "source": [
    "# Normalise and plot contour\n",
    "# Z = np.load(f'contours/Syll{syllable}.npy')\n",
    "Z = Z/np.max(Z)\n",
    "figure = plt.figure(figsize=(5,5))\n",
    "ax = plt.subplot(frameon=False)\n",
    "\n",
    "# im = ax.imshow(Z , vmin=0, vmax=Z.max(), cmap='Purples', extent=[0, 0.1, 0, 0.02], aspect='auto')\n",
    "im = ax.imshow(Z , vmin=Z.min(), vmax=Z.max(), cmap='Purples', extent=[0, 1, 0, 1], aspect='auto')\n",
    "ax.invert_yaxis() \n",
    "\n",
    "# Display colorbar\n",
    "divider = make_axes_locatable(ax)\n",
    "cax = divider.append_axes('right', size='5%', pad=0.5)\n",
    "cbar = figure.colorbar(im, cax=cax)\n",
    "cbar.set_label('Performance metric (R)', rotation=270, fontsize=20, labelpad=25)\n",
    "ax.set_title(f'Syllable:{syllable}')\n",
    "\n",
    "# ax.spines['top'].set_visible(False)\n",
    "# ax.spines['right'].set_visible(False)\n",
    "plt.show()"
   ]
  },
  {
   "cell_type": "code",
   "execution_count": 83,
   "metadata": {},
   "outputs": [
    {
     "name": "stdout",
     "output_type": "stream",
     "text": [
      "Target position: [ 0.1015625 -0.140625 ]\n",
      "Target reward: 0.13196457499506034\n"
     ]
    }
   ],
   "source": [
    "import numpy as np\n",
    "from scipy.interpolate import RectBivariateSpline\n",
    "\n",
    "def make_contour(Z, n=256):\n",
    "    # Normalize\n",
    "    Z = Z / Z.max()\n",
    "\n",
    "    # Transform exponentially\n",
    "    Z = np.power(1000, Z)\n",
    "    Z = Z / Z.max()\n",
    "\n",
    "    # Original grid (careful: Z.shape[0] is rows -> y, Z.shape[1] is cols -> x)\n",
    "    x = np.linspace(0, 1., Z.shape[1])   # width / columns\n",
    "    y = np.linspace(0, .2, Z.shape[0])   # height / rows\n",
    "\n",
    "    # New grid\n",
    "    x2 = np.linspace(0, 1., n)\n",
    "    y2 = np.linspace(0, .2, n)\n",
    "\n",
    "    # Interpolator (cubic splines)\n",
    "    f = RectBivariateSpline(y, x, Z, kx=3, ky=3)\n",
    "    Z = f(y2, x2)  # Note: order is (y, x)\n",
    "\n",
    "    # Normalize again\n",
    "    Z = (Z - np.min(Z)) / (np.max(Z) - np.min(Z))\n",
    "    Z = Z / Z.max()\n",
    "\n",
    "    # Get target (location of max)\n",
    "    targetZpos = np.argwhere(Z == 1)[0]  # [row, col] = [y, x]\n",
    "\n",
    "    targetpos = np.zeros(2)\n",
    "    targetpos[0] = (targetZpos[1] / Z.shape[1]) * 2 - 1  # x in [-1, 1]\n",
    "    targetpos[1] = (targetZpos[0] / Z.shape[0]) * 2 - 1  # y in [-1, 1]\n",
    "\n",
    "    return Z, targetpos\n",
    "\n",
    "\n",
    "# ---- Test code ----\n",
    "contour, targetpos = make_contour(Z, 256)\n",
    "\n",
    "# reward function\n",
    "def syrinx_landscape(coordinates, n=256):\n",
    "    x, y = coordinates[0], coordinates[1]\n",
    "    x = max(min(x, 0.999), -1)\n",
    "    y = max(min(y, 0.999), -1)\n",
    "    xi = int((x + 1) / 2 * n)\n",
    "    yi = int((y + 1) / 2 * n)\n",
    "    return contour[yi, xi]  # NOTE: rows = y, cols = x\n",
    "\n",
    "print(f'Target position: {targetpos}')  \n",
    "print(f'Target reward: {syrinx_landscape([1,1])}')\n"
   ]
  },
  {
   "cell_type": "code",
   "execution_count": null,
   "metadata": {},
   "outputs": [],
   "source": []
  },
  {
   "cell_type": "code",
   "execution_count": 84,
   "metadata": {},
   "outputs": [
    {
     "data": {
      "image/png": "[encoded data removed]",
      "text/plain": [
       "<Figure size 640x480 with 2 Axes>"
      ]
     },
     "metadata": {},
     "output_type": "display_data"
    }
   ],
   "source": [
    "\n",
    "plt.figure()\n",
    "# Plot the contour lines on top of the imshow\n",
    "# cs = plt.contour(contour, cmap='Purples', extent=[-1, 1, -1, 1])\n",
    "# plt.imshow(contour, cmap='Purples', extent=[-1, 1, -1, 1], alpha=0.7)  # Adjust alpha for transparency\n",
    "# plt.colorbar().\n",
    "plt.contourf(contour, cmap='Purples', extent=[-1, 1, -1, 1], alpha=0.7)  # Adjust alpha for transparency\n",
    "plt.colorbar()\n",
    "plt.scatter(targetpos[0], targetpos[1], c='r', label='Target')\n",
    "# Title and labels\n",
    "plt.title(f'Syllable:{syllable} P_alpha:{P_init} T_beta:{T_init}')\n",
    "plt.xlabel(\"X-axis\")\n",
    "plt.ylabel(\"Y-axis\")\n",
    "plt.show()"
   ]
  },
  {
   "cell_type": "code",
   "execution_count": 85,
   "metadata": {},
   "outputs": [],
   "source": [
    "def find_peaks(array, threshold):\n",
    "    \"\"\"\n",
    "    Finds local maxima (peaks) in a 2D array exceeding a threshold.\n",
    "\n",
    "    Args:\n",
    "        array: The 2D array to search for peaks.\n",
    "        threshold: The minimum value to consider an element a peak.\n",
    "\n",
    "    Returns:\n",
    "        A list of tuples representing peak coordinates (row, col).\n",
    "    \"\"\"\n",
    "    peaks = []\n",
    "    rows, cols = array.shape\n",
    "\n",
    "    for i in range(rows):\n",
    "        for j in range(cols):\n",
    "            # Check for valid comparisons based on array boundaries\n",
    "            is_peak = True\n",
    "            if i > 0 and array[i][j] <= array[i-1][j]:\n",
    "                is_peak = False\n",
    "            if i < rows-1 and array[i][j] <= array[i+1][j]:\n",
    "                is_peak = False\n",
    "            if j > 0 and array[i][j] <= array[i][j-1]:\n",
    "                is_peak = False\n",
    "            if j < cols-1 and array[i][j] <= array[i][j+1]:\n",
    "                is_peak = False\n",
    "\n",
    "            # Only consider elements exceeding the threshold\n",
    "            if is_peak and array[i][j] >= threshold:\n",
    "                peaks.append((i, j))\n",
    "    return peaks"
   ]
  },
  {
   "cell_type": "code",
   "execution_count": 93,
   "metadata": {},
   "outputs": [
    {
     "name": "stdout",
     "output_type": "stream",
     "text": [
      "20\n",
      "Syllable: 1 peak heights\n",
      "Peak:1 0.13445651854507917 - [-0.9296875 -0.65625  ]\n",
      "Peak:2 0.15910331188885232 - [-0.9296875 -0.1953125]\n",
      "Peak:3 0.132030361286948 - [-0.90625 -1.     ]\n",
      "Peak:4 0.9816202227482766 - [-0.859375  0.328125]\n",
      "Peak:5 0.26736301529868595 - [-0.859375   0.8984375]\n",
      "Peak:6 0.1406659969389544 - [-0.2421875 -0.90625  ]\n",
      "Peak:7 0.15912517362534176 - [-0.2421875 -0.421875 ]\n",
      "Peak:8 0.16993863676397283 - [-0.171875  0.640625]\n",
      "Peak:9 1.0 - [-0.140625   0.1015625]\n",
      "Peak:10 0.1320495349426977 - [0.0625    0.9921875]\n",
      "Peak:11 0.13310681006513014 - [ 0.109375 -1.      ]\n",
      "Peak:12 0.16600945426262603 - [ 0.4609375 -0.6484375]\n",
      "Peak:13 0.1634945191322884 - [0.5078125 0.4140625]\n",
      "Peak:14 0.14198252056757318 - [0.5078125 0.8984375]\n",
      "Peak:15 0.9915486818037421 - [ 0.546875  -0.1171875]\n",
      "Peak:16 0.13210644942092092 - [ 0.6171875 -1.       ]\n",
      "Peak:17 0.22709110552896247 - [ 0.9921875 -0.90625  ]\n",
      "Peak:18 0.734572733104621 - [ 0.9921875 -0.328125 ]\n",
      "Peak:19 0.14403883015343416 - [0.9921875 0.1875   ]\n",
      "Peak:20 0.13301928828390214 - [0.9921875 0.640625 ]\n"
     ]
    },
    {
     "data": {
      "image/png": "[encoded data removed]",
      "text/plain": [
       "<Figure size 640x480 with 2 Axes>"
      ]
     },
     "metadata": {},
     "output_type": "display_data"
    }
   ],
   "source": [
    "# Recursively find peaks in sub-arrays (excluding center element)\n",
    "peaks = find_peaks(contour, 0.1)\n",
    "peaks = np.array(peaks)\n",
    "print(len(peaks))\n",
    "# print(f'Peaks: {np.array(peaks) / 128 - 1}')   \n",
    "print(f\"Syllable: {syllable} peak heights\")\n",
    "for i in range(len(peaks)):\n",
    "    print(f\"Peak:{i+1} {contour[peaks[i][0], peaks[i][1]]} - {np.array(peaks[i]) / 128 - 1}\")\n",
    "\n",
    "plt.figure()\n",
    "plt.contourf(contour, cmap='Purples', extent=[-1, 1, -1, 1], alpha=0.7)  # Adjust alpha for transparency\n",
    "plt.colorbar()\n",
    "plt.scatter(targetpos[0], targetpos[1], c='r', label='Target')\n",
    "plt.scatter([peak[1] / 256 * 2 - 1 for peak in peaks], [peak[0] / 256 * 2 - 1 for peak in peaks], c='g', label='Peaks')\n",
    "# Title and labels\n",
    "for i, peak in enumerate(peaks):\n",
    "    plt.text(peak[1] / 256 * 2 - 1, peak[0] / 256 * 2 - 1, f'{i}', fontsize=10, color='black', ha='center', va='center')\n",
    "plt.title(f'Syllable:{syllable} P_alpha:{P_init} T_beta:{T_init}')\n",
    "plt.xlabel(\"X-axis\")\n",
    "plt.ylabel(\"Y-axis\")\n",
    "plt.show()\n",
    "\n"
   ]
  },
  {
   "cell_type": "code",
   "execution_count": 87,
   "metadata": {},
   "outputs": [],
   "source": [
    "# swap values inside\n",
    "peak_coordinates = np.array(peaks) / 128 - 1\n",
    "peak_coordinates = peak_coordinates[:, ::-1]  # Swap x and y coordinates    "
   ]
  },
  {
   "cell_type": "code",
   "execution_count": 88,
   "metadata": {},
   "outputs": [
    {
     "data": {
      "text/plain": [
       "(0.05, 0.3)"
      ]
     },
     "execution_count": 88,
     "metadata": {},
     "output_type": "execute_result"
    }
   ],
   "source": [
    "P_init, T_init"
   ]
  },
  {
   "cell_type": "code",
   "execution_count": 89,
   "metadata": {},
   "outputs": [
    {
     "name": "stdout",
     "output_type": "stream",
     "text": [
      "Coord 0: [-0.65625   -0.9296875] | Height: 0.13445651854507917 | Delta: [0.07578125 0.39453125]\n",
      "Coord 1: [-0.1953125 -0.9296875] | Height: 0.15910331188885232 | Delta: [0.0296875  0.39453125]\n",
      "Coord 2: [-1.      -0.90625] | Height: 0.132030361286948 | Delta: [0.11015625 0.3828125 ]\n",
      "Coord 3: [ 0.328125 -0.859375] | Height: 0.9816202227482766 | Delta: [-0.02265625  0.359375  ]\n",
      "Coord 4: [ 0.8984375 -0.859375 ] | Height: 0.26736301529868595 | Delta: [-0.0796875  0.359375 ]\n",
      "Coord 5: [-0.90625   -0.2421875] | Height: 0.1406659969389544 | Delta: [0.10078125 0.05078125]\n",
      "Coord 6: [-0.421875  -0.2421875] | Height: 0.15912517362534176 | Delta: [0.05234375 0.05078125]\n",
      "Coord 7: [ 0.640625 -0.171875] | Height: 0.16993863676397283 | Delta: [-0.05390625  0.015625  ]\n",
      "Coord 8: [ 0.1015625 -0.140625 ] | Height: 1.0 | Delta: [0. 0.]\n",
      "Coord 9: [0.9921875 0.0625   ] | Height: 0.1320495349426977 | Delta: [-0.0890625 -0.1015625]\n",
      "Coord 10: [-1.        0.109375] | Height: 0.13310681006513014 | Delta: [ 0.11015625 -0.125     ]\n",
      "Coord 11: [-0.6484375  0.4609375] | Height: 0.16600945426262603 | Delta: [ 0.075      -0.30078125]\n",
      "Coord 12: [0.4140625 0.5078125] | Height: 0.1634945191322884 | Delta: [-0.03125    -0.32421875]\n",
      "Coord 13: [0.8984375 0.5078125] | Height: 0.14198252056757318 | Delta: [-0.0796875  -0.32421875]\n",
      "Coord 14: [-0.1171875  0.546875 ] | Height: 0.9915486818037421 | Delta: [ 0.021875 -0.34375 ]\n",
      "Coord 15: [-1.         0.6171875] | Height: 0.13210644942092092 | Delta: [ 0.11015625 -0.37890625]\n",
      "Coord 16: [-0.90625    0.9921875] | Height: 0.22709110552896247 | Delta: [ 0.10078125 -0.56640625]\n",
      "Coord 17: [-0.328125   0.9921875] | Height: 0.734572733104621 | Delta: [ 0.04296875 -0.56640625]\n",
      "Coord 18: [0.1875    0.9921875] | Height: 0.14403883015343416 | Delta: [-0.00859375 -0.56640625]\n",
      "Coord 19: [0.640625  0.9921875] | Height: 0.13301928828390214 | Delta: [-0.05390625 -0.56640625]\n"
     ]
    }
   ],
   "source": [
    "for i in range(len(peak_coordinates)):\n",
    "    print(f\"Coord {i}: {peak_coordinates[i]} | Height: {contour[peaks[i][0], peaks[i][1]]} | Delta: {deltas[syllable]*(targetpos - peak_coordinates[i])}\")"
   ]
  },
  {
   "cell_type": "code",
   "execution_count": 90,
   "metadata": {},
   "outputs": [
    {
     "name": "stdout",
     "output_type": "stream",
     "text": [
      "[[ 0.07578125  0.39453125]\n",
      " [ 0.0296875   0.39453125]\n",
      " [ 0.11015625  0.3828125 ]\n",
      " [-0.02265625  0.359375  ]\n",
      " [-0.0796875   0.359375  ]\n",
      " [ 0.10078125  0.05078125]\n",
      " [ 0.05234375  0.05078125]\n",
      " [-0.05390625  0.015625  ]\n",
      " [ 0.          0.        ]\n",
      " [-0.0890625  -0.1015625 ]\n",
      " [ 0.11015625 -0.125     ]\n",
      " [ 0.075      -0.30078125]\n",
      " [-0.03125    -0.32421875]\n",
      " [-0.0796875  -0.32421875]\n",
      " [ 0.021875   -0.34375   ]\n",
      " [ 0.11015625 -0.37890625]\n",
      " [ 0.10078125 -0.56640625]\n",
      " [ 0.04296875 -0.56640625]\n",
      " [-0.00859375 -0.56640625]\n",
      " [-0.05390625 -0.56640625]]\n"
     ]
    }
   ],
   "source": [
    "print(f\"{deltas[syllable]*(targetpos - peak_coordinates)}\") #+ (P_init,T_init)"
   ]
  },
  {
   "cell_type": "code",
   "execution_count": 91,
   "metadata": {},
   "outputs": [
    {
     "data": {
      "text/plain": [
       "array([[-0.65625  , -0.9296875],\n",
       "       [-0.1953125, -0.9296875],\n",
       "       [-1.       , -0.90625  ],\n",
       "       [ 0.328125 , -0.859375 ],\n",
       "       [ 0.8984375, -0.859375 ],\n",
       "       [-0.90625  , -0.2421875],\n",
       "       [-0.421875 , -0.2421875],\n",
       "       [ 0.640625 , -0.171875 ],\n",
       "       [ 0.1015625, -0.140625 ],\n",
       "       [ 0.9921875,  0.0625   ],\n",
       "       [-1.       ,  0.109375 ],\n",
       "       [-0.6484375,  0.4609375],\n",
       "       [ 0.4140625,  0.5078125],\n",
       "       [ 0.8984375,  0.5078125],\n",
       "       [-0.1171875,  0.546875 ],\n",
       "       [-1.       ,  0.6171875],\n",
       "       [-0.90625  ,  0.9921875],\n",
       "       [-0.328125 ,  0.9921875],\n",
       "       [ 0.1875   ,  0.9921875],\n",
       "       [ 0.640625 ,  0.9921875]])"
      ]
     },
     "execution_count": 91,
     "metadata": {},
     "output_type": "execute_result"
    }
   ],
   "source": [
    "peak_coordinates"
   ]
  },
  {
   "cell_type": "code",
   "execution_count": null,
   "metadata": {},
   "outputs": [],
   "source": []
  },
  {
   "cell_type": "code",
   "execution_count": 92,
   "metadata": {},
   "outputs": [],
   "source": [
    "# np.save(f'contours/Syll{syllable}.npy', Z)"
   ]
  }
 ],
 "metadata": {
  "kernelspec": {
   "display_name": "base",
   "language": "python",
   "name": "python3"
  },
  "language_info": {
   "codemirror_mode": {
    "name": "ipython",
    "version": 3
   },
   "file_extension": ".py",
   "mimetype": "text/x-python",
   "name": "python",
   "nbconvert_exporter": "python",
   "pygments_lexer": "ipython3",
   "version": "3.12.7"
  }
 },
 "nbformat": 4,
 "nbformat_minor": 2
}
